{
 "cells": [
  {
   "cell_type": "markdown",
   "metadata": {},
   "source": [
    "# mnist 손글씨"
   ]
  },
  {
   "cell_type": "markdown",
   "metadata": {},
   "source": [
    "## DNN"
   ]
  },
  {
   "cell_type": "code",
   "execution_count": 56,
   "metadata": {},
   "outputs": [],
   "source": [
    "import numpy as np\n",
    "import tensorflow as tf\n",
    "from tensorflow import keras\n",
    "from keras.datasets import mnist\n",
    "from tensorflow.keras.models import Sequential, load_model\n",
    "from tensorflow.keras.layers import Dense, Dropout, Flatten, Conv2D, MaxPooling2D\n",
    "from tensorflow.keras.callbacks import ModelCheckpoint, EarlyStopping\n",
    "\n",
    "import os\n",
    "import matplotlib.pyplot as plt\n",
    "%matplotlib inline"
   ]
  },
  {
   "cell_type": "code",
   "execution_count": 57,
   "metadata": {},
   "outputs": [],
   "source": [
    "seed = 2020\n",
    "np.random.seed(seed)\n",
    "tf.random.set_seed(seed)"
   ]
  },
  {
   "cell_type": "code",
   "execution_count": 19,
   "metadata": {},
   "outputs": [],
   "source": [
    "(x_train, y_train), (x_test, y_test) = mnist.load_data()"
   ]
  },
  {
   "cell_type": "code",
   "execution_count": 4,
   "metadata": {},
   "outputs": [],
   "source": [
    "from keras.utils import to_categorical"
   ]
  },
  {
   "cell_type": "code",
   "execution_count": 20,
   "metadata": {},
   "outputs": [],
   "source": [
    "x_train = x_train / 255.0\n",
    "x_test = x_test / 255.0\n",
    "y_train = to_categorical(y_train)\n",
    "y_test = to_categorical(y_test)"
   ]
  },
  {
   "cell_type": "code",
   "execution_count": 7,
   "metadata": {},
   "outputs": [
    {
     "data": {
      "text/plain": [
       "(60000, 28, 28)"
      ]
     },
     "execution_count": 7,
     "metadata": {},
     "output_type": "execute_result"
    }
   ],
   "source": [
    "x_train.shape"
   ]
  },
  {
   "cell_type": "code",
   "execution_count": 8,
   "metadata": {},
   "outputs": [
    {
     "data": {
      "text/plain": [
       "(60000, 10)"
      ]
     },
     "execution_count": 8,
     "metadata": {},
     "output_type": "execute_result"
    }
   ],
   "source": [
    "y_train.shape"
   ]
  },
  {
   "cell_type": "code",
   "execution_count": 9,
   "metadata": {},
   "outputs": [
    {
     "data": {
      "image/png": "[encoded data removed]",
      "text/plain": [
       "<Figure size 432x288 with 1 Axes>"
      ]
     },
     "metadata": {
      "needs_background": "light"
     },
     "output_type": "display_data"
    }
   ],
   "source": [
    "plt.imshow(x_train[0], cmap='Greys')\n",
    "plt.show()"
   ]
  },
  {
   "cell_type": "code",
   "execution_count": 10,
   "metadata": {},
   "outputs": [
    {
     "data": {
      "image/png": "[encoded data removed]",
      "text/plain": [
       "<Figure size 432x288 with 1 Axes>"
      ]
     },
     "metadata": {
      "needs_background": "light"
     },
     "output_type": "display_data"
    }
   ],
   "source": [
    "plt.imshow(x_train[1], cmap='Greys')\n",
    "plt.show()"
   ]
  },
  {
   "cell_type": "code",
   "execution_count": 11,
   "metadata": {},
   "outputs": [],
   "source": [
    "modell = keras.Sequential([keras.layers.Flatten(input_shape=(28, 28)),\n",
    "                         keras.layers.Dense(128, activation='relu'),\n",
    "                         keras.layers.Dense(10, activation='softmax')])"
   ]
  },
  {
   "cell_type": "code",
   "execution_count": 12,
   "metadata": {},
   "outputs": [],
   "source": [
    "modell .compile(optimizer='adam', loss='categorical_crossentropy',\n",
    "              metrics=['accuracy'])"
   ]
  },
  {
   "cell_type": "code",
   "execution_count": 13,
   "metadata": {},
   "outputs": [
    {
     "name": "stdout",
     "output_type": "stream",
     "text": [
      "Train on 60000 samples\n",
      "Epoch 1/50\n",
      "60000/60000 [==============================] - 2s 26us/sample - loss: 0.2790 - accuracy: 0.9207\n",
      "Epoch 2/50\n",
      "60000/60000 [==============================] - 1s 22us/sample - loss: 0.1258 - accuracy: 0.9637\n",
      "Epoch 3/50\n",
      "60000/60000 [==============================] - 1s 22us/sample - loss: 0.0871 - accuracy: 0.9744\n",
      "Epoch 4/50\n",
      "60000/60000 [==============================] - 1s 22us/sample - loss: 0.0656 - accuracy: 0.9804\n",
      "Epoch 5/50\n",
      "60000/60000 [==============================] - 1s 23us/sample - loss: 0.0514 - accuracy: 0.9847\n",
      "Epoch 6/50\n",
      "60000/60000 [==============================] - 1s 22us/sample - loss: 0.0410 - accuracy: 0.9879\n",
      "Epoch 7/50\n",
      "60000/60000 [==============================] - 1s 22us/sample - loss: 0.0326 - accuracy: 0.9906\n",
      "Epoch 8/50\n",
      "60000/60000 [==============================] - 1s 23us/sample - loss: 0.0266 - accuracy: 0.9919\n",
      "Epoch 9/50\n",
      "60000/60000 [==============================] - 1s 23us/sample - loss: 0.0217 - accuracy: 0.9934\n",
      "Epoch 10/50\n",
      "60000/60000 [==============================] - 1s 23us/sample - loss: 0.0170 - accuracy: 0.9951\n",
      "Epoch 11/50\n",
      "60000/60000 [==============================] - 1s 22us/sample - loss: 0.0148 - accuracy: 0.9962\n",
      "Epoch 12/50\n",
      "60000/60000 [==============================] - 1s 22us/sample - loss: 0.0139 - accuracy: 0.9958\n",
      "Epoch 13/50\n",
      "60000/60000 [==============================] - 1s 20us/sample - loss: 0.0107 - accuracy: 0.9973\n",
      "Epoch 14/50\n",
      "60000/60000 [==============================] - 1s 20us/sample - loss: 0.0102 - accuracy: 0.9972\n",
      "Epoch 15/50\n",
      "60000/60000 [==============================] - 1s 22us/sample - loss: 0.0083 - accuracy: 0.9977\n",
      "Epoch 16/50\n",
      "60000/60000 [==============================] - 1s 22us/sample - loss: 0.0073 - accuracy: 0.9981\n",
      "Epoch 17/50\n",
      "60000/60000 [==============================] - 1s 23us/sample - loss: 0.0067 - accuracy: 0.9980\n",
      "Epoch 18/50\n",
      "60000/60000 [==============================] - 1s 19us/sample - loss: 0.0071 - accuracy: 0.9979\n",
      "Epoch 19/50\n",
      "60000/60000 [==============================] - 1s 19us/sample - loss: 0.0063 - accuracy: 0.9982\n",
      "Epoch 20/50\n",
      "60000/60000 [==============================] - 1s 19us/sample - loss: 0.0040 - accuracy: 0.9990\n",
      "Epoch 21/50\n",
      "60000/60000 [==============================] - 1s 21us/sample - loss: 0.0042 - accuracy: 0.9988\n",
      "Epoch 22/50\n",
      "60000/60000 [==============================] - 1s 24us/sample - loss: 0.0065 - accuracy: 0.9979\n",
      "Epoch 23/50\n",
      "60000/60000 [==============================] - 1s 23us/sample - loss: 0.0037 - accuracy: 0.9991s - loss:\n",
      "Epoch 24/50\n",
      "60000/60000 [==============================] - 1s 22us/sample - loss: 0.0020 - accuracy: 0.9996\n",
      "Epoch 25/50\n",
      "60000/60000 [==============================] - 1s 22us/sample - loss: 0.0057 - accuracy: 0.9983\n",
      "Epoch 26/50\n",
      "60000/60000 [==============================] - 1s 22us/sample - loss: 0.0043 - accuracy: 0.9986\n",
      "Epoch 27/50\n",
      "60000/60000 [==============================] - ETA: 0s - loss: 0.0021 - accuracy: 0.99 - 1s 23us/sample - loss: 0.0021 - accuracy: 0.9995\n",
      "Epoch 28/50\n",
      "60000/60000 [==============================] - 1s 22us/sample - loss: 0.0035 - accuracy: 0.9990\n",
      "Epoch 29/50\n",
      "60000/60000 [==============================] - 1s 22us/sample - loss: 0.0056 - accuracy: 0.9981\n",
      "Epoch 30/50\n",
      "60000/60000 [==============================] - 1s 23us/sample - loss: 0.0025 - accuracy: 0.9992\n",
      "Epoch 31/50\n",
      "60000/60000 [==============================] - 1s 22us/sample - loss: 0.0032 - accuracy: 0.9988\n",
      "Epoch 32/50\n",
      "60000/60000 [==============================] - 1s 23us/sample - loss: 0.0049 - accuracy: 0.9984\n",
      "Epoch 33/50\n",
      "60000/60000 [==============================] - 1s 24us/sample - loss: 0.0033 - accuracy: 0.9990\n",
      "Epoch 34/50\n",
      "60000/60000 [==============================] - 1s 23us/sample - loss: 7.0696e-04 - accuracy: 1.0000\n",
      "Epoch 35/50\n",
      "60000/60000 [==============================] - 1s 20us/sample - loss: 1.3675e-04 - accuracy: 1.0000\n",
      "Epoch 36/50\n",
      "60000/60000 [==============================] - 1s 20us/sample - loss: 8.3864e-05 - accuracy: 1.0000\n",
      "Epoch 37/50\n",
      "60000/60000 [==============================] - 1s 21us/sample - loss: 8.5478e-05 - accuracy: 1.0000\n",
      "Epoch 38/50\n",
      "60000/60000 [==============================] - 1s 21us/sample - loss: 0.0096 - accuracy: 0.9973\n",
      "Epoch 39/50\n",
      "60000/60000 [==============================] - 1s 21us/sample - loss: 0.0015 - accuracy: 0.9996\n",
      "Epoch 40/50\n",
      "60000/60000 [==============================] - 1s 21us/sample - loss: 0.0034 - accuracy: 0.9990\n",
      "Epoch 41/50\n",
      "60000/60000 [==============================] - 1s 21us/sample - loss: 0.0032 - accuracy: 0.9990\n",
      "Epoch 42/50\n",
      "60000/60000 [==============================] - 1s 23us/sample - loss: 0.0030 - accuracy: 0.9991\n",
      "Epoch 43/50\n",
      "60000/60000 [==============================] - 1s 21us/sample - loss: 0.0016 - accuracy: 0.9996\n",
      "Epoch 44/50\n",
      "60000/60000 [==============================] - 1s 21us/sample - loss: 0.0032 - accuracy: 0.9990\n",
      "Epoch 45/50\n",
      "60000/60000 [==============================] - 1s 18us/sample - loss: 6.1674e-04 - accuracy: 0.9999\n",
      "Epoch 46/50\n",
      "60000/60000 [==============================] - 1s 21us/sample - loss: 0.0062 - accuracy: 0.9981\n",
      "Epoch 47/50\n",
      "60000/60000 [==============================] - 1s 20us/sample - loss: 0.0011 - accuracy: 0.9997\n",
      "Epoch 48/50\n",
      "60000/60000 [==============================] - 1s 20us/sample - loss: 0.0012 - accuracy: 0.9997\n",
      "Epoch 49/50\n",
      "60000/60000 [==============================] - 1s 21us/sample - loss: 0.0033 - accuracy: 0.9987\n",
      "Epoch 50/50\n",
      "60000/60000 [==============================] - 1s 23us/sample - loss: 0.0028 - accuracy: 0.9990\n"
     ]
    },
    {
     "data": {
      "text/plain": [
       "<tensorflow.python.keras.callbacks.History at 0x1bc3d0b5cc8>"
      ]
     },
     "execution_count": 13,
     "metadata": {},
     "output_type": "execute_result"
    }
   ],
   "source": [
    "modell.fit(x_train, y_train, epochs=50, batch_size=50)"
   ]
  },
  {
   "cell_type": "code",
   "execution_count": 14,
   "metadata": {},
   "outputs": [
    {
     "name": "stdout",
     "output_type": "stream",
     "text": [
      "10000/10000 - 0s - loss: 0.1579 - accuracy: 0.9768\n",
      "\n",
      " Test Accuracy : 0.9768\n"
     ]
    }
   ],
   "source": [
    "test_loss, test_acc = modell.evaluate(x_test, y_test, verbose=2)\n",
    "print('\\n Test Accuracy : %.4f' % (modell.evaluate(x_test, y_test, verbose=0)[1]))"
   ]
  },
  {
   "cell_type": "markdown",
   "metadata": {},
   "source": [
    "## CNN"
   ]
  },
  {
   "cell_type": "code",
   "execution_count": 58,
   "metadata": {},
   "outputs": [],
   "source": [
    "(x_train, y_train), (x_test, y_test) = mnist.load_data()"
   ]
  },
  {
   "cell_type": "code",
   "execution_count": 59,
   "metadata": {},
   "outputs": [],
   "source": [
    "x_train = x_train.reshape(-1, 28, 28, 1).astype('float32') / 255\n",
    "x_test = x_test.reshape(-1, 28, 28, 1).astype('float32') / 255\n",
    "y_train = tf.keras.utils.to_categorical(y_train)\n",
    "y_test = tf.keras.utils.to_categorical(y_test)"
   ]
  },
  {
   "cell_type": "code",
   "execution_count": 60,
   "metadata": {
    "scrolled": false
   },
   "outputs": [
    {
     "name": "stdout",
     "output_type": "stream",
     "text": [
      "Model: \"sequential_12\"\n",
      "_________________________________________________________________\n",
      "Layer (type)                 Output Shape              Param #   \n",
      "=================================================================\n",
      "conv2d_17 (Conv2D)           (None, 27, 27, 128)       640       \n",
      "_________________________________________________________________\n",
      "conv2d_18 (Conv2D)           (None, 26, 26, 64)        32832     \n",
      "_________________________________________________________________\n",
      "max_pooling2d_10 (MaxPooling (None, 13, 13, 64)        0         \n",
      "_________________________________________________________________\n",
      "dropout_9 (Dropout)          (None, 13, 13, 64)        0         \n",
      "_________________________________________________________________\n",
      "max_pooling2d_11 (MaxPooling (None, 6, 6, 64)          0         \n",
      "_________________________________________________________________\n",
      "dropout_10 (Dropout)         (None, 6, 6, 64)          0         \n",
      "_________________________________________________________________\n",
      "flatten_4 (Flatten)          (None, 2304)              0         \n",
      "_________________________________________________________________\n",
      "dense_10 (Dense)             (None, 64)                147520    \n",
      "_________________________________________________________________\n",
      "dropout_11 (Dropout)         (None, 64)                0         \n",
      "_________________________________________________________________\n",
      "dense_11 (Dense)             (None, 10)                650       \n",
      "=================================================================\n",
      "Total params: 181,642\n",
      "Trainable params: 181,642\n",
      "Non-trainable params: 0\n",
      "_________________________________________________________________\n"
     ]
    }
   ],
   "source": [
    "model = Sequential([\n",
    "    Conv2D(128, kernel_size=(2, 2), input_shape=(28, 28, 1), activation='relu'),\n",
    "    Conv2D(64, (2, 2), activation='relu'),\n",
    "    MaxPooling2D(pool_size=2),\n",
    "    Dropout(0.25),\n",
    "    MaxPooling2D(pool_size=2),\n",
    "    Dropout(0.3),\n",
    "    Flatten(),\n",
    "    Dense(64, activation='relu'),\n",
    "    Dropout(0.5),\n",
    "    Dense(10, activation='softmax')\n",
    "])\n",
    "model.summary()"
   ]
  },
  {
   "cell_type": "code",
   "execution_count": 61,
   "metadata": {},
   "outputs": [],
   "source": [
    "model.compile(loss='categorical_crossentropy',\n",
    "             optimizer='adam',\n",
    "             metrics=['accuracy'])"
   ]
  },
  {
   "cell_type": "code",
   "execution_count": 62,
   "metadata": {},
   "outputs": [],
   "source": [
    "# model.compile(loss=keras.losses.categorical_crossentropy,\n",
    "#              optimizer = keras.optimizers.Adam(),\n",
    "#              metrics=[keras.metrics.categorical_accuracy])"
   ]
  },
  {
   "cell_type": "code",
   "execution_count": 63,
   "metadata": {},
   "outputs": [],
   "source": [
    "MODEL_DIR = './model/'\n",
    "if not os.path.exists(MODEL_DIR):\n",
    "    os.mkdir(MODEL_DIR)"
   ]
  },
  {
   "cell_type": "code",
   "execution_count": 64,
   "metadata": {},
   "outputs": [],
   "source": [
    "modelpath = MODEL_DIR + 'mnist-cnn-{epoch:02d}-{val_loss:.4f}.hdf5'\n",
    "chekpointer = ModelCheckpoint(modelpath, verbose=1, save_best_only=True)\n",
    "early_stopping_cb = EarlyStopping(patience=10)"
   ]
  },
  {
   "cell_type": "code",
   "execution_count": 65,
   "metadata": {},
   "outputs": [
    {
     "name": "stdout",
     "output_type": "stream",
     "text": [
      "Train on 48000 samples, validate on 12000 samples\n",
      "Epoch 1/30\n",
      "47800/48000 [============================>.] - ETA: 0s - loss: 0.5692 - accuracy: 0.8176\n",
      "Epoch 00001: val_loss improved from inf to 0.13486, saving model to ./model/mnist-cnn-01-0.1349.hdf5\n",
      "48000/48000 [==============================] - 68s 1ms/sample - loss: 0.5681 - accuracy: 0.8179 - val_loss: 0.1349 - val_accuracy: 0.9682\n",
      "Epoch 2/30\n",
      "47800/48000 [============================>.] - ETA: 0s - loss: 0.2272 - accuracy: 0.9314\n",
      "Epoch 00002: val_loss improved from 0.13486 to 0.09528, saving model to ./model/mnist-cnn-02-0.0953.hdf5\n",
      "48000/48000 [==============================] - 68s 1ms/sample - loss: 0.2272 - accuracy: 0.9315 - val_loss: 0.0953 - val_accuracy: 0.9751\n",
      "Epoch 3/30\n",
      "47800/48000 [============================>.] - ETA: 0s - loss: 0.1733 - accuracy: 0.9484\n",
      "Epoch 00003: val_loss improved from 0.09528 to 0.07229, saving model to ./model/mnist-cnn-03-0.0723.hdf5\n",
      "48000/48000 [==============================] - 69s 1ms/sample - loss: 0.1734 - accuracy: 0.9484 - val_loss: 0.0723 - val_accuracy: 0.9803\n",
      "Epoch 4/30\n",
      "47800/48000 [============================>.] - ETA: 0s - loss: 0.1535 - accuracy: 0.9550\n",
      "Epoch 00004: val_loss improved from 0.07229 to 0.06463, saving model to ./model/mnist-cnn-04-0.0646.hdf5\n",
      "48000/48000 [==============================] - 66s 1ms/sample - loss: 0.1534 - accuracy: 0.9550 - val_loss: 0.0646 - val_accuracy: 0.9820\n",
      "Epoch 5/30\n",
      "47800/48000 [============================>.] - ETA: 0s - loss: 0.1365 - accuracy: 0.9585\n",
      "Epoch 00005: val_loss improved from 0.06463 to 0.05823, saving model to ./model/mnist-cnn-05-0.0582.hdf5\n",
      "48000/48000 [==============================] - 70s 1ms/sample - loss: 0.1362 - accuracy: 0.9586 - val_loss: 0.0582 - val_accuracy: 0.9831\n",
      "Epoch 6/30\n",
      "47800/48000 [============================>.] - ETA: 0s - loss: 0.1257 - accuracy: 0.9627\n",
      "Epoch 00006: val_loss improved from 0.05823 to 0.05449, saving model to ./model/mnist-cnn-06-0.0545.hdf5\n",
      "48000/48000 [==============================] - 69s 1ms/sample - loss: 0.1260 - accuracy: 0.9627 - val_loss: 0.0545 - val_accuracy: 0.9833\n",
      "Epoch 7/30\n",
      "47800/48000 [============================>.] - ETA: 0s - loss: 0.1154 - accuracy: 0.9650\n",
      "Epoch 00007: val_loss improved from 0.05449 to 0.05168, saving model to ./model/mnist-cnn-07-0.0517.hdf5\n",
      "48000/48000 [==============================] - 68s 1ms/sample - loss: 0.1152 - accuracy: 0.9651 - val_loss: 0.0517 - val_accuracy: 0.9843\n",
      "Epoch 8/30\n",
      "47800/48000 [============================>.] - ETA: 0s - loss: 0.1089 - accuracy: 0.9667\n",
      "Epoch 00008: val_loss improved from 0.05168 to 0.04893, saving model to ./model/mnist-cnn-08-0.0489.hdf5\n",
      "48000/48000 [==============================] - 67s 1ms/sample - loss: 0.1091 - accuracy: 0.9665 - val_loss: 0.0489 - val_accuracy: 0.9852\n",
      "Epoch 9/30\n",
      "47800/48000 [============================>.] - ETA: 0s - loss: 0.1038 - accuracy: 0.9681\n",
      "Epoch 00009: val_loss improved from 0.04893 to 0.04586, saving model to ./model/mnist-cnn-09-0.0459.hdf5\n",
      "48000/48000 [==============================] - 68s 1ms/sample - loss: 0.1036 - accuracy: 0.9681 - val_loss: 0.0459 - val_accuracy: 0.9867\n",
      "Epoch 10/30\n",
      "47800/48000 [============================>.] - ETA: 0s - loss: 0.0950 - accuracy: 0.9718\n",
      "Epoch 00010: val_loss improved from 0.04586 to 0.04205, saving model to ./model/mnist-cnn-10-0.0420.hdf5\n",
      "48000/48000 [==============================] - 66s 1ms/sample - loss: 0.0951 - accuracy: 0.9718 - val_loss: 0.0420 - val_accuracy: 0.9874\n",
      "Epoch 11/30\n",
      "47800/48000 [============================>.] - ETA: 0s - loss: 0.0946 - accuracy: 0.9715\n",
      "Epoch 00011: val_loss did not improve from 0.04205\n",
      "48000/48000 [==============================] - 67s 1ms/sample - loss: 0.0947 - accuracy: 0.9714 - val_loss: 0.0422 - val_accuracy: 0.9877\n",
      "Epoch 12/30\n",
      "47800/48000 [============================>.] - ETA: 0s - loss: 0.0940 - accuracy: 0.9716\n",
      "Epoch 00012: val_loss improved from 0.04205 to 0.04169, saving model to ./model/mnist-cnn-12-0.0417.hdf5\n",
      "48000/48000 [==============================] - 66s 1ms/sample - loss: 0.0939 - accuracy: 0.9717 - val_loss: 0.0417 - val_accuracy: 0.9874\n",
      "Epoch 13/30\n",
      "47800/48000 [============================>.] - ETA: 0s - loss: 0.0885 - accuracy: 0.9728\n",
      "Epoch 00013: val_loss improved from 0.04169 to 0.04122, saving model to ./model/mnist-cnn-13-0.0412.hdf5\n",
      "48000/48000 [==============================] - 67s 1ms/sample - loss: 0.0887 - accuracy: 0.9728 - val_loss: 0.0412 - val_accuracy: 0.9879\n",
      "Epoch 14/30\n",
      "47800/48000 [============================>.] - ETA: 0s - loss: 0.0878 - accuracy: 0.9720\n",
      "Epoch 00014: val_loss improved from 0.04122 to 0.03941, saving model to ./model/mnist-cnn-14-0.0394.hdf5\n",
      "48000/48000 [==============================] - 66s 1ms/sample - loss: 0.0878 - accuracy: 0.9721 - val_loss: 0.0394 - val_accuracy: 0.9887\n",
      "Epoch 15/30\n",
      "47800/48000 [============================>.] - ETA: 0s - loss: 0.0860 - accuracy: 0.9737\n",
      "Epoch 00015: val_loss improved from 0.03941 to 0.03907, saving model to ./model/mnist-cnn-15-0.0391.hdf5\n",
      "48000/48000 [==============================] - 67s 1ms/sample - loss: 0.0858 - accuracy: 0.9738 - val_loss: 0.0391 - val_accuracy: 0.9882\n",
      "Epoch 16/30\n",
      "47800/48000 [============================>.] - ETA: 0s - loss: 0.0821 - accuracy: 0.9758\n",
      "Epoch 00016: val_loss improved from 0.03907 to 0.03743, saving model to ./model/mnist-cnn-16-0.0374.hdf5\n",
      "48000/48000 [==============================] - 67s 1ms/sample - loss: 0.0821 - accuracy: 0.9757 - val_loss: 0.0374 - val_accuracy: 0.9892\n",
      "Epoch 17/30\n",
      "47800/48000 [============================>.] - ETA: 0s - loss: 0.0807 - accuracy: 0.9746\n",
      "Epoch 00017: val_loss did not improve from 0.03743\n",
      "48000/48000 [==============================] - 66s 1ms/sample - loss: 0.0806 - accuracy: 0.9747 - val_loss: 0.0399 - val_accuracy: 0.9885\n",
      "Epoch 18/30\n",
      "47800/48000 [============================>.] - ETA: 0s - loss: 0.0778 - accuracy: 0.9754\n",
      "Epoch 00018: val_loss improved from 0.03743 to 0.03705, saving model to ./model/mnist-cnn-18-0.0371.hdf5\n",
      "48000/48000 [==============================] - 67s 1ms/sample - loss: 0.0776 - accuracy: 0.9754 - val_loss: 0.0371 - val_accuracy: 0.9893\n",
      "Epoch 19/30\n",
      "47800/48000 [============================>.] - ETA: 0s - loss: 0.0763 - accuracy: 0.9756\n",
      "Epoch 00019: val_loss did not improve from 0.03705\n",
      "48000/48000 [==============================] - 67s 1ms/sample - loss: 0.0764 - accuracy: 0.9755 - val_loss: 0.0396 - val_accuracy: 0.9887\n",
      "Epoch 20/30\n",
      "47800/48000 [============================>.] - ETA: 0s - loss: 0.0738 - accuracy: 0.9761\n",
      "Epoch 00020: val_loss improved from 0.03705 to 0.03614, saving model to ./model/mnist-cnn-20-0.0361.hdf5\n",
      "48000/48000 [==============================] - 66s 1ms/sample - loss: 0.0738 - accuracy: 0.9761 - val_loss: 0.0361 - val_accuracy: 0.9892\n",
      "Epoch 21/30\n",
      "47800/48000 [============================>.] - ETA: 0s - loss: 0.0725 - accuracy: 0.9769\n",
      "Epoch 00021: val_loss did not improve from 0.03614\n",
      "48000/48000 [==============================] - 66s 1ms/sample - loss: 0.0724 - accuracy: 0.9769 - val_loss: 0.0376 - val_accuracy: 0.9889\n",
      "Epoch 22/30\n",
      "47800/48000 [============================>.] - ETA: 0s - loss: 0.0740 - accuracy: 0.9768\n",
      "Epoch 00022: val_loss did not improve from 0.03614\n",
      "48000/48000 [==============================] - 66s 1ms/sample - loss: 0.0742 - accuracy: 0.9768 - val_loss: 0.0376 - val_accuracy: 0.9898\n",
      "Epoch 23/30\n",
      "47800/48000 [============================>.] - ETA: 0s - loss: 0.0718 - accuracy: 0.9778\n",
      "Epoch 00023: val_loss did not improve from 0.03614\n",
      "48000/48000 [==============================] - 66s 1ms/sample - loss: 0.0718 - accuracy: 0.9778 - val_loss: 0.0387 - val_accuracy: 0.9887\n",
      "Epoch 24/30\n",
      "47800/48000 [============================>.] - ETA: 0s - loss: 0.0720 - accuracy: 0.9775\n",
      "Epoch 00024: val_loss did not improve from 0.03614\n",
      "48000/48000 [==============================] - 66s 1ms/sample - loss: 0.0721 - accuracy: 0.9775 - val_loss: 0.0401 - val_accuracy: 0.9887\n",
      "Epoch 25/30\n",
      "47800/48000 [============================>.] - ETA: 0s - loss: 0.0697 - accuracy: 0.9785\n",
      "Epoch 00025: val_loss did not improve from 0.03614\n",
      "48000/48000 [==============================] - 67s 1ms/sample - loss: 0.0699 - accuracy: 0.9784 - val_loss: 0.0366 - val_accuracy: 0.9895\n"
     ]
    },
    {
     "name": "stdout",
     "output_type": "stream",
     "text": [
      "Epoch 26/30\n",
      "47800/48000 [============================>.] - ETA: 0s - loss: 0.0686 - accuracy: 0.9785\n",
      "Epoch 00026: val_loss did not improve from 0.03614\n",
      "48000/48000 [==============================] - 67s 1ms/sample - loss: 0.0684 - accuracy: 0.9785 - val_loss: 0.0366 - val_accuracy: 0.9892\n",
      "Epoch 27/30\n",
      "47800/48000 [============================>.] - ETA: 0s - loss: 0.0678 - accuracy: 0.9781\n",
      "Epoch 00027: val_loss did not improve from 0.03614\n",
      "48000/48000 [==============================] - 67s 1ms/sample - loss: 0.0677 - accuracy: 0.9781 - val_loss: 0.0374 - val_accuracy: 0.9888\n",
      "Epoch 28/30\n",
      "47800/48000 [============================>.] - ETA: 0s - loss: 0.0658 - accuracy: 0.9787\n",
      "Epoch 00028: val_loss did not improve from 0.03614\n",
      "48000/48000 [==============================] - 68s 1ms/sample - loss: 0.0658 - accuracy: 0.9787 - val_loss: 0.0374 - val_accuracy: 0.9900\n",
      "Epoch 29/30\n",
      "47800/48000 [============================>.] - ETA: 0s - loss: 0.0644 - accuracy: 0.9792\n",
      "Epoch 00029: val_loss improved from 0.03614 to 0.03588, saving model to ./model/mnist-cnn-29-0.0359.hdf5\n",
      "48000/48000 [==============================] - 66s 1ms/sample - loss: 0.0644 - accuracy: 0.9791 - val_loss: 0.0359 - val_accuracy: 0.9897\n",
      "Epoch 30/30\n",
      "47800/48000 [============================>.] - ETA: 0s - loss: 0.0608 - accuracy: 0.9805\n",
      "Epoch 00030: val_loss improved from 0.03588 to 0.03527, saving model to ./model/mnist-cnn-30-0.0353.hdf5\n",
      "48000/48000 [==============================] - 68s 1ms/sample - loss: 0.0613 - accuracy: 0.9803 - val_loss: 0.0353 - val_accuracy: 0.9902\n"
     ]
    }
   ],
   "source": [
    "history = model.fit(x_train, y_train, validation_split=0.2, epochs=30, batch_size=200, callbacks=[chekpointer, early_stopping_cb])"
   ]
  },
  {
   "cell_type": "code",
   "execution_count": 66,
   "metadata": {},
   "outputs": [],
   "source": [
    "del model"
   ]
  },
  {
   "cell_type": "code",
   "execution_count": 67,
   "metadata": {},
   "outputs": [],
   "source": [
    "model = load_model('./model/mnist-cnn-30-0.0353.hdf5')"
   ]
  },
  {
   "cell_type": "code",
   "execution_count": 68,
   "metadata": {},
   "outputs": [
    {
     "data": {
      "text/plain": [
       "0.9906"
      ]
     },
     "execution_count": 68,
     "metadata": {},
     "output_type": "execute_result"
    }
   ],
   "source": [
    "model.evaluate(x_test, y_test, verbose=4)[1]"
   ]
  },
  {
   "cell_type": "code",
   "execution_count": 69,
   "metadata": {},
   "outputs": [],
   "source": [
    "y_vloss = history.history['val_loss']\n",
    "y_loss = history.history['loss']"
   ]
  },
  {
   "cell_type": "code",
   "execution_count": 70,
   "metadata": {},
   "outputs": [
    {
     "data": {
      "image/png": "[encoded data removed]",
      "text/plain": [
       "<Figure size 576x432 with 1 Axes>"
      ]
     },
     "metadata": {
      "needs_background": "light"
     },
     "output_type": "display_data"
    }
   ],
   "source": [
    "x_len = np.arange(1, len(y_loss)+1)\n",
    "plt.figure(figsize=(8,6))\n",
    "plt.plot(x_len, y_vloss, marker='.', c='red', label='Testset_loss')\n",
    "plt.plot(x_len, y_loss, marker='.', c='blue', label='Trainset_olss')\n",
    "\n",
    "plt.legend(loc='upper right')\n",
    "plt.grid()\n",
    "plt.xlabel('epoch')\n",
    "plt.ylabel('loss')\n",
    "plt.show()"
   ]
  },
  {
   "cell_type": "code",
   "execution_count": null,
   "metadata": {},
   "outputs": [],
   "source": []
  },
  {
   "cell_type": "code",
   "execution_count": null,
   "metadata": {},
   "outputs": [],
   "source": []
  },
  {
   "cell_type": "code",
   "execution_count": null,
   "metadata": {},
   "outputs": [],
   "source": []
  },
  {
   "cell_type": "code",
   "execution_count": null,
   "metadata": {},
   "outputs": [],
   "source": []
  },
  {
   "cell_type": "code",
   "execution_count": null,
   "metadata": {},
   "outputs": [],
   "source": []
  },
  {
   "cell_type": "code",
   "execution_count": null,
   "metadata": {},
   "outputs": [],
   "source": []
  },
  {
   "cell_type": "code",
   "execution_count": null,
   "metadata": {},
   "outputs": [],
   "source": []
  },
  {
   "cell_type": "code",
   "execution_count": null,
   "metadata": {},
   "outputs": [],
   "source": []
  },
  {
   "cell_type": "code",
   "execution_count": null,
   "metadata": {},
   "outputs": [],
   "source": []
  },
  {
   "cell_type": "code",
   "execution_count": null,
   "metadata": {},
   "outputs": [],
   "source": []
  },
  {
   "cell_type": "code",
   "execution_count": null,
   "metadata": {},
   "outputs": [],
   "source": []
  },
  {
   "cell_type": "code",
   "execution_count": null,
   "metadata": {},
   "outputs": [],
   "source": []
  },
  {
   "cell_type": "code",
   "execution_count": null,
   "metadata": {},
   "outputs": [],
   "source": []
  },
  {
   "cell_type": "code",
   "execution_count": null,
   "metadata": {},
   "outputs": [],
   "source": []
  },
  {
   "cell_type": "code",
   "execution_count": null,
   "metadata": {},
   "outputs": [],
   "source": []
  }
 ],
 "metadata": {
  "kernelspec": {
   "display_name": "Python 3",
   "language": "python",
   "name": "python3"
  },
  "language_info": {
   "codemirror_mode": {
    "name": "ipython",
    "version": 3
   },
   "file_extension": ".py",
   "mimetype": "text/x-python",
   "name": "python",
   "nbconvert_exporter": "python",
   "pygments_lexer": "ipython3",
   "version": "3.7.7"
  }
 },
 "nbformat": 4,
 "nbformat_minor": 4
}
