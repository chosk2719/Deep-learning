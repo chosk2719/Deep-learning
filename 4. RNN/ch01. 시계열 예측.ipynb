{
 "cells": [
  {
   "cell_type": "markdown",
   "metadata": {},
   "source": [
    "# 시계열 예측 문제\n",
    "- 사인파형 시계열을 입력으로 다음 스텝의 출력을 예측\n",
    "\n",
    "- 3개의 순서열을 입력한 후 출력값이 target과 일치하게 만듦"
   ]
  },
  {
   "cell_type": "code",
   "execution_count": 1,
   "metadata": {},
   "outputs": [],
   "source": [
    "import numpy as np\n",
    "import matplotlib.pyplot as plt\n",
    "%matplotlib inline"
   ]
  },
  {
   "cell_type": "code",
   "execution_count": 2,
   "metadata": {},
   "outputs": [
    {
     "data": {
      "image/png": "[encoded data removed]",
      "text/plain": [
       "<Figure size 432x288 with 1 Axes>"
      ]
     },
     "metadata": {
      "needs_background": "light"
     },
     "output_type": "display_data"
    }
   ],
   "source": [
    "s = np.sin(2 * np.pi * 0.125 * np.arange(20))\n",
    "plt.plot(s, 'ro-')\n",
    "plt.xlim(-0.5, 20.5)\n",
    "plt.ylim(-1.1, 1.1)\n",
    "plt.show()"
   ]
  },
  {
   "cell_type": "markdown",
   "metadata": {},
   "source": [
    "## 원래의 시계열 벡터를 Toeplitz 행렬 형태로 변환\n"
   ]
  },
  {
   "cell_type": "markdown",
   "metadata": {},
   "source": [
    "### (대각선 위의 성분들이 같은 정사각 행렬)\n"
   ]
  },
  {
   "cell_type": "code",
   "execution_count": 3,
   "metadata": {},
   "outputs": [
    {
     "data": {
      "text/plain": [
       "array([[ 0.00000000e+00,  7.07106781e-01,  1.00000000e+00],\n",
       "       [ 7.07106781e-01,  1.00000000e+00,  7.07106781e-01],\n",
       "       [ 1.00000000e+00,  7.07106781e-01,  1.22464680e-16],\n",
       "       [ 7.07106781e-01,  1.22464680e-16, -7.07106781e-01],\n",
       "       [ 1.22464680e-16, -7.07106781e-01, -1.00000000e+00]])"
      ]
     },
     "execution_count": 3,
     "metadata": {},
     "output_type": "execute_result"
    }
   ],
   "source": [
    "from scipy.linalg import toeplitz\n",
    "S = np.fliplr(toeplitz(np.r_[s[-1], np.zeros(s.shape[0] - 2)], s[::-1]))\n",
    "S[:5, :3]"
   ]
  },
  {
   "cell_type": "code",
   "execution_count": 4,
   "metadata": {
    "scrolled": true
   },
   "outputs": [
    {
     "data": {
      "text/plain": [
       "array([[ 0.00000000e+00,  7.07106781e-01,  1.00000000e+00,\n",
       "         7.07106781e-01,  1.22464680e-16, -7.07106781e-01,\n",
       "        -1.00000000e+00, -7.07106781e-01, -2.44929360e-16,\n",
       "         7.07106781e-01,  1.00000000e+00,  7.07106781e-01,\n",
       "         3.67394040e-16, -7.07106781e-01, -1.00000000e+00,\n",
       "        -7.07106781e-01, -4.89858720e-16,  7.07106781e-01,\n",
       "         1.00000000e+00,  7.07106781e-01],\n",
       "       [ 7.07106781e-01,  1.00000000e+00,  7.07106781e-01,\n",
       "         1.22464680e-16, -7.07106781e-01, -1.00000000e+00,\n",
       "        -7.07106781e-01, -2.44929360e-16,  7.07106781e-01,\n",
       "         1.00000000e+00,  7.07106781e-01,  3.67394040e-16,\n",
       "        -7.07106781e-01, -1.00000000e+00, -7.07106781e-01,\n",
       "        -4.89858720e-16,  7.07106781e-01,  1.00000000e+00,\n",
       "         7.07106781e-01,  0.00000000e+00],\n",
       "       [ 1.00000000e+00,  7.07106781e-01,  1.22464680e-16,\n",
       "        -7.07106781e-01, -1.00000000e+00, -7.07106781e-01,\n",
       "        -2.44929360e-16,  7.07106781e-01,  1.00000000e+00,\n",
       "         7.07106781e-01,  3.67394040e-16, -7.07106781e-01,\n",
       "        -1.00000000e+00, -7.07106781e-01, -4.89858720e-16,\n",
       "         7.07106781e-01,  1.00000000e+00,  7.07106781e-01,\n",
       "         0.00000000e+00,  0.00000000e+00],\n",
       "       [ 7.07106781e-01,  1.22464680e-16, -7.07106781e-01,\n",
       "        -1.00000000e+00, -7.07106781e-01, -2.44929360e-16,\n",
       "         7.07106781e-01,  1.00000000e+00,  7.07106781e-01,\n",
       "         3.67394040e-16, -7.07106781e-01, -1.00000000e+00,\n",
       "        -7.07106781e-01, -4.89858720e-16,  7.07106781e-01,\n",
       "         1.00000000e+00,  7.07106781e-01,  0.00000000e+00,\n",
       "         0.00000000e+00,  0.00000000e+00],\n",
       "       [ 1.22464680e-16, -7.07106781e-01, -1.00000000e+00,\n",
       "        -7.07106781e-01, -2.44929360e-16,  7.07106781e-01,\n",
       "         1.00000000e+00,  7.07106781e-01,  3.67394040e-16,\n",
       "        -7.07106781e-01, -1.00000000e+00, -7.07106781e-01,\n",
       "        -4.89858720e-16,  7.07106781e-01,  1.00000000e+00,\n",
       "         7.07106781e-01,  0.00000000e+00,  0.00000000e+00,\n",
       "         0.00000000e+00,  0.00000000e+00],\n",
       "       [-7.07106781e-01, -1.00000000e+00, -7.07106781e-01,\n",
       "        -2.44929360e-16,  7.07106781e-01,  1.00000000e+00,\n",
       "         7.07106781e-01,  3.67394040e-16, -7.07106781e-01,\n",
       "        -1.00000000e+00, -7.07106781e-01, -4.89858720e-16,\n",
       "         7.07106781e-01,  1.00000000e+00,  7.07106781e-01,\n",
       "         0.00000000e+00,  0.00000000e+00,  0.00000000e+00,\n",
       "         0.00000000e+00,  0.00000000e+00],\n",
       "       [-1.00000000e+00, -7.07106781e-01, -2.44929360e-16,\n",
       "         7.07106781e-01,  1.00000000e+00,  7.07106781e-01,\n",
       "         3.67394040e-16, -7.07106781e-01, -1.00000000e+00,\n",
       "        -7.07106781e-01, -4.89858720e-16,  7.07106781e-01,\n",
       "         1.00000000e+00,  7.07106781e-01,  0.00000000e+00,\n",
       "         0.00000000e+00,  0.00000000e+00,  0.00000000e+00,\n",
       "         0.00000000e+00,  0.00000000e+00],\n",
       "       [-7.07106781e-01, -2.44929360e-16,  7.07106781e-01,\n",
       "         1.00000000e+00,  7.07106781e-01,  3.67394040e-16,\n",
       "        -7.07106781e-01, -1.00000000e+00, -7.07106781e-01,\n",
       "        -4.89858720e-16,  7.07106781e-01,  1.00000000e+00,\n",
       "         7.07106781e-01,  0.00000000e+00,  0.00000000e+00,\n",
       "         0.00000000e+00,  0.00000000e+00,  0.00000000e+00,\n",
       "         0.00000000e+00,  0.00000000e+00],\n",
       "       [-2.44929360e-16,  7.07106781e-01,  1.00000000e+00,\n",
       "         7.07106781e-01,  3.67394040e-16, -7.07106781e-01,\n",
       "        -1.00000000e+00, -7.07106781e-01, -4.89858720e-16,\n",
       "         7.07106781e-01,  1.00000000e+00,  7.07106781e-01,\n",
       "         0.00000000e+00,  0.00000000e+00,  0.00000000e+00,\n",
       "         0.00000000e+00,  0.00000000e+00,  0.00000000e+00,\n",
       "         0.00000000e+00,  0.00000000e+00],\n",
       "       [ 7.07106781e-01,  1.00000000e+00,  7.07106781e-01,\n",
       "         3.67394040e-16, -7.07106781e-01, -1.00000000e+00,\n",
       "        -7.07106781e-01, -4.89858720e-16,  7.07106781e-01,\n",
       "         1.00000000e+00,  7.07106781e-01,  0.00000000e+00,\n",
       "         0.00000000e+00,  0.00000000e+00,  0.00000000e+00,\n",
       "         0.00000000e+00,  0.00000000e+00,  0.00000000e+00,\n",
       "         0.00000000e+00,  0.00000000e+00],\n",
       "       [ 1.00000000e+00,  7.07106781e-01,  3.67394040e-16,\n",
       "        -7.07106781e-01, -1.00000000e+00, -7.07106781e-01,\n",
       "        -4.89858720e-16,  7.07106781e-01,  1.00000000e+00,\n",
       "         7.07106781e-01,  0.00000000e+00,  0.00000000e+00,\n",
       "         0.00000000e+00,  0.00000000e+00,  0.00000000e+00,\n",
       "         0.00000000e+00,  0.00000000e+00,  0.00000000e+00,\n",
       "         0.00000000e+00,  0.00000000e+00],\n",
       "       [ 7.07106781e-01,  3.67394040e-16, -7.07106781e-01,\n",
       "        -1.00000000e+00, -7.07106781e-01, -4.89858720e-16,\n",
       "         7.07106781e-01,  1.00000000e+00,  7.07106781e-01,\n",
       "         0.00000000e+00,  0.00000000e+00,  0.00000000e+00,\n",
       "         0.00000000e+00,  0.00000000e+00,  0.00000000e+00,\n",
       "         0.00000000e+00,  0.00000000e+00,  0.00000000e+00,\n",
       "         0.00000000e+00,  0.00000000e+00],\n",
       "       [ 3.67394040e-16, -7.07106781e-01, -1.00000000e+00,\n",
       "        -7.07106781e-01, -4.89858720e-16,  7.07106781e-01,\n",
       "         1.00000000e+00,  7.07106781e-01,  0.00000000e+00,\n",
       "         0.00000000e+00,  0.00000000e+00,  0.00000000e+00,\n",
       "         0.00000000e+00,  0.00000000e+00,  0.00000000e+00,\n",
       "         0.00000000e+00,  0.00000000e+00,  0.00000000e+00,\n",
       "         0.00000000e+00,  0.00000000e+00],\n",
       "       [-7.07106781e-01, -1.00000000e+00, -7.07106781e-01,\n",
       "        -4.89858720e-16,  7.07106781e-01,  1.00000000e+00,\n",
       "         7.07106781e-01,  0.00000000e+00,  0.00000000e+00,\n",
       "         0.00000000e+00,  0.00000000e+00,  0.00000000e+00,\n",
       "         0.00000000e+00,  0.00000000e+00,  0.00000000e+00,\n",
       "         0.00000000e+00,  0.00000000e+00,  0.00000000e+00,\n",
       "         0.00000000e+00,  0.00000000e+00],\n",
       "       [-1.00000000e+00, -7.07106781e-01, -4.89858720e-16,\n",
       "         7.07106781e-01,  1.00000000e+00,  7.07106781e-01,\n",
       "         0.00000000e+00,  0.00000000e+00,  0.00000000e+00,\n",
       "         0.00000000e+00,  0.00000000e+00,  0.00000000e+00,\n",
       "         0.00000000e+00,  0.00000000e+00,  0.00000000e+00,\n",
       "         0.00000000e+00,  0.00000000e+00,  0.00000000e+00,\n",
       "         0.00000000e+00,  0.00000000e+00],\n",
       "       [-7.07106781e-01, -4.89858720e-16,  7.07106781e-01,\n",
       "         1.00000000e+00,  7.07106781e-01,  0.00000000e+00,\n",
       "         0.00000000e+00,  0.00000000e+00,  0.00000000e+00,\n",
       "         0.00000000e+00,  0.00000000e+00,  0.00000000e+00,\n",
       "         0.00000000e+00,  0.00000000e+00,  0.00000000e+00,\n",
       "         0.00000000e+00,  0.00000000e+00,  0.00000000e+00,\n",
       "         0.00000000e+00,  0.00000000e+00],\n",
       "       [-4.89858720e-16,  7.07106781e-01,  1.00000000e+00,\n",
       "         7.07106781e-01,  0.00000000e+00,  0.00000000e+00,\n",
       "         0.00000000e+00,  0.00000000e+00,  0.00000000e+00,\n",
       "         0.00000000e+00,  0.00000000e+00,  0.00000000e+00,\n",
       "         0.00000000e+00,  0.00000000e+00,  0.00000000e+00,\n",
       "         0.00000000e+00,  0.00000000e+00,  0.00000000e+00,\n",
       "         0.00000000e+00,  0.00000000e+00],\n",
       "       [ 7.07106781e-01,  1.00000000e+00,  7.07106781e-01,\n",
       "         0.00000000e+00,  0.00000000e+00,  0.00000000e+00,\n",
       "         0.00000000e+00,  0.00000000e+00,  0.00000000e+00,\n",
       "         0.00000000e+00,  0.00000000e+00,  0.00000000e+00,\n",
       "         0.00000000e+00,  0.00000000e+00,  0.00000000e+00,\n",
       "         0.00000000e+00,  0.00000000e+00,  0.00000000e+00,\n",
       "         0.00000000e+00,  0.00000000e+00],\n",
       "       [ 1.00000000e+00,  7.07106781e-01,  0.00000000e+00,\n",
       "         0.00000000e+00,  0.00000000e+00,  0.00000000e+00,\n",
       "         0.00000000e+00,  0.00000000e+00,  0.00000000e+00,\n",
       "         0.00000000e+00,  0.00000000e+00,  0.00000000e+00,\n",
       "         0.00000000e+00,  0.00000000e+00,  0.00000000e+00,\n",
       "         0.00000000e+00,  0.00000000e+00,  0.00000000e+00,\n",
       "         0.00000000e+00,  0.00000000e+00]])"
      ]
     },
     "execution_count": 4,
     "metadata": {},
     "output_type": "execute_result"
    }
   ],
   "source": [
    "S"
   ]
  },
  {
   "cell_type": "code",
   "execution_count": 5,
   "metadata": {},
   "outputs": [
    {
     "data": {
      "text/plain": [
       "((18, 3, 1), (18,))"
      ]
     },
     "execution_count": 5,
     "metadata": {},
     "output_type": "execute_result"
    }
   ],
   "source": [
    "X_train = S[:-1, :3][:, :, np.newaxis]\n",
    "Y_train = S[:-1, 3]\n",
    "X_train.shape, Y_train.shape"
   ]
  },
  {
   "cell_type": "code",
   "execution_count": 6,
   "metadata": {},
   "outputs": [
    {
     "data": {
      "text/plain": [
       "array([[[ 0.00000000e+00],\n",
       "        [ 7.07106781e-01],\n",
       "        [ 1.00000000e+00]],\n",
       "\n",
       "       [[ 7.07106781e-01],\n",
       "        [ 1.00000000e+00],\n",
       "        [ 7.07106781e-01]],\n",
       "\n",
       "       [[ 1.00000000e+00],\n",
       "        [ 7.07106781e-01],\n",
       "        [ 1.22464680e-16]],\n",
       "\n",
       "       [[ 7.07106781e-01],\n",
       "        [ 1.22464680e-16],\n",
       "        [-7.07106781e-01]]])"
      ]
     },
     "execution_count": 6,
     "metadata": {},
     "output_type": "execute_result"
    }
   ],
   "source": [
    "X_train[:4]"
   ]
  },
  {
   "cell_type": "code",
   "execution_count": 7,
   "metadata": {},
   "outputs": [
    {
     "data": {
      "text/plain": [
       "array([ 7.07106781e-01,  1.22464680e-16, -7.07106781e-01, -1.00000000e+00])"
      ]
     },
     "execution_count": 7,
     "metadata": {},
     "output_type": "execute_result"
    }
   ],
   "source": [
    "Y_train[:4]"
   ]
  },
  {
   "cell_type": "code",
   "execution_count": 8,
   "metadata": {},
   "outputs": [
    {
     "data": {
      "image/png": "[encoded data removed]",
      "text/plain": [
       "<Figure size 720x432 with 2 Axes>"
      ]
     },
     "metadata": {
      "needs_background": "light"
     },
     "output_type": "display_data"
    }
   ],
   "source": [
    "plt.figure(figsize=(10,6))\n",
    "\n",
    "plt.subplot(211)\n",
    "plt.plot([0, 1, 2], X_train[0].flatten(), 'bo-', label=\"input sequence\")\n",
    "plt.plot([3], Y_train[0], 'ro', label=\"target\")\n",
    "plt.xlim(-0.5, 4.5)\n",
    "plt.ylim(-1.1, 1.1)\n",
    "plt.legend()\n",
    "plt.grid()\n",
    "plt.title(\"First sample sequence\")\n",
    "\n",
    "plt.subplot(212)\n",
    "plt.plot([1, 2, 3], X_train[1].flatten(), 'bo-', label=\"input sequence\")\n",
    "plt.plot([4], Y_train[1], 'ro', label=\"target\")\n",
    "plt.xlim(-0.5, 4.5)\n",
    "plt.ylim(-1.1, 1.1)\n",
    "plt.legend()\n",
    "plt.grid()\n",
    "plt.title(\"Second sample sequence\")\n",
    "\n",
    "plt.tight_layout()\n",
    "plt.show()"
   ]
  },
  {
   "cell_type": "markdown",
   "metadata": {},
   "source": [
    "## RNN으로 해결 - SimpleRNN() 사용"
   ]
  },
  {
   "cell_type": "code",
   "execution_count": 9,
   "metadata": {},
   "outputs": [
    {
     "name": "stderr",
     "output_type": "stream",
     "text": [
      "Using TensorFlow backend.\n"
     ]
    }
   ],
   "source": [
    "from tensorflow import keras\n",
    "from keras.models import Sequential\n",
    "from keras.layers import SimpleRNN, Dense\n",
    "\n",
    "seed = 2020\n",
    "np.random.seed(seed)"
   ]
  },
  {
   "cell_type": "code",
   "execution_count": 10,
   "metadata": {},
   "outputs": [
    {
     "name": "stdout",
     "output_type": "stream",
     "text": [
      "Model: \"sequential_1\"\n",
      "_________________________________________________________________\n",
      "Layer (type)                 Output Shape              Param #   \n",
      "=================================================================\n",
      "simple_rnn_1 (SimpleRNN)     (None, 10)                120       \n",
      "_________________________________________________________________\n",
      "dense_1 (Dense)              (None, 1)                 11        \n",
      "=================================================================\n",
      "Total params: 131\n",
      "Trainable params: 131\n",
      "Non-trainable params: 0\n",
      "_________________________________________________________________\n"
     ]
    }
   ],
   "source": [
    "model = Sequential()\n",
    "model.add(SimpleRNN(10, input_shape=(3, 1)))\n",
    "model.add(Dense(1, activation=\"linear\"))\n",
    "model.summary()"
   ]
  },
  {
   "cell_type": "code",
   "execution_count": null,
   "metadata": {},
   "outputs": [],
   "source": [
    "model.compile(loss='mse', optimizer='sgd')"
   ]
  },
  {
   "cell_type": "code",
   "execution_count": 22,
   "metadata": {},
   "outputs": [
    {
     "data": {
      "image/png": "[encoded data removed]",
      "text/plain": [
       "<Figure size 432x288 with 1 Axes>"
      ]
     },
     "metadata": {
      "needs_background": "light"
     },
     "output_type": "display_data"
    }
   ],
   "source": [
    "plt.plot(Y_train, 'ro-', label=\"target\")\n",
    "plt.plot(model.predict(X_train[:, :, :]), 'bs-', label=\"output\")\n",
    "plt.xlim(-0.5, 20.5)\n",
    "plt.ylim(-1.1, 1.1)\n",
    "plt.legend()\n",
    "plt.title(\"Before training\")\n",
    "plt.show()"
   ]
  },
  {
   "cell_type": "code",
   "execution_count": 18,
   "metadata": {},
   "outputs": [
    {
     "name": "stdout",
     "output_type": "stream",
     "text": [
      "Epoch 1/100\n",
      "18/18 [==============================] - 0s 54us/step - loss: 9.1439e-04\n",
      "Epoch 2/100\n",
      "18/18 [==============================] - 0s 111us/step - loss: 8.8006e-04\n",
      "Epoch 3/100\n",
      "18/18 [==============================] - 0s 55us/step - loss: 8.4803e-04\n",
      "Epoch 4/100\n",
      "18/18 [==============================] - 0s 55us/step - loss: 8.1816e-04\n",
      "Epoch 5/100\n",
      "18/18 [==============================] - 0s 55us/step - loss: 7.9030e-04\n",
      "Epoch 6/100\n",
      "18/18 [==============================] - 0s 57us/step - loss: 7.6432e-04\n",
      "Epoch 7/100\n",
      "18/18 [==============================] - 0s 55us/step - loss: 7.4009e-04\n",
      "Epoch 8/100\n",
      "18/18 [==============================] - 0s 55us/step - loss: 7.1748e-04\n",
      "Epoch 9/100\n",
      "18/18 [==============================] - 0s 55us/step - loss: 6.9640e-04\n",
      "Epoch 10/100\n",
      "18/18 [==============================] - 0s 55us/step - loss: 6.7673e-04\n",
      "Epoch 11/100\n",
      "18/18 [==============================] - 0s 55us/step - loss: 6.5838e-04\n",
      "Epoch 12/100\n",
      "18/18 [==============================] - 0s 54us/step - loss: 6.4127e-04\n",
      "Epoch 13/100\n",
      "18/18 [==============================] - 0s 55us/step - loss: 6.2530e-04\n",
      "Epoch 14/100\n",
      "18/18 [==============================] - 0s 55us/step - loss: 6.1041e-04\n",
      "Epoch 15/100\n",
      "18/18 [==============================] - 0s 54us/step - loss: 5.9651e-04\n",
      "Epoch 16/100\n",
      "18/18 [==============================] - 0s 55us/step - loss: 5.8355e-04\n",
      "Epoch 17/100\n",
      "18/18 [==============================] - 0s 55us/step - loss: 5.7145e-04\n",
      "Epoch 18/100\n",
      "18/18 [==============================] - 0s 55us/step - loss: 5.6016e-04\n",
      "Epoch 19/100\n",
      "18/18 [==============================] - 0s 54us/step - loss: 5.4962e-04\n",
      "Epoch 20/100\n",
      "18/18 [==============================] - 0s 111us/step - loss: 5.3979e-04\n",
      "Epoch 21/100\n",
      "18/18 [==============================] - 0s 55us/step - loss: 5.3061e-04\n",
      "Epoch 22/100\n",
      "18/18 [==============================] - 0s 55us/step - loss: 5.2204e-04\n",
      "Epoch 23/100\n",
      "18/18 [==============================] - 0s 55us/step - loss: 5.1404e-04\n",
      "Epoch 24/100\n",
      "18/18 [==============================] - 0s 55us/step - loss: 5.0656e-04\n",
      "Epoch 25/100\n",
      "18/18 [==============================] - 0s 55us/step - loss: 4.9959e-04\n",
      "Epoch 26/100\n",
      "18/18 [==============================] - 0s 55us/step - loss: 4.9307e-04\n",
      "Epoch 27/100\n",
      "18/18 [==============================] - 0s 111us/step - loss: 4.8698e-04\n",
      "Epoch 28/100\n",
      "18/18 [==============================] - 0s 55us/step - loss: 4.8129e-04\n",
      "Epoch 29/100\n",
      "18/18 [==============================] - 0s 111us/step - loss: 4.7597e-04\n",
      "Epoch 30/100\n",
      "18/18 [==============================] - 0s 55us/step - loss: 4.7100e-04\n",
      "Epoch 31/100\n",
      "18/18 [==============================] - 0s 55us/step - loss: 4.6636e-04\n",
      "Epoch 32/100\n",
      "18/18 [==============================] - 0s 111us/step - loss: 4.6201e-04\n",
      "Epoch 33/100\n",
      "18/18 [==============================] - 0s 55us/step - loss: 4.5795e-04\n",
      "Epoch 34/100\n",
      "18/18 [==============================] - 0s 55us/step - loss: 4.5415e-04\n",
      "Epoch 35/100\n",
      "18/18 [==============================] - 0s 54us/step - loss: 4.5059e-04\n",
      "Epoch 36/100\n",
      "18/18 [==============================] - 0s 55us/step - loss: 4.4726e-04\n",
      "Epoch 37/100\n",
      "18/18 [==============================] - 0s 55us/step - loss: 4.4414e-04\n",
      "Epoch 38/100\n",
      "18/18 [==============================] - 0s 57us/step - loss: 4.4121e-04\n",
      "Epoch 39/100\n",
      "18/18 [==============================] - 0s 55us/step - loss: 4.3847e-04\n",
      "Epoch 40/100\n",
      "18/18 [==============================] - 0s 54us/step - loss: 4.3591e-04\n",
      "Epoch 41/100\n",
      "18/18 [==============================] - 0s 56us/step - loss: 4.3350e-04\n",
      "Epoch 42/100\n",
      "18/18 [==============================] - 0s 110us/step - loss: 4.3124e-04\n",
      "Epoch 43/100\n",
      "18/18 [==============================] - 0s 111us/step - loss: 4.2912e-04\n",
      "Epoch 44/100\n",
      "18/18 [==============================] - 0s 57us/step - loss: 4.2713e-04\n",
      "Epoch 45/100\n",
      "18/18 [==============================] - 0s 55us/step - loss: 4.2525e-04\n",
      "Epoch 46/100\n",
      "18/18 [==============================] - 0s 55us/step - loss: 4.2349e-04\n",
      "Epoch 47/100\n",
      "18/18 [==============================] - 0s 111us/step - loss: 4.2184e-04\n",
      "Epoch 48/100\n",
      "18/18 [==============================] - 0s 55us/step - loss: 4.2028e-04\n",
      "Epoch 49/100\n",
      "18/18 [==============================] - 0s 55us/step - loss: 4.1881e-04\n",
      "Epoch 50/100\n",
      "18/18 [==============================] - 0s 57us/step - loss: 4.1743e-04\n",
      "Epoch 51/100\n",
      "18/18 [==============================] - 0s 111us/step - loss: 4.1612e-04\n",
      "Epoch 52/100\n",
      "18/18 [==============================] - 0s 55us/step - loss: 4.1489e-04\n",
      "Epoch 53/100\n",
      "18/18 [==============================] - 0s 55us/step - loss: 4.1373e-04\n",
      "Epoch 54/100\n",
      "18/18 [==============================] - 0s 55us/step - loss: 4.1263e-04\n",
      "Epoch 55/100\n",
      "18/18 [==============================] - 0s 55us/step - loss: 4.1159e-04\n",
      "Epoch 56/100\n",
      "18/18 [==============================] - 0s 57us/step - loss: 4.1060e-04\n",
      "Epoch 57/100\n",
      "18/18 [==============================] - 0s 55us/step - loss: 4.0966e-04\n",
      "Epoch 58/100\n",
      "18/18 [==============================] - 0s 54us/step - loss: 4.0878e-04\n",
      "Epoch 59/100\n",
      "18/18 [==============================] - 0s 55us/step - loss: 4.0794e-04\n",
      "Epoch 60/100\n",
      "18/18 [==============================] - 0s 55us/step - loss: 4.0714e-04\n",
      "Epoch 61/100\n",
      "18/18 [==============================] - 0s 111us/step - loss: 4.0638e-04\n",
      "Epoch 62/100\n",
      "18/18 [==============================] - 0s 55us/step - loss: 4.0565e-04\n",
      "Epoch 63/100\n",
      "18/18 [==============================] - 0s 111us/step - loss: 4.0496e-04\n",
      "Epoch 64/100\n",
      "18/18 [==============================] - 0s 55us/step - loss: 4.0430e-04\n",
      "Epoch 65/100\n",
      "18/18 [==============================] - 0s 55us/step - loss: 4.0367e-04\n",
      "Epoch 66/100\n",
      "18/18 [==============================] - 0s 56us/step - loss: 4.0306e-04\n",
      "Epoch 67/100\n",
      "18/18 [==============================] - 0s 55us/step - loss: 4.0249e-04\n",
      "Epoch 68/100\n",
      "18/18 [==============================] - 0s 55us/step - loss: 4.0193e-04\n",
      "Epoch 69/100\n",
      "18/18 [==============================] - 0s 55us/step - loss: 4.0140e-04\n",
      "Epoch 70/100\n",
      "18/18 [==============================] - 0s 111us/step - loss: 4.0088e-04\n",
      "Epoch 71/100\n",
      "18/18 [==============================] - 0s 111us/step - loss: 4.0039e-04\n",
      "Epoch 72/100\n",
      "18/18 [==============================] - 0s 111us/step - loss: 3.9992e-04\n",
      "Epoch 73/100\n",
      "18/18 [==============================] - 0s 111us/step - loss: 3.9946e-04\n",
      "Epoch 74/100\n",
      "18/18 [==============================] - 0s 55us/step - loss: 3.9901e-04\n",
      "Epoch 75/100\n",
      "18/18 [==============================] - 0s 54us/step - loss: 3.9858e-04\n",
      "Epoch 76/100\n",
      "18/18 [==============================] - 0s 56us/step - loss: 3.9817e-04\n",
      "Epoch 77/100\n",
      "18/18 [==============================] - 0s 55us/step - loss: 3.9777e-04\n",
      "Epoch 78/100\n",
      "18/18 [==============================] - 0s 55us/step - loss: 3.9738e-04\n",
      "Epoch 79/100\n",
      "18/18 [==============================] - 0s 55us/step - loss: 3.9700e-04\n",
      "Epoch 80/100\n",
      "18/18 [==============================] - 0s 55us/step - loss: 3.9662e-04\n",
      "Epoch 81/100\n",
      "18/18 [==============================] - 0s 55us/step - loss: 3.9626e-04\n",
      "Epoch 82/100\n",
      "18/18 [==============================] - 0s 111us/step - loss: 3.9591e-04\n",
      "Epoch 83/100\n",
      "18/18 [==============================] - 0s 111us/step - loss: 3.9557e-04\n",
      "Epoch 84/100\n",
      "18/18 [==============================] - 0s 55us/step - loss: 3.9523e-04\n",
      "Epoch 85/100\n",
      "18/18 [==============================] - 0s 55us/step - loss: 3.9490e-04\n",
      "Epoch 86/100\n",
      "18/18 [==============================] - 0s 54us/step - loss: 3.9458e-04\n",
      "Epoch 87/100\n",
      "18/18 [==============================] - 0s 55us/step - loss: 3.9427e-04\n",
      "Epoch 88/100\n",
      "18/18 [==============================] - 0s 55us/step - loss: 3.9396e-04\n",
      "Epoch 89/100\n",
      "18/18 [==============================] - 0s 55us/step - loss: 3.9365e-04\n",
      "Epoch 90/100\n",
      "18/18 [==============================] - 0s 55us/step - loss: 3.9335e-04\n",
      "Epoch 91/100\n",
      "18/18 [==============================] - 0s 55us/step - loss: 3.9306e-04\n",
      "Epoch 92/100\n",
      "18/18 [==============================] - 0s 55us/step - loss: 3.9277e-04\n",
      "Epoch 93/100\n",
      "18/18 [==============================] - 0s 55us/step - loss: 3.9248e-04\n",
      "Epoch 94/100\n",
      "18/18 [==============================] - 0s 55us/step - loss: 3.9220e-04\n",
      "Epoch 95/100\n",
      "18/18 [==============================] - 0s 55us/step - loss: 3.9192e-04\n",
      "Epoch 96/100\n",
      "18/18 [==============================] - 0s 55us/step - loss: 3.9165e-04\n"
     ]
    },
    {
     "name": "stdout",
     "output_type": "stream",
     "text": [
      "Epoch 97/100\n",
      "18/18 [==============================] - 0s 111us/step - loss: 3.9137e-04\n",
      "Epoch 98/100\n",
      "18/18 [==============================] - 0s 111us/step - loss: 3.9110e-04\n",
      "Epoch 99/100\n",
      "18/18 [==============================] - 0s 55us/step - loss: 3.9084e-04\n",
      "Epoch 100/100\n",
      "18/18 [==============================] - 0s 111us/step - loss: 3.9057e-04\n"
     ]
    }
   ],
   "source": [
    "history = model.fit(X_train, Y_train, epochs=100)"
   ]
  },
  {
   "cell_type": "code",
   "execution_count": 23,
   "metadata": {},
   "outputs": [
    {
     "data": {
      "image/png": "[encoded data removed]",
      "text/plain": [
       "<Figure size 432x288 with 1 Axes>"
      ]
     },
     "metadata": {
      "needs_background": "light"
     },
     "output_type": "display_data"
    }
   ],
   "source": [
    "plt.plot(history.history[\"loss\"])\n",
    "plt.title(\"Loss\")\n",
    "plt.show()"
   ]
  },
  {
   "cell_type": "code",
   "execution_count": 24,
   "metadata": {},
   "outputs": [
    {
     "data": {
      "image/png": "[encoded data removed]",
      "text/plain": [
       "<Figure size 432x288 with 1 Axes>"
      ]
     },
     "metadata": {
      "needs_background": "light"
     },
     "output_type": "display_data"
    }
   ],
   "source": [
    "plt.plot(Y_train, 'ro-', label=\"target\")\n",
    "plt.plot(model.predict(X_train[:, :, :]), 'bs-', label=\"output\")\n",
    "plt.xlim(-0.5, 20.5)\n",
    "plt.ylim(-1.1, 1.1)\n",
    "plt.legend()\n",
    "plt.title(\"After training\")\n",
    "plt.show()"
   ]
  },
  {
   "cell_type": "code",
   "execution_count": 25,
   "metadata": {},
   "outputs": [
    {
     "data": {
      "text/plain": [
       "<tf.Variable 'simple_rnn_2/kernel:0' shape=(1, 10) dtype=float32, numpy=\n",
       "array([[-0.64041144, -0.6578175 , -0.53216374, -0.28078938, -0.65463126,\n",
       "         0.19493407, -0.19907099,  0.01708084,  0.06939006, -0.6781267 ]],\n",
       "      dtype=float32)>"
      ]
     },
     "execution_count": 25,
     "metadata": {},
     "output_type": "execute_result"
    }
   ],
   "source": [
    "# 입력에 대한 weights\n",
    "model.weights[0]"
   ]
  },
  {
   "cell_type": "code",
   "execution_count": 26,
   "metadata": {},
   "outputs": [
    {
     "data": {
      "text/plain": [
       "<tf.Variable 'simple_rnn_2/recurrent_kernel:0' shape=(10, 10) dtype=float32, numpy=\n",
       "array([[-0.36385044,  0.22335367, -0.52118134, -0.54113513, -0.11634786,\n",
       "         0.26103228, -0.3629713 ,  0.18625121,  0.00758364, -0.07140672],\n",
       "       [-0.12769385,  0.02112692,  0.5037151 , -0.3332082 ,  0.30710387,\n",
       "         0.46061027, -0.06668831, -0.40750495, -0.37587532, -0.01506308],\n",
       "       [ 0.36651963,  0.04184178,  0.20892961, -0.06846362, -0.49653322,\n",
       "         0.18562913, -0.27958465,  0.18542244, -0.13656543,  0.6351151 ],\n",
       "       [-0.5050381 , -0.04412505,  0.61502004, -0.03538448, -0.29056132,\n",
       "        -0.1489067 , -0.1191911 ,  0.38816202,  0.21373008, -0.21524847],\n",
       "       [ 0.26970324, -0.44003987, -0.06345795, -0.23105246, -0.53985953,\n",
       "         0.06041905,  0.15722111, -0.10147577, -0.2603575 , -0.52755314],\n",
       "       [ 0.03406008, -0.07282382,  0.04581036, -0.15245585, -0.12513323,\n",
       "        -0.41184688, -0.4980536 , -0.63930607,  0.3546211 ,  0.01983117],\n",
       "       [ 0.01543791,  0.5033566 ,  0.05264558,  0.01704061, -0.35690808,\n",
       "         0.3518452 ,  0.4316702 , -0.29474413,  0.4635589 , -0.06366558],\n",
       "       [ 0.1748408 , -0.5553592 ,  0.02105539, -0.1625813 ,  0.25355956,\n",
       "         0.4042645 , -0.01562501,  0.15747172,  0.6135254 ,  0.07038278],\n",
       "       [-0.5889142 , -0.41937044, -0.20717531,  0.3375095 , -0.2481115 ,\n",
       "         0.18607181,  0.12251225, -0.28898662, -0.09713671,  0.34107786],\n",
       "       [-0.10187994, -0.09678522,  0.0218599 , -0.6106898 ,  0.02894008,\n",
       "        -0.4098208 ,  0.54503393,  0.00216015,  0.00718398,  0.37539887]],\n",
       "      dtype=float32)>"
      ]
     },
     "execution_count": 26,
     "metadata": {},
     "output_type": "execute_result"
    }
   ],
   "source": [
    "# 유닛에 대한 weights\n",
    "model.weights[1]"
   ]
  },
  {
   "cell_type": "code",
   "execution_count": 27,
   "metadata": {},
   "outputs": [
    {
     "data": {
      "text/plain": [
       "<tf.Variable 'simple_rnn_2/bias:0' shape=(10,) dtype=float32, numpy=array([0., 0., 0., 0., 0., 0., 0., 0., 0., 0.], dtype=float32)>"
      ]
     },
     "execution_count": 27,
     "metadata": {},
     "output_type": "execute_result"
    }
   ],
   "source": [
    "# bias\n",
    "model.weights[2]"
   ]
  },
  {
   "cell_type": "code",
   "execution_count": 28,
   "metadata": {},
   "outputs": [
    {
     "name": "stdout",
     "output_type": "stream",
     "text": [
      "Model: \"sequential_3\"\n",
      "_________________________________________________________________\n",
      "Layer (type)                 Output Shape              Param #   \n",
      "=================================================================\n",
      "simple_rnn_3 (SimpleRNN)     (None, 5)                 35        \n",
      "_________________________________________________________________\n",
      "dense_3 (Dense)              (None, 1)                 6         \n",
      "=================================================================\n",
      "Total params: 41\n",
      "Trainable params: 41\n",
      "Non-trainable params: 0\n",
      "_________________________________________________________________\n"
     ]
    }
   ],
   "source": [
    "model2 = Sequential()\n",
    "model2.add(SimpleRNN(5, input_shape=(3, 1)))\n",
    "model2.add(Dense(1, activation=\"linear\"))\n",
    "model2.summary()"
   ]
  },
  {
   "cell_type": "code",
   "execution_count": 29,
   "metadata": {},
   "outputs": [],
   "source": [
    "model2.compile(loss='mse', optimizer='sgd')"
   ]
  },
  {
   "cell_type": "code",
   "execution_count": 36,
   "metadata": {},
   "outputs": [
    {
     "data": {
      "image/png": "[encoded data removed]",
      "text/plain": [
       "<Figure size 432x288 with 1 Axes>"
      ]
     },
     "metadata": {
      "needs_background": "light"
     },
     "output_type": "display_data"
    }
   ],
   "source": [
    "plt.plot(Y_train, 'ro-', label=\"target\")\n",
    "plt.plot(model2.predict(X_train[:, :, :]), 'bs-', label=\"output\")\n",
    "plt.xlim(-0.5, 20.5)\n",
    "plt.ylim(-1.1, 1.1)\n",
    "plt.legend()\n",
    "plt.title(\"Before training\")\n",
    "plt.show()"
   ]
  },
  {
   "cell_type": "code",
   "execution_count": 37,
   "metadata": {},
   "outputs": [
    {
     "name": "stdout",
     "output_type": "stream",
     "text": [
      "Epoch 1/100\n",
      "18/18 [==============================] - 0s 5ms/step - loss: 0.0132\n",
      "Epoch 2/100\n",
      "18/18 [==============================] - 0s 56us/step - loss: 0.0127\n",
      "Epoch 3/100\n",
      "18/18 [==============================] - 0s 55us/step - loss: 0.0123\n",
      "Epoch 4/100\n",
      "18/18 [==============================] - 0s 55us/step - loss: 0.0119\n",
      "Epoch 5/100\n",
      "18/18 [==============================] - 0s 55us/step - loss: 0.0116\n",
      "Epoch 6/100\n",
      "18/18 [==============================] - 0s 111us/step - loss: 0.0113\n",
      "Epoch 7/100\n",
      "18/18 [==============================] - 0s 55us/step - loss: 0.0110\n",
      "Epoch 8/100\n",
      "18/18 [==============================] - 0s 55us/step - loss: 0.0107\n",
      "Epoch 9/100\n",
      "18/18 [==============================] - 0s 55us/step - loss: 0.0105\n",
      "Epoch 10/100\n",
      "18/18 [==============================] - 0s 55us/step - loss: 0.0103\n",
      "Epoch 11/100\n",
      "18/18 [==============================] - 0s 111us/step - loss: 0.0101\n",
      "Epoch 12/100\n",
      "18/18 [==============================] - 0s 55us/step - loss: 0.0099\n",
      "Epoch 13/100\n",
      "18/18 [==============================] - 0s 55us/step - loss: 0.0097\n",
      "Epoch 14/100\n",
      "18/18 [==============================] - 0s 55us/step - loss: 0.0096\n",
      "Epoch 15/100\n",
      "18/18 [==============================] - 0s 55us/step - loss: 0.0094\n",
      "Epoch 16/100\n",
      "18/18 [==============================] - 0s 55us/step - loss: 0.0093\n",
      "Epoch 17/100\n",
      "18/18 [==============================] - 0s 55us/step - loss: 0.0092\n",
      "Epoch 18/100\n",
      "18/18 [==============================] - 0s 55us/step - loss: 0.0091\n",
      "Epoch 19/100\n",
      "18/18 [==============================] - 0s 111us/step - loss: 0.0090\n",
      "Epoch 20/100\n",
      "18/18 [==============================] - 0s 55us/step - loss: 0.0089\n",
      "Epoch 21/100\n",
      "18/18 [==============================] - 0s 55us/step - loss: 0.0088\n",
      "Epoch 22/100\n",
      "18/18 [==============================] - 0s 55us/step - loss: 0.0087\n",
      "Epoch 23/100\n",
      "18/18 [==============================] - 0s 55us/step - loss: 0.0086\n",
      "Epoch 24/100\n",
      "18/18 [==============================] - 0s 56us/step - loss: 0.0085\n",
      "Epoch 25/100\n",
      "18/18 [==============================] - 0s 55us/step - loss: 0.0084\n",
      "Epoch 26/100\n",
      "18/18 [==============================] - 0s 55us/step - loss: 0.0084\n",
      "Epoch 27/100\n",
      "18/18 [==============================] - 0s 55us/step - loss: 0.0083\n",
      "Epoch 28/100\n",
      "18/18 [==============================] - 0s 55us/step - loss: 0.0082\n",
      "Epoch 29/100\n",
      "18/18 [==============================] - 0s 55us/step - loss: 0.0082\n",
      "Epoch 30/100\n",
      "18/18 [==============================] - 0s 55us/step - loss: 0.0081\n",
      "Epoch 31/100\n",
      "18/18 [==============================] - 0s 55us/step - loss: 0.0081\n",
      "Epoch 32/100\n",
      "18/18 [==============================] - 0s 55us/step - loss: 0.0080\n",
      "Epoch 33/100\n",
      "18/18 [==============================] - 0s 55us/step - loss: 0.0080\n",
      "Epoch 34/100\n",
      "18/18 [==============================] - 0s 55us/step - loss: 0.0079\n",
      "Epoch 35/100\n",
      "18/18 [==============================] - 0s 55us/step - loss: 0.0079\n",
      "Epoch 36/100\n",
      "18/18 [==============================] - 0s 55us/step - loss: 0.0078\n",
      "Epoch 37/100\n",
      "18/18 [==============================] - 0s 56us/step - loss: 0.0078\n",
      "Epoch 38/100\n",
      "18/18 [==============================] - 0s 55us/step - loss: 0.0078\n",
      "Epoch 39/100\n",
      "18/18 [==============================] - 0s 55us/step - loss: 0.0077\n",
      "Epoch 40/100\n",
      "18/18 [==============================] - 0s 111us/step - loss: 0.0077\n",
      "Epoch 41/100\n",
      "18/18 [==============================] - 0s 55us/step - loss: 0.0076\n",
      "Epoch 42/100\n",
      "18/18 [==============================] - 0s 55us/step - loss: 0.0076\n",
      "Epoch 43/100\n",
      "18/18 [==============================] - 0s 55us/step - loss: 0.0076\n",
      "Epoch 44/100\n",
      "18/18 [==============================] - 0s 55us/step - loss: 0.0075\n",
      "Epoch 45/100\n",
      "18/18 [==============================] - 0s 55us/step - loss: 0.0075\n",
      "Epoch 46/100\n",
      "18/18 [==============================] - 0s 55us/step - loss: 0.0075\n",
      "Epoch 47/100\n",
      "18/18 [==============================] - 0s 55us/step - loss: 0.0075\n",
      "Epoch 48/100\n",
      "18/18 [==============================] - 0s 55us/step - loss: 0.0074\n",
      "Epoch 49/100\n",
      "18/18 [==============================] - 0s 55us/step - loss: 0.0074\n",
      "Epoch 50/100\n",
      "18/18 [==============================] - 0s 111us/step - loss: 0.0074\n",
      "Epoch 51/100\n",
      "18/18 [==============================] - 0s 111us/step - loss: 0.0073\n",
      "Epoch 52/100\n",
      "18/18 [==============================] - 0s 55us/step - loss: 0.0073\n",
      "Epoch 53/100\n",
      "18/18 [==============================] - 0s 55us/step - loss: 0.0073\n",
      "Epoch 54/100\n",
      "18/18 [==============================] - 0s 55us/step - loss: 0.0073\n",
      "Epoch 55/100\n",
      "18/18 [==============================] - 0s 111us/step - loss: 0.0072\n",
      "Epoch 56/100\n",
      "18/18 [==============================] - 0s 55us/step - loss: 0.0072\n",
      "Epoch 57/100\n",
      "18/18 [==============================] - 0s 55us/step - loss: 0.0072\n",
      "Epoch 58/100\n",
      "18/18 [==============================] - 0s 55us/step - loss: 0.0072\n",
      "Epoch 59/100\n",
      "18/18 [==============================] - 0s 55us/step - loss: 0.0071\n",
      "Epoch 60/100\n",
      "18/18 [==============================] - 0s 55us/step - loss: 0.0071\n",
      "Epoch 61/100\n",
      "18/18 [==============================] - 0s 55us/step - loss: 0.0071\n",
      "Epoch 62/100\n",
      "18/18 [==============================] - 0s 55us/step - loss: 0.0071\n",
      "Epoch 63/100\n",
      "18/18 [==============================] - 0s 55us/step - loss: 0.0070\n",
      "Epoch 64/100\n",
      "18/18 [==============================] - 0s 55us/step - loss: 0.0070\n",
      "Epoch 65/100\n",
      "18/18 [==============================] - 0s 55us/step - loss: 0.0070\n",
      "Epoch 66/100\n",
      "18/18 [==============================] - 0s 55us/step - loss: 0.0070\n",
      "Epoch 67/100\n",
      "18/18 [==============================] - 0s 111us/step - loss: 0.0069\n",
      "Epoch 68/100\n",
      "18/18 [==============================] - 0s 111us/step - loss: 0.0069\n",
      "Epoch 69/100\n",
      "18/18 [==============================] - 0s 55us/step - loss: 0.0069\n",
      "Epoch 70/100\n",
      "18/18 [==============================] - 0s 55us/step - loss: 0.0069\n",
      "Epoch 71/100\n",
      "18/18 [==============================] - 0s 55us/step - loss: 0.0068\n",
      "Epoch 72/100\n",
      "18/18 [==============================] - 0s 111us/step - loss: 0.0068\n",
      "Epoch 73/100\n",
      "18/18 [==============================] - 0s 56us/step - loss: 0.0068\n",
      "Epoch 74/100\n",
      "18/18 [==============================] - 0s 55us/step - loss: 0.0068\n",
      "Epoch 75/100\n",
      "18/18 [==============================] - 0s 112us/step - loss: 0.0068\n",
      "Epoch 76/100\n",
      "18/18 [==============================] - 0s 110us/step - loss: 0.0067\n",
      "Epoch 77/100\n",
      "18/18 [==============================] - 0s 111us/step - loss: 0.0067\n",
      "Epoch 78/100\n",
      "18/18 [==============================] - 0s 55us/step - loss: 0.0067\n",
      "Epoch 79/100\n",
      "18/18 [==============================] - 0s 111us/step - loss: 0.0067\n",
      "Epoch 80/100\n",
      "18/18 [==============================] - 0s 55us/step - loss: 0.0067\n",
      "Epoch 81/100\n",
      "18/18 [==============================] - 0s 55us/step - loss: 0.0066\n",
      "Epoch 82/100\n",
      "18/18 [==============================] - 0s 56us/step - loss: 0.0066\n",
      "Epoch 83/100\n",
      "18/18 [==============================] - 0s 55us/step - loss: 0.0066\n",
      "Epoch 84/100\n",
      "18/18 [==============================] - 0s 55us/step - loss: 0.0066\n",
      "Epoch 85/100\n",
      "18/18 [==============================] - 0s 111us/step - loss: 0.0066\n",
      "Epoch 86/100\n",
      "18/18 [==============================] - 0s 55us/step - loss: 0.0065\n",
      "Epoch 87/100\n",
      "18/18 [==============================] - 0s 55us/step - loss: 0.0065\n",
      "Epoch 88/100\n",
      "18/18 [==============================] - 0s 55us/step - loss: 0.0065\n",
      "Epoch 89/100\n",
      "18/18 [==============================] - 0s 55us/step - loss: 0.0065\n",
      "Epoch 90/100\n",
      "18/18 [==============================] - 0s 55us/step - loss: 0.0065\n",
      "Epoch 91/100\n",
      "18/18 [==============================] - 0s 55us/step - loss: 0.0064\n",
      "Epoch 92/100\n",
      "18/18 [==============================] - 0s 55us/step - loss: 0.0064\n",
      "Epoch 93/100\n",
      "18/18 [==============================] - 0s 111us/step - loss: 0.0064\n",
      "Epoch 94/100\n",
      "18/18 [==============================] - 0s 110us/step - loss: 0.0064\n",
      "Epoch 95/100\n",
      "18/18 [==============================] - 0s 55us/step - loss: 0.0064\n",
      "Epoch 96/100\n",
      "18/18 [==============================] - 0s 55us/step - loss: 0.0063\n",
      "Epoch 97/100\n",
      "18/18 [==============================] - 0s 55us/step - loss: 0.0063\n",
      "Epoch 98/100\n",
      "18/18 [==============================] - 0s 55us/step - loss: 0.0063\n",
      "Epoch 99/100\n",
      "18/18 [==============================] - 0s 55us/step - loss: 0.0063\n",
      "Epoch 100/100\n",
      "18/18 [==============================] - 0s 55us/step - loss: 0.0063\n"
     ]
    }
   ],
   "source": [
    "history = model2.fit(X_train, Y_train, epochs=100)"
   ]
  },
  {
   "cell_type": "code",
   "execution_count": 38,
   "metadata": {},
   "outputs": [
    {
     "data": {
      "image/png": "[encoded data removed]",
      "text/plain": [
       "<Figure size 432x288 with 1 Axes>"
      ]
     },
     "metadata": {
      "needs_background": "light"
     },
     "output_type": "display_data"
    }
   ],
   "source": [
    "plt.plot(history.history[\"loss\"])\n",
    "plt.title(\"Loss\")\n",
    "plt.show()"
   ]
  },
  {
   "cell_type": "code",
   "execution_count": 40,
   "metadata": {},
   "outputs": [
    {
     "data": {
      "image/png": "[encoded data removed]",
      "text/plain": [
       "<Figure size 432x288 with 1 Axes>"
      ]
     },
     "metadata": {
      "needs_background": "light"
     },
     "output_type": "display_data"
    }
   ],
   "source": [
    "plt.plot(Y_train, 'ro-', label=\"target\")\n",
    "plt.plot(model2.predict(X_train[:, :, :]), 'bs-', label=\"output\")\n",
    "plt.xlim(-0.5, 20.5)\n",
    "plt.ylim(-1.1, 1.1)\n",
    "plt.legend()\n",
    "plt.title(\"After training\")\n",
    "plt.show()"
   ]
  },
  {
   "cell_type": "code",
   "execution_count": 41,
   "metadata": {},
   "outputs": [
    {
     "data": {
      "text/plain": [
       "<tf.Variable 'simple_rnn_3/kernel:0' shape=(1, 5) dtype=float32, numpy=\n",
       "array([[ 0.52925456, -0.6781088 , -0.5050949 , -0.07007933,  0.9019237 ]],\n",
       "      dtype=float32)>"
      ]
     },
     "execution_count": 41,
     "metadata": {},
     "output_type": "execute_result"
    }
   ],
   "source": [
    "# 입력에 대한 weights\n",
    "model2.weights[0]"
   ]
  },
  {
   "cell_type": "code",
   "execution_count": 42,
   "metadata": {},
   "outputs": [
    {
     "data": {
      "text/plain": [
       "<tf.Variable 'simple_rnn_3/recurrent_kernel:0' shape=(5, 5) dtype=float32, numpy=\n",
       "array([[-0.32510158,  0.5475655 , -0.5546064 , -0.23099947,  0.4610208 ],\n",
       "       [ 0.47577965, -0.4620909 , -0.65390754,  0.29363063,  0.24690834],\n",
       "       [-0.25463647, -0.15924759, -0.5012616 , -0.326656  , -0.73900384],\n",
       "       [-0.6914634 , -0.6308654 ,  0.0663123 , -0.0363005 ,  0.3505599 ],\n",
       "       [ 0.3610415 , -0.2379976 ,  0.14288874, -0.8516224 ,  0.21440132]],\n",
       "      dtype=float32)>"
      ]
     },
     "execution_count": 42,
     "metadata": {},
     "output_type": "execute_result"
    }
   ],
   "source": [
    "# 유닛에 대한 weights\n",
    "model2.weights[1]"
   ]
  },
  {
   "cell_type": "code",
   "execution_count": 43,
   "metadata": {},
   "outputs": [
    {
     "data": {
      "text/plain": [
       "<tf.Variable 'simple_rnn_3/bias:0' shape=(5,) dtype=float32, numpy=\n",
       "array([-0.00155603, -0.00117413,  0.00200329,  0.00213841, -0.00520118],\n",
       "      dtype=float32)>"
      ]
     },
     "execution_count": 43,
     "metadata": {},
     "output_type": "execute_result"
    }
   ],
   "source": [
    "# bias\n",
    "model2.weights[2]"
   ]
  },
  {
   "cell_type": "code",
   "execution_count": 44,
   "metadata": {},
   "outputs": [
    {
     "name": "stdout",
     "output_type": "stream",
     "text": [
      "Model: \"sequential_4\"\n",
      "_________________________________________________________________\n",
      "Layer (type)                 Output Shape              Param #   \n",
      "=================================================================\n",
      "simple_rnn_4 (SimpleRNN)     (None, 20)                440       \n",
      "_________________________________________________________________\n",
      "dense_4 (Dense)              (None, 1)                 21        \n",
      "=================================================================\n",
      "Total params: 461\n",
      "Trainable params: 461\n",
      "Non-trainable params: 0\n",
      "_________________________________________________________________\n"
     ]
    }
   ],
   "source": [
    "model3 = Sequential()\n",
    "model3.add(SimpleRNN(20, input_shape=(3, 1)))\n",
    "model3.add(Dense(1, activation=\"linear\"))\n",
    "model3.summary()"
   ]
  },
  {
   "cell_type": "code",
   "execution_count": 45,
   "metadata": {},
   "outputs": [],
   "source": [
    "model3.compile(loss='mse', optimizer='sgd')"
   ]
  },
  {
   "cell_type": "code",
   "execution_count": 62,
   "metadata": {},
   "outputs": [
    {
     "data": {
      "image/png": "[encoded data removed]",
      "text/plain": [
       "<Figure size 432x288 with 1 Axes>"
      ]
     },
     "metadata": {
      "needs_background": "light"
     },
     "output_type": "display_data"
    }
   ],
   "source": [
    "plt.plot(Y_train, 'ro-', label=\"target\")\n",
    "plt.plot(model3.predict(X_train[:, :, :]), 'bs-', label=\"output\")\n",
    "plt.xlim(-0.5, 20.5)\n",
    "plt.ylim(-1.1, 1.1)\n",
    "plt.legend()\n",
    "plt.title(\"Before training\")\n",
    "plt.show()"
   ]
  },
  {
   "cell_type": "code",
   "execution_count": 47,
   "metadata": {},
   "outputs": [
    {
     "name": "stdout",
     "output_type": "stream",
     "text": [
      "Epoch 1/100\n",
      "18/18 [==============================] - 0s 5ms/step - loss: 0.7834\n",
      "Epoch 2/100\n",
      "18/18 [==============================] - 0s 55us/step - loss: 0.7207\n",
      "Epoch 3/100\n",
      "18/18 [==============================] - 0s 55us/step - loss: 0.6634\n",
      "Epoch 4/100\n",
      "18/18 [==============================] - 0s 55us/step - loss: 0.6109\n",
      "Epoch 5/100\n",
      "18/18 [==============================] - 0s 0us/step - loss: 0.5628\n",
      "Epoch 6/100\n",
      "18/18 [==============================] - 0s 56us/step - loss: 0.5187\n",
      "Epoch 7/100\n",
      "18/18 [==============================] - 0s 55us/step - loss: 0.4781\n",
      "Epoch 8/100\n",
      "18/18 [==============================] - 0s 55us/step - loss: 0.4407\n",
      "Epoch 9/100\n",
      "18/18 [==============================] - 0s 55us/step - loss: 0.4063\n",
      "Epoch 10/100\n",
      "18/18 [==============================] - 0s 55us/step - loss: 0.3746\n",
      "Epoch 11/100\n",
      "18/18 [==============================] - 0s 55us/step - loss: 0.3454\n",
      "Epoch 12/100\n",
      "18/18 [==============================] - 0s 111us/step - loss: 0.3184\n",
      "Epoch 13/100\n",
      "18/18 [==============================] - 0s 56us/step - loss: 0.2936\n",
      "Epoch 14/100\n",
      "18/18 [==============================] - 0s 111us/step - loss: 0.2706\n",
      "Epoch 15/100\n",
      "18/18 [==============================] - 0s 55us/step - loss: 0.2494\n",
      "Epoch 16/100\n",
      "18/18 [==============================] - 0s 55us/step - loss: 0.2299\n",
      "Epoch 17/100\n",
      "18/18 [==============================] - 0s 55us/step - loss: 0.2118\n",
      "Epoch 18/100\n",
      "18/18 [==============================] - 0s 111us/step - loss: 0.1952\n",
      "Epoch 19/100\n",
      "18/18 [==============================] - 0s 111us/step - loss: 0.1798\n",
      "Epoch 20/100\n",
      "18/18 [==============================] - 0s 55us/step - loss: 0.1656\n",
      "Epoch 21/100\n",
      "18/18 [==============================] - 0s 55us/step - loss: 0.1525\n",
      "Epoch 22/100\n",
      "18/18 [==============================] - 0s 0us/step - loss: 0.1404\n",
      "Epoch 23/100\n",
      "18/18 [==============================] - 0s 55us/step - loss: 0.1293\n",
      "Epoch 24/100\n",
      "18/18 [==============================] - 0s 111us/step - loss: 0.1190\n",
      "Epoch 25/100\n",
      "18/18 [==============================] - 0s 56us/step - loss: 0.1096\n",
      "Epoch 26/100\n",
      "18/18 [==============================] - 0s 55us/step - loss: 0.1008\n",
      "Epoch 27/100\n",
      "18/18 [==============================] - 0s 55us/step - loss: 0.0928\n",
      "Epoch 28/100\n",
      "18/18 [==============================] - 0s 56us/step - loss: 0.0854\n",
      "Epoch 29/100\n",
      "18/18 [==============================] - 0s 111us/step - loss: 0.0786\n",
      "Epoch 30/100\n",
      "18/18 [==============================] - 0s 55us/step - loss: 0.0723\n",
      "Epoch 31/100\n",
      "18/18 [==============================] - 0s 55us/step - loss: 0.0665\n",
      "Epoch 32/100\n",
      "18/18 [==============================] - 0s 55us/step - loss: 0.0612\n",
      "Epoch 33/100\n",
      "18/18 [==============================] - 0s 55us/step - loss: 0.0563\n",
      "Epoch 34/100\n",
      "18/18 [==============================] - 0s 55us/step - loss: 0.0518\n",
      "Epoch 35/100\n",
      "18/18 [==============================] - 0s 111us/step - loss: 0.0477\n",
      "Epoch 36/100\n",
      "18/18 [==============================] - 0s 111us/step - loss: 0.0439\n",
      "Epoch 37/100\n",
      "18/18 [==============================] - 0s 55us/step - loss: 0.0404\n",
      "Epoch 38/100\n",
      "18/18 [==============================] - 0s 55us/step - loss: 0.0372\n",
      "Epoch 39/100\n",
      "18/18 [==============================] - 0s 111us/step - loss: 0.0343\n",
      "Epoch 40/100\n",
      "18/18 [==============================] - 0s 111us/step - loss: 0.0316\n",
      "Epoch 41/100\n",
      "18/18 [==============================] - 0s 111us/step - loss: 0.0291\n",
      "Epoch 42/100\n",
      "18/18 [==============================] - 0s 111us/step - loss: 0.0268\n",
      "Epoch 43/100\n",
      "18/18 [==============================] - 0s 55us/step - loss: 0.0247\n",
      "Epoch 44/100\n",
      "18/18 [==============================] - 0s 111us/step - loss: 0.0228\n",
      "Epoch 45/100\n",
      "18/18 [==============================] - 0s 55us/step - loss: 0.0211\n",
      "Epoch 46/100\n",
      "18/18 [==============================] - 0s 55us/step - loss: 0.0195\n",
      "Epoch 47/100\n",
      "18/18 [==============================] - 0s 111us/step - loss: 0.0180\n",
      "Epoch 48/100\n",
      "18/18 [==============================] - 0s 110us/step - loss: 0.0167\n",
      "Epoch 49/100\n",
      "18/18 [==============================] - 0s 111us/step - loss: 0.0154\n",
      "Epoch 50/100\n",
      "18/18 [==============================] - 0s 110us/step - loss: 0.0143\n",
      "Epoch 51/100\n",
      "18/18 [==============================] - 0s 111us/step - loss: 0.0132\n",
      "Epoch 52/100\n",
      "18/18 [==============================] - 0s 111us/step - loss: 0.0123\n",
      "Epoch 53/100\n",
      "18/18 [==============================] - 0s 55us/step - loss: 0.0114\n",
      "Epoch 54/100\n",
      "18/18 [==============================] - 0s 55us/step - loss: 0.0106\n",
      "Epoch 55/100\n",
      "18/18 [==============================] - 0s 55us/step - loss: 0.0099\n",
      "Epoch 56/100\n",
      "18/18 [==============================] - 0s 56us/step - loss: 0.0092\n",
      "Epoch 57/100\n",
      "18/18 [==============================] - 0s 55us/step - loss: 0.0086\n",
      "Epoch 58/100\n",
      "18/18 [==============================] - 0s 55us/step - loss: 0.0080\n",
      "Epoch 59/100\n",
      "18/18 [==============================] - 0s 56us/step - loss: 0.0075\n",
      "Epoch 60/100\n",
      "18/18 [==============================] - 0s 55us/step - loss: 0.0071\n",
      "Epoch 61/100\n",
      "18/18 [==============================] - 0s 55us/step - loss: 0.0066\n",
      "Epoch 62/100\n",
      "18/18 [==============================] - 0s 55us/step - loss: 0.0062\n",
      "Epoch 63/100\n",
      "18/18 [==============================] - 0s 55us/step - loss: 0.0059\n",
      "Epoch 64/100\n",
      "18/18 [==============================] - 0s 55us/step - loss: 0.0056\n",
      "Epoch 65/100\n",
      "18/18 [==============================] - 0s 55us/step - loss: 0.0053\n",
      "Epoch 66/100\n",
      "18/18 [==============================] - 0s 55us/step - loss: 0.0050\n",
      "Epoch 67/100\n",
      "18/18 [==============================] - 0s 55us/step - loss: 0.0047\n",
      "Epoch 68/100\n",
      "18/18 [==============================] - 0s 55us/step - loss: 0.0045\n",
      "Epoch 69/100\n",
      "18/18 [==============================] - 0s 111us/step - loss: 0.0043\n",
      "Epoch 70/100\n",
      "18/18 [==============================] - 0s 55us/step - loss: 0.0041\n",
      "Epoch 71/100\n",
      "18/18 [==============================] - 0s 55us/step - loss: 0.0039\n",
      "Epoch 72/100\n",
      "18/18 [==============================] - 0s 55us/step - loss: 0.0038\n",
      "Epoch 73/100\n",
      "18/18 [==============================] - 0s 55us/step - loss: 0.0036\n",
      "Epoch 74/100\n",
      "18/18 [==============================] - 0s 55us/step - loss: 0.0035\n",
      "Epoch 75/100\n",
      "18/18 [==============================] - 0s 55us/step - loss: 0.0034\n",
      "Epoch 76/100\n",
      "18/18 [==============================] - 0s 111us/step - loss: 0.0032\n",
      "Epoch 77/100\n",
      "18/18 [==============================] - 0s 111us/step - loss: 0.0031\n",
      "Epoch 78/100\n",
      "18/18 [==============================] - 0s 55us/step - loss: 0.0030\n",
      "Epoch 79/100\n",
      "18/18 [==============================] - 0s 55us/step - loss: 0.0030\n",
      "Epoch 80/100\n",
      "18/18 [==============================] - 0s 56us/step - loss: 0.0029\n",
      "Epoch 81/100\n",
      "18/18 [==============================] - 0s 55us/step - loss: 0.0028\n",
      "Epoch 82/100\n",
      "18/18 [==============================] - 0s 55us/step - loss: 0.0027\n",
      "Epoch 83/100\n",
      "18/18 [==============================] - 0s 55us/step - loss: 0.0027\n",
      "Epoch 84/100\n",
      "18/18 [==============================] - 0s 55us/step - loss: 0.0026\n",
      "Epoch 85/100\n",
      "18/18 [==============================] - 0s 55us/step - loss: 0.0026\n",
      "Epoch 86/100\n",
      "18/18 [==============================] - 0s 56us/step - loss: 0.0025\n",
      "Epoch 87/100\n",
      "18/18 [==============================] - 0s 55us/step - loss: 0.0025\n",
      "Epoch 88/100\n",
      "18/18 [==============================] - 0s 55us/step - loss: 0.0024\n",
      "Epoch 89/100\n",
      "18/18 [==============================] - 0s 55us/step - loss: 0.0024\n",
      "Epoch 90/100\n",
      "18/18 [==============================] - 0s 55us/step - loss: 0.0024\n",
      "Epoch 91/100\n",
      "18/18 [==============================] - 0s 111us/step - loss: 0.0023\n",
      "Epoch 92/100\n",
      "18/18 [==============================] - 0s 55us/step - loss: 0.0023\n",
      "Epoch 93/100\n",
      "18/18 [==============================] - 0s 56us/step - loss: 0.0023\n",
      "Epoch 94/100\n",
      "18/18 [==============================] - 0s 111us/step - loss: 0.0023\n",
      "Epoch 95/100\n",
      "18/18 [==============================] - 0s 111us/step - loss: 0.0022\n",
      "Epoch 96/100\n",
      "18/18 [==============================] - 0s 55us/step - loss: 0.0022\n",
      "Epoch 97/100\n",
      "18/18 [==============================] - 0s 55us/step - loss: 0.0022\n",
      "Epoch 98/100\n",
      "18/18 [==============================] - 0s 55us/step - loss: 0.0022\n",
      "Epoch 99/100\n",
      "18/18 [==============================] - 0s 55us/step - loss: 0.0022\n",
      "Epoch 100/100\n",
      "18/18 [==============================] - 0s 55us/step - loss: 0.0021\n"
     ]
    }
   ],
   "source": [
    "history = model3.fit(X_train, Y_train, epochs=100)"
   ]
  },
  {
   "cell_type": "code",
   "execution_count": 48,
   "metadata": {},
   "outputs": [
    {
     "data": {
      "image/png": "[encoded data removed]",
      "text/plain": [
       "<Figure size 432x288 with 1 Axes>"
      ]
     },
     "metadata": {
      "needs_background": "light"
     },
     "output_type": "display_data"
    }
   ],
   "source": [
    "plt.plot(history.history[\"loss\"])\n",
    "plt.title(\"Loss\")\n",
    "plt.show()"
   ]
  },
  {
   "cell_type": "code",
   "execution_count": 63,
   "metadata": {},
   "outputs": [
    {
     "data": {
      "image/png": "[encoded data removed]",
      "text/plain": [
       "<Figure size 432x288 with 1 Axes>"
      ]
     },
     "metadata": {
      "needs_background": "light"
     },
     "output_type": "display_data"
    }
   ],
   "source": [
    "plt.plot(Y_train, 'ro-', label=\"target\")\n",
    "plt.plot(model3.predict(X_train[:, :, :]), 'bs-', label=\"output\")\n",
    "plt.xlim(-0.5, 20.5)\n",
    "plt.ylim(-1.1, 1.1)\n",
    "plt.legend()\n",
    "plt.title(\"After training\")\n",
    "plt.show()"
   ]
  },
  {
   "cell_type": "code",
   "execution_count": 64,
   "metadata": {},
   "outputs": [
    {
     "data": {
      "text/plain": [
       "<tf.Variable 'simple_rnn_4/kernel:0' shape=(1, 20) dtype=float32, numpy=\n",
       "array([[ 0.25014213,  0.13126792,  0.39070615,  0.24141732,  0.4747151 ,\n",
       "         0.5464535 ,  0.48163518, -0.6056095 , -0.41915277, -0.5870342 ,\n",
       "         0.17717265, -0.0158718 ,  0.35075018,  0.00827294, -0.08541509,\n",
       "        -0.10454543,  0.18397288,  0.38347483,  0.2818328 ,  0.38708922]],\n",
       "      dtype=float32)>"
      ]
     },
     "execution_count": 64,
     "metadata": {},
     "output_type": "execute_result"
    }
   ],
   "source": [
    "# 입력에 대한 weights\n",
    "model3.weights[0]"
   ]
  },
  {
   "cell_type": "code",
   "execution_count": 65,
   "metadata": {},
   "outputs": [
    {
     "data": {
      "text/plain": [
       "<tf.Variable 'simple_rnn_4/recurrent_kernel:0' shape=(20, 20) dtype=float32, numpy=\n",
       "array([[-6.29542053e-01,  3.83379519e-01, -1.16334461e-01,\n",
       "        -2.94232041e-01, -2.44646460e-01,  2.40009964e-01,\n",
       "         6.12674356e-02, -2.32549995e-01, -2.75562137e-01,\n",
       "         7.32181966e-02, -1.00951061e-01, -1.82392225e-02,\n",
       "         1.30574200e-02, -2.73648798e-02,  2.02947445e-02,\n",
       "         2.04194784e-01,  7.22269341e-02, -2.69066453e-01,\n",
       "        -2.55967025e-02,  1.74110457e-01],\n",
       "       [-1.48064112e-02,  1.02213314e-02,  1.52528696e-02,\n",
       "        -1.53202340e-01, -4.93873417e-01, -8.37486908e-02,\n",
       "        -8.88490379e-02,  2.77733743e-01,  2.62147456e-01,\n",
       "         1.00991286e-01, -1.49558440e-01,  5.55078033e-03,\n",
       "         2.43700705e-02,  2.17333242e-01, -1.56571165e-01,\n",
       "        -3.73807661e-02,  1.27917111e-01, -3.30338538e-01,\n",
       "         1.23143584e-01, -5.74387610e-01],\n",
       "       [ 1.26421541e-01,  1.25273481e-01, -9.75435823e-02,\n",
       "         1.94570735e-01,  1.47973642e-01,  3.75775397e-01,\n",
       "         3.71658057e-02,  6.99016601e-02,  2.42294800e-02,\n",
       "         1.30824465e-02,  1.00655779e-01, -2.71631569e-01,\n",
       "         4.35038567e-01, -2.35051736e-02, -1.20265573e-01,\n",
       "         1.84206292e-01, -2.52505392e-01, -8.02624375e-02,\n",
       "         5.61994612e-01, -6.88338354e-02],\n",
       "       [-3.29531521e-01, -4.81250048e-01,  3.52171957e-01,\n",
       "         1.29646942e-01,  4.92960662e-02, -4.28444799e-03,\n",
       "         2.57758290e-01, -2.62380302e-01,  2.00379997e-01,\n",
       "         2.98782915e-01, -3.85946393e-01,  4.91768382e-02,\n",
       "        -6.01637959e-02,  1.50055498e-01, -1.61072537e-01,\n",
       "         6.57998919e-02, -2.09530499e-02, -4.47203927e-02,\n",
       "         2.31656998e-01,  1.55003428e-01],\n",
       "       [-2.31366530e-01,  1.58757329e-01,  2.88654447e-01,\n",
       "         2.14651436e-01, -7.75007531e-02, -5.81625402e-02,\n",
       "         5.80891818e-02,  5.23234904e-01,  1.60308674e-01,\n",
       "        -1.35989726e-01,  6.40457869e-02,  5.02407849e-01,\n",
       "         1.51356757e-01, -1.67453721e-01, -3.91709581e-02,\n",
       "         3.40666994e-02, -1.57803327e-01, -1.34150788e-01,\n",
       "        -6.46688789e-02,  2.88888335e-01],\n",
       "       [-7.96762016e-03,  1.67374063e-04, -9.68750101e-03,\n",
       "        -5.43169618e-01, -9.86359939e-02,  1.93735939e-02,\n",
       "         9.04666930e-02, -1.06666937e-01,  5.72845757e-01,\n",
       "        -3.33781481e-01, -3.01170200e-02, -1.32313907e-01,\n",
       "        -1.40905380e-01, -3.63436520e-01, -9.61209983e-02,\n",
       "        -1.05045237e-01, -1.52192846e-01,  3.47151235e-02,\n",
       "         1.75159588e-01,  2.10854203e-01],\n",
       "       [-3.16242874e-01, -9.07582715e-02, -2.69013584e-01,\n",
       "         1.30031794e-01,  1.68031156e-01, -1.61257192e-01,\n",
       "        -6.60204738e-02, -8.37978646e-02, -1.25443578e-01,\n",
       "        -3.00510406e-01,  2.04289451e-01,  9.69944000e-02,\n",
       "        -3.53624403e-01,  3.43670361e-02, -6.19504392e-01,\n",
       "        -8.68668109e-02, -1.78247914e-01, -1.41392514e-01,\n",
       "         1.01185896e-01, -1.39641806e-01],\n",
       "       [ 1.99725673e-01,  1.34786060e-02, -3.29858065e-01,\n",
       "         1.63685545e-01, -6.65865242e-02, -1.33095697e-01,\n",
       "         3.23816538e-02, -3.92839164e-02,  8.45455974e-02,\n",
       "         3.57992321e-01, -6.64561987e-02,  1.86775565e-01,\n",
       "         3.97968069e-02, -5.68155050e-01, -2.37488002e-01,\n",
       "         4.46240604e-01,  2.21530691e-01,  9.95998979e-02,\n",
       "        -1.60803236e-02, -5.25963567e-02],\n",
       "       [ 3.91364098e-01,  2.86448359e-01, -1.50075704e-01,\n",
       "         8.65321085e-02, -1.17058910e-01,  1.88595653e-01,\n",
       "        -2.48200223e-01, -9.71077606e-02,  1.95865892e-02,\n",
       "         9.95024219e-02, -2.00228646e-01,  4.06339198e-01,\n",
       "        -3.08323860e-01,  2.80513167e-01, -3.15861516e-02,\n",
       "        -1.14053525e-01,  1.20876851e-02,  2.62333248e-02,\n",
       "         3.68739933e-01,  3.07702780e-01],\n",
       "       [-2.58776248e-01, -4.76664692e-01, -4.64598179e-01,\n",
       "         5.58674987e-03, -7.42702931e-02,  2.55677134e-01,\n",
       "        -6.23609535e-02,  5.03381677e-02,  3.42175886e-02,\n",
       "         1.82195514e-01,  2.34286949e-01,  2.85560131e-01,\n",
       "         8.83854106e-02, -1.34735718e-01,  4.06101733e-01,\n",
       "        -3.47419232e-01, -5.72215766e-03, -4.00361829e-02,\n",
       "         1.19155228e-01, -3.62413600e-02],\n",
       "       [ 1.96093947e-01, -3.20205212e-01, -2.56397516e-01,\n",
       "         4.94988412e-02, -2.32987717e-01, -4.70388506e-04,\n",
       "        -1.35431867e-02,  1.90099001e-01, -1.53342143e-01,\n",
       "        -1.42796040e-01, -3.24641585e-01, -2.53510743e-01,\n",
       "        -6.70320168e-02,  2.17150524e-02,  9.63330269e-03,\n",
       "         1.85536385e-01, -3.87202829e-01, -3.90021473e-01,\n",
       "        -2.42262706e-01,  3.09226125e-01],\n",
       "       [ 2.25849468e-02, -3.88835669e-02,  2.39965752e-01,\n",
       "        -2.90285140e-01,  3.02077591e-01, -2.26557419e-01,\n",
       "        -5.31487286e-01, -1.45006999e-01, -1.19500346e-01,\n",
       "         3.10767293e-01,  1.61662430e-03,  8.45529437e-02,\n",
       "         1.47221133e-01, -2.31753632e-01,  1.49601884e-02,\n",
       "        -1.38021156e-01, -1.98130026e-01, -4.34267938e-01,\n",
       "         4.33291048e-02,  1.01995736e-03],\n",
       "       [-1.14852376e-01, -2.89232254e-01,  1.82119459e-01,\n",
       "        -2.04875693e-01,  1.32630587e-01,  4.42219287e-01,\n",
       "        -3.66566956e-01, -4.35599573e-02,  1.21305257e-01,\n",
       "        -3.10472220e-01,  3.34034711e-02,  2.06280991e-01,\n",
       "        -6.90443218e-02,  1.21940635e-01,  2.96503976e-02,\n",
       "         5.26287735e-01,  1.06616087e-01, -2.10658312e-02,\n",
       "        -1.53990507e-01, -1.30258650e-01],\n",
       "       [-3.16362768e-01,  9.35988948e-02,  9.19055939e-02,\n",
       "         2.53272116e-01,  3.24141458e-02,  3.12943570e-02,\n",
       "        -4.00806934e-01,  3.63164276e-01,  1.28278136e-01,\n",
       "         9.31240097e-02, -6.93328157e-02, -4.82634038e-01,\n",
       "        -4.02853310e-01, -1.60312966e-01,  1.04675598e-01,\n",
       "         2.40941849e-02,  8.23127031e-02,  1.29389957e-01,\n",
       "         1.64276943e-01,  8.42548385e-02],\n",
       "       [ 1.64374575e-01, -8.67998675e-02,  3.86518240e-01,\n",
       "        -2.03716792e-02, -1.39091179e-01,  4.96853292e-01,\n",
       "         2.13184297e-01,  2.83712707e-02, -3.27635974e-01,\n",
       "         7.72497058e-02,  7.45956600e-02,  4.53395024e-02,\n",
       "        -3.52833778e-01, -3.91549081e-01, -1.02690503e-01,\n",
       "        -1.84323445e-01, -1.05966948e-01, -1.06152363e-01,\n",
       "        -4.09709848e-02, -2.16036186e-01],\n",
       "       [ 1.63651258e-02, -2.02976748e-01,  7.21276924e-02,\n",
       "        -1.57056272e-01, -3.93997014e-01, -2.69413665e-02,\n",
       "        -3.08613241e-01,  1.07647792e-01, -3.30028683e-01,\n",
       "         1.63919423e-02, -1.11610312e-02, -3.61820534e-02,\n",
       "         3.28928709e-01, -1.30410232e-02, -3.63944441e-01,\n",
       "        -1.22207940e-01,  3.61025333e-02,  5.34074605e-01,\n",
       "         8.15603733e-02,  1.92886487e-01],\n",
       "       [ 2.65407353e-03, -1.90169904e-02, -1.62754849e-01,\n",
       "        -1.78346515e-01,  4.39613074e-01,  1.38168573e-01,\n",
       "         8.33844244e-02,  3.32356155e-01, -1.49411514e-01,\n",
       "        -1.62461117e-01, -5.36193788e-01,  2.96302903e-02,\n",
       "         9.24326181e-02, -9.28017423e-02, -1.30330741e-01,\n",
       "        -2.25142613e-01,  4.23385471e-01, -5.43032512e-02,\n",
       "         2.54961643e-02, -1.33399824e-02],\n",
       "       [ 3.24843936e-02, -1.17615685e-01,  8.17367435e-02,\n",
       "         1.59763202e-01, -6.88046217e-02,  2.31662706e-01,\n",
       "        -1.21011190e-01, -1.50139749e-01,  2.40951270e-01,\n",
       "        -1.25170257e-02,  3.21965605e-01, -1.91073939e-01,\n",
       "         7.68504068e-02,  3.68590169e-02, -2.71071255e-01,\n",
       "        -1.59390360e-01,  4.93324131e-01, -4.31281865e-01,\n",
       "        -2.38632873e-01,  3.34057122e-01],\n",
       "       [ 3.26448269e-02, -1.17756248e-01,  1.51630700e-01,\n",
       "         1.98948175e-01, -2.26899058e-01, -2.85236537e-01,\n",
       "        -3.52666341e-02, -2.10777909e-01, -2.40351349e-01,\n",
       "        -4.81789440e-01, -5.25646172e-02,  1.51645169e-02,\n",
       "        -4.33018664e-03, -2.35869095e-01,  2.91972697e-01,\n",
       "         6.15969859e-02,  3.17891896e-01, -1.87718064e-01,\n",
       "         4.01042104e-01, -8.82085226e-03],\n",
       "       [ 8.81342888e-02, -1.54303253e-01,  3.49085107e-02,\n",
       "        -4.02177244e-01,  9.45005193e-02, -1.92426458e-01,\n",
       "         2.44786769e-01,  3.74142975e-01, -1.75685376e-01,\n",
       "         1.50789976e-01,  3.88131887e-01, -6.34994581e-02,\n",
       "        -2.49817014e-01,  1.91850409e-01, -1.40695311e-02,\n",
       "         3.06137621e-01,  1.91778585e-01, -1.06837094e-01,\n",
       "         3.07234436e-01,  2.33101681e-01]], dtype=float32)>"
      ]
     },
     "execution_count": 65,
     "metadata": {},
     "output_type": "execute_result"
    }
   ],
   "source": [
    "# 유닛에 대한 weights\n",
    "model3.weights[1]"
   ]
  },
  {
   "cell_type": "code",
   "execution_count": 66,
   "metadata": {},
   "outputs": [
    {
     "data": {
      "text/plain": [
       "<tf.Variable 'simple_rnn_4/bias:0' shape=(20,) dtype=float32, numpy=\n",
       "array([-0.00065976,  0.00107024,  0.00053327, -0.00025487,  0.00148013,\n",
       "       -0.00184126, -0.00048829,  0.00220167,  0.00036453,  0.00449295,\n",
       "        0.00183774,  0.00188561, -0.00114642, -0.00031257, -0.00042521,\n",
       "        0.00190923, -0.00282712, -0.00103576, -0.0027568 ,  0.00045082],\n",
       "      dtype=float32)>"
      ]
     },
     "execution_count": 66,
     "metadata": {},
     "output_type": "execute_result"
    }
   ],
   "source": [
    "# bias\n",
    "model3.weights[2]"
   ]
  },
  {
   "cell_type": "code",
   "execution_count": 53,
   "metadata": {},
   "outputs": [
    {
     "name": "stdout",
     "output_type": "stream",
     "text": [
      "Model: \"sequential_5\"\n",
      "_________________________________________________________________\n",
      "Layer (type)                 Output Shape              Param #   \n",
      "=================================================================\n",
      "simple_rnn_5 (SimpleRNN)     (None, 60)                3720      \n",
      "_________________________________________________________________\n",
      "dense_5 (Dense)              (None, 1)                 61        \n",
      "=================================================================\n",
      "Total params: 3,781\n",
      "Trainable params: 3,781\n",
      "Non-trainable params: 0\n",
      "_________________________________________________________________\n"
     ]
    }
   ],
   "source": [
    "model4 = Sequential()\n",
    "model4.add(SimpleRNN(60, input_shape=(3, 1)))\n",
    "model4.add(Dense(1, activation=\"linear\"))\n",
    "model4.summary()"
   ]
  },
  {
   "cell_type": "code",
   "execution_count": 54,
   "metadata": {},
   "outputs": [],
   "source": [
    "model4.compile(loss='mse', optimizer='sgd')"
   ]
  },
  {
   "cell_type": "code",
   "execution_count": 55,
   "metadata": {},
   "outputs": [
    {
     "data": {
      "image/png": "[encoded data removed]",
      "text/plain": [
       "<Figure size 432x288 with 1 Axes>"
      ]
     },
     "metadata": {
      "needs_background": "light"
     },
     "output_type": "display_data"
    }
   ],
   "source": [
    "plt.plot(Y_train, 'ro-', label=\"target\")\n",
    "plt.plot(model4.predict(X_train[:, :, :]), 'bs-', label=\"output\")\n",
    "plt.xlim(-0.5, 20.5)\n",
    "plt.ylim(-1.1, 1.1)\n",
    "plt.legend()\n",
    "plt.title(\"Before training\")\n",
    "plt.show()"
   ]
  },
  {
   "cell_type": "code",
   "execution_count": 56,
   "metadata": {},
   "outputs": [
    {
     "name": "stdout",
     "output_type": "stream",
     "text": [
      "Epoch 1/100\n",
      "18/18 [==============================] - 0s 5ms/step - loss: 0.4082\n",
      "Epoch 2/100\n",
      "18/18 [==============================] - 0s 0us/step - loss: 0.3666\n",
      "Epoch 3/100\n",
      "18/18 [==============================] - 0s 425us/step - loss: 0.3297\n",
      "Epoch 4/100\n",
      "18/18 [==============================] - 0s 55us/step - loss: 0.2969\n",
      "Epoch 5/100\n",
      "18/18 [==============================] - 0s 0us/step - loss: 0.2675\n",
      "Epoch 6/100\n",
      "18/18 [==============================] - 0s 0us/step - loss: 0.2413\n",
      "Epoch 7/100\n",
      "18/18 [==============================] - 0s 0us/step - loss: 0.2176\n",
      "Epoch 8/100\n",
      "18/18 [==============================] - 0s 0us/step - loss: 0.1964\n",
      "Epoch 9/100\n",
      "18/18 [==============================] - 0s 0us/step - loss: 0.1772\n",
      "Epoch 10/100\n",
      "18/18 [==============================] - 0s 55us/step - loss: 0.1599\n",
      "Epoch 11/100\n",
      "18/18 [==============================] - 0s 56us/step - loss: 0.1442\n",
      "Epoch 12/100\n",
      "18/18 [==============================] - 0s 55us/step - loss: 0.1301\n",
      "Epoch 13/100\n",
      "18/18 [==============================] - 0s 55us/step - loss: 0.1173\n",
      "Epoch 14/100\n",
      "18/18 [==============================] - 0s 55us/step - loss: 0.1057\n",
      "Epoch 15/100\n",
      "18/18 [==============================] - 0s 55us/step - loss: 0.0952\n",
      "Epoch 16/100\n",
      "18/18 [==============================] - 0s 54us/step - loss: 0.0858\n",
      "Epoch 17/100\n",
      "18/18 [==============================] - 0s 55us/step - loss: 0.0772\n",
      "Epoch 18/100\n",
      "18/18 [==============================] - 0s 111us/step - loss: 0.0695\n",
      "Epoch 19/100\n",
      "18/18 [==============================] - 0s 29us/step - loss: 0.0625\n",
      "Epoch 20/100\n",
      "18/18 [==============================] - 0s 55us/step - loss: 0.0562\n",
      "Epoch 21/100\n",
      "18/18 [==============================] - 0s 55us/step - loss: 0.0505\n",
      "Epoch 22/100\n",
      "18/18 [==============================] - 0s 55us/step - loss: 0.0454\n",
      "Epoch 23/100\n",
      "18/18 [==============================] - 0s 56us/step - loss: 0.0407\n",
      "Epoch 24/100\n",
      "18/18 [==============================] - 0s 55us/step - loss: 0.0366\n",
      "Epoch 25/100\n",
      "18/18 [==============================] - 0s 55us/step - loss: 0.0328\n",
      "Epoch 26/100\n",
      "18/18 [==============================] - 0s 55us/step - loss: 0.0294\n",
      "Epoch 27/100\n",
      "18/18 [==============================] - 0s 111us/step - loss: 0.0264\n",
      "Epoch 28/100\n",
      "18/18 [==============================] - 0s 55us/step - loss: 0.0237\n",
      "Epoch 29/100\n",
      "18/18 [==============================] - 0s 55us/step - loss: 0.0212\n",
      "Epoch 30/100\n",
      "18/18 [==============================] - 0s 55us/step - loss: 0.0190\n",
      "Epoch 31/100\n",
      "18/18 [==============================] - 0s 55us/step - loss: 0.0170\n",
      "Epoch 32/100\n",
      "18/18 [==============================] - 0s 55us/step - loss: 0.0152\n",
      "Epoch 33/100\n",
      "18/18 [==============================] - 0s 55us/step - loss: 0.0136\n",
      "Epoch 34/100\n",
      "18/18 [==============================] - 0s 55us/step - loss: 0.0122\n",
      "Epoch 35/100\n",
      "18/18 [==============================] - 0s 111us/step - loss: 0.0109\n",
      "Epoch 36/100\n",
      "18/18 [==============================] - 0s 55us/step - loss: 0.0098\n",
      "Epoch 37/100\n",
      "18/18 [==============================] - 0s 55us/step - loss: 0.0087\n",
      "Epoch 38/100\n",
      "18/18 [==============================] - 0s 55us/step - loss: 0.0078\n",
      "Epoch 39/100\n",
      "18/18 [==============================] - 0s 55us/step - loss: 0.0070\n",
      "Epoch 40/100\n",
      "18/18 [==============================] - 0s 111us/step - loss: 0.0063\n",
      "Epoch 41/100\n",
      "18/18 [==============================] - 0s 55us/step - loss: 0.0056\n",
      "Epoch 42/100\n",
      "18/18 [==============================] - 0s 55us/step - loss: 0.0050\n",
      "Epoch 43/100\n",
      "18/18 [==============================] - 0s 55us/step - loss: 0.0045\n",
      "Epoch 44/100\n",
      "18/18 [==============================] - 0s 55us/step - loss: 0.0040\n",
      "Epoch 45/100\n",
      "18/18 [==============================] - 0s 111us/step - loss: 0.0036\n",
      "Epoch 46/100\n",
      "18/18 [==============================] - 0s 55us/step - loss: 0.0032\n",
      "Epoch 47/100\n",
      "18/18 [==============================] - 0s 55us/step - loss: 0.0029\n",
      "Epoch 48/100\n",
      "18/18 [==============================] - 0s 55us/step - loss: 0.0026\n",
      "Epoch 49/100\n",
      "18/18 [==============================] - 0s 55us/step - loss: 0.0023\n",
      "Epoch 50/100\n",
      "18/18 [==============================] - 0s 55us/step - loss: 0.0021\n",
      "Epoch 51/100\n",
      "18/18 [==============================] - 0s 55us/step - loss: 0.0019\n",
      "Epoch 52/100\n",
      "18/18 [==============================] - 0s 55us/step - loss: 0.0017\n",
      "Epoch 53/100\n",
      "18/18 [==============================] - 0s 55us/step - loss: 0.0015\n",
      "Epoch 54/100\n",
      "18/18 [==============================] - 0s 55us/step - loss: 0.0013\n",
      "Epoch 55/100\n",
      "18/18 [==============================] - 0s 111us/step - loss: 0.0012\n",
      "Epoch 56/100\n",
      "18/18 [==============================] - 0s 55us/step - loss: 0.0011\n",
      "Epoch 57/100\n",
      "18/18 [==============================] - 0s 111us/step - loss: 9.8185e-04\n",
      "Epoch 58/100\n",
      "18/18 [==============================] - 0s 55us/step - loss: 8.8602e-04\n",
      "Epoch 59/100\n",
      "18/18 [==============================] - 0s 111us/step - loss: 8.0060e-04\n",
      "Epoch 60/100\n",
      "18/18 [==============================] - 0s 55us/step - loss: 7.2446e-04\n",
      "Epoch 61/100\n",
      "18/18 [==============================] - 0s 55us/step - loss: 6.5661e-04\n",
      "Epoch 62/100\n",
      "18/18 [==============================] - 0s 111us/step - loss: 5.9614e-04\n",
      "Epoch 63/100\n",
      "18/18 [==============================] - 0s 55us/step - loss: 5.4226e-04\n",
      "Epoch 64/100\n",
      "18/18 [==============================] - 0s 56us/step - loss: 4.9426e-04\n",
      "Epoch 65/100\n",
      "18/18 [==============================] - 0s 111us/step - loss: 4.5149e-04\n",
      "Epoch 66/100\n",
      "18/18 [==============================] - 0s 55us/step - loss: 4.1339e-04\n",
      "Epoch 67/100\n",
      "18/18 [==============================] - 0s 55us/step - loss: 3.7945e-04\n",
      "Epoch 68/100\n",
      "18/18 [==============================] - 0s 54us/step - loss: 3.4922e-04\n",
      "Epoch 69/100\n",
      "18/18 [==============================] - 0s 111us/step - loss: 3.2229e-04\n",
      "Epoch 70/100\n",
      "18/18 [==============================] - 0s 55us/step - loss: 2.9831e-04\n",
      "Epoch 71/100\n",
      "18/18 [==============================] - 0s 56us/step - loss: 2.7696e-04\n",
      "Epoch 72/100\n",
      "18/18 [==============================] - 0s 55us/step - loss: 2.5794e-04\n",
      "Epoch 73/100\n",
      "18/18 [==============================] - 0s 56us/step - loss: 2.4100e-04\n",
      "Epoch 74/100\n",
      "18/18 [==============================] - 0s 55us/step - loss: 2.2592e-04\n",
      "Epoch 75/100\n",
      "18/18 [==============================] - 0s 55us/step - loss: 2.1249e-04\n",
      "Epoch 76/100\n",
      "18/18 [==============================] - 0s 55us/step - loss: 2.0053e-04\n",
      "Epoch 77/100\n",
      "18/18 [==============================] - 0s 55us/step - loss: 1.8988e-04\n",
      "Epoch 78/100\n",
      "18/18 [==============================] - 0s 111us/step - loss: 1.8039e-04\n",
      "Epoch 79/100\n",
      "18/18 [==============================] - 0s 55us/step - loss: 1.7195e-04\n",
      "Epoch 80/100\n",
      "18/18 [==============================] - 0s 56us/step - loss: 1.6443e-04\n",
      "Epoch 81/100\n",
      "18/18 [==============================] - 0s 55us/step - loss: 1.5774e-04\n",
      "Epoch 82/100\n",
      "18/18 [==============================] - 0s 55us/step - loss: 1.5177e-04\n",
      "Epoch 83/100\n",
      "18/18 [==============================] - 0s 55us/step - loss: 1.4647e-04\n",
      "Epoch 84/100\n",
      "18/18 [==============================] - 0s 55us/step - loss: 1.4174e-04\n",
      "Epoch 85/100\n",
      "18/18 [==============================] - 0s 55us/step - loss: 1.3753e-04\n",
      "Epoch 86/100\n",
      "18/18 [==============================] - 0s 111us/step - loss: 1.3378e-04\n",
      "Epoch 87/100\n",
      "18/18 [==============================] - 0s 111us/step - loss: 1.3044e-04\n",
      "Epoch 88/100\n",
      "18/18 [==============================] - 0s 55us/step - loss: 1.2746e-04\n",
      "Epoch 89/100\n",
      "18/18 [==============================] - 0s 111us/step - loss: 1.2481e-04\n",
      "Epoch 90/100\n",
      "18/18 [==============================] - 0s 55us/step - loss: 1.2245e-04\n",
      "Epoch 91/100\n",
      "18/18 [==============================] - 0s 55us/step - loss: 1.2035e-04\n",
      "Epoch 92/100\n",
      "18/18 [==============================] - 0s 55us/step - loss: 1.1847e-04\n",
      "Epoch 93/100\n",
      "18/18 [==============================] - 0s 55us/step - loss: 1.1680e-04\n",
      "Epoch 94/100\n",
      "18/18 [==============================] - 0s 56us/step - loss: 1.1531e-04\n",
      "Epoch 95/100\n",
      "18/18 [==============================] - 0s 55us/step - loss: 1.1398e-04\n",
      "Epoch 96/100\n",
      "18/18 [==============================] - 0s 111us/step - loss: 1.1280e-04\n",
      "Epoch 97/100\n",
      "18/18 [==============================] - 0s 55us/step - loss: 1.1174e-04\n",
      "Epoch 98/100\n",
      "18/18 [==============================] - 0s 55us/step - loss: 1.1080e-04\n"
     ]
    },
    {
     "name": "stdout",
     "output_type": "stream",
     "text": [
      "Epoch 99/100\n",
      "18/18 [==============================] - 0s 55us/step - loss: 1.0995e-04\n",
      "Epoch 100/100\n",
      "18/18 [==============================] - 0s 55us/step - loss: 1.0920e-04\n"
     ]
    }
   ],
   "source": [
    "history = model4.fit(X_train, Y_train, epochs=100)"
   ]
  },
  {
   "cell_type": "code",
   "execution_count": 57,
   "metadata": {},
   "outputs": [
    {
     "data": {
      "image/png": "[encoded data removed]",
      "text/plain": [
       "<Figure size 432x288 with 1 Axes>"
      ]
     },
     "metadata": {
      "needs_background": "light"
     },
     "output_type": "display_data"
    }
   ],
   "source": [
    "plt.plot(history.history[\"loss\"])\n",
    "plt.title(\"Loss\")\n",
    "plt.show()"
   ]
  },
  {
   "cell_type": "code",
   "execution_count": 58,
   "metadata": {},
   "outputs": [
    {
     "data": {
      "image/png": "[encoded data removed]",
      "text/plain": [
       "<Figure size 432x288 with 1 Axes>"
      ]
     },
     "metadata": {
      "needs_background": "light"
     },
     "output_type": "display_data"
    }
   ],
   "source": [
    "plt.plot(model4.predict(X_train[:, :, :]), 'bs-', label=\"output\")\n",
    "plt.xlim(-0.5, 20.5)\n",
    "plt.ylim(-1.1, 1.1)\n",
    "plt.legend()\n",
    "plt.title(\"After training\")\n",
    "plt.show()"
   ]
  },
  {
   "cell_type": "code",
   "execution_count": 59,
   "metadata": {},
   "outputs": [
    {
     "data": {
      "text/plain": [
       "<tf.Variable 'simple_rnn_5/kernel:0' shape=(1, 60) dtype=float32, numpy=\n",
       "array([[-0.20192136,  0.29707778, -0.28665876, -0.34729615,  0.0483736 ,\n",
       "        -0.27480727,  0.24130249,  0.27461466, -0.24561378,  0.24229437,\n",
       "         0.13743363, -0.24080786, -0.0663695 , -0.12042283,  0.1937168 ,\n",
       "        -0.17353617, -0.2193964 , -0.29603705,  0.04115194,  0.3225134 ,\n",
       "         0.11905411, -0.27925247,  0.01032867, -0.10214503, -0.11784104,\n",
       "        -0.25030628, -0.24339697,  0.10310519,  0.09892973,  0.00658643,\n",
       "        -0.1759776 ,  0.07001791,  0.09872646, -0.27948475,  0.29966158,\n",
       "        -0.0720771 , -0.05783161, -0.03096169, -0.12985633, -0.1354946 ,\n",
       "        -0.19979392,  0.12355161, -0.12308574,  0.07422663, -0.3302587 ,\n",
       "        -0.01971887,  0.14433032,  0.29269272, -0.14156406, -0.06038381,\n",
       "        -0.04221217,  0.17832525, -0.02142984,  0.32877043,  0.11978446,\n",
       "        -0.0519685 ,  0.09893221, -0.06429385, -0.04645309,  0.10459486]],\n",
       "      dtype=float32)>"
      ]
     },
     "execution_count": 59,
     "metadata": {},
     "output_type": "execute_result"
    }
   ],
   "source": [
    "# 입력에 대한 weights\n",
    "model4.weights[0]"
   ]
  },
  {
   "cell_type": "code",
   "execution_count": 60,
   "metadata": {},
   "outputs": [
    {
     "data": {
      "text/plain": [
       "<tf.Variable 'simple_rnn_5/recurrent_kernel:0' shape=(60, 60) dtype=float32, numpy=\n",
       "array([[ 0.12847458,  0.16329068,  0.01143857, ...,  0.08421579,\n",
       "        -0.08146995, -0.19190533],\n",
       "       [ 0.08449564,  0.03721984, -0.10092879, ..., -0.0049866 ,\n",
       "         0.23941156, -0.11834115],\n",
       "       [ 0.00270363,  0.1633254 , -0.13242365, ...,  0.24548095,\n",
       "         0.03972139, -0.07814275],\n",
       "       ...,\n",
       "       [-0.21725397,  0.08556413,  0.06616105, ..., -0.12317029,\n",
       "         0.22095679, -0.01680822],\n",
       "       [ 0.29529607,  0.05422763, -0.04567132, ..., -0.13480182,\n",
       "         0.17243181, -0.06035825],\n",
       "       [-0.12994504, -0.19793282, -0.10817005, ..., -0.1523688 ,\n",
       "        -0.03197218, -0.13820314]], dtype=float32)>"
      ]
     },
     "execution_count": 60,
     "metadata": {},
     "output_type": "execute_result"
    }
   ],
   "source": [
    "# 유닛에 대한 weights\n",
    "model4.weights[1]"
   ]
  },
  {
   "cell_type": "code",
   "execution_count": 61,
   "metadata": {},
   "outputs": [
    {
     "data": {
      "text/plain": [
       "<tf.Variable 'simple_rnn_5/bias:0' shape=(60,) dtype=float32, numpy=\n",
       "array([ 1.2756097e-04, -3.2922646e-04,  3.6755286e-04,  4.9937726e-04,\n",
       "       -5.6150955e-05,  3.2066778e-04, -7.8853621e-04,  5.4275012e-04,\n",
       "        6.1615329e-04, -4.6893614e-04, -8.4275700e-05,  1.7371235e-04,\n",
       "       -8.2606377e-05, -1.6301802e-04,  4.5381655e-04,  5.8606017e-04,\n",
       "        1.4616270e-04,  5.7049864e-04, -5.7689619e-04, -1.0204936e-04,\n",
       "        3.2603569e-04,  3.4444904e-04, -6.8678046e-06, -1.7057777e-04,\n",
       "       -4.0197698e-04,  4.9942464e-04,  2.4409458e-04,  1.0702521e-04,\n",
       "       -7.5032818e-05, -3.6305282e-04,  3.1955569e-04,  4.6384634e-04,\n",
       "        1.8525413e-04,  3.9814509e-05,  3.0938548e-04, -6.9747912e-04,\n",
       "        9.1497228e-04,  4.4673731e-04,  5.7691748e-05, -4.4557310e-04,\n",
       "        3.3069347e-04, -1.0253221e-04,  4.6667574e-06, -3.2263415e-04,\n",
       "       -1.0312105e-04,  9.9665056e-05,  5.6919619e-04, -1.1379047e-04,\n",
       "        3.4937816e-04,  1.4430293e-04,  4.5661253e-04,  4.9893442e-04,\n",
       "       -1.6457672e-04, -6.1859610e-04,  4.0170904e-05, -8.0652688e-05,\n",
       "       -8.7174977e-04, -2.0112205e-04,  6.7888752e-05, -4.6591964e-04],\n",
       "      dtype=float32)>"
      ]
     },
     "execution_count": 61,
     "metadata": {},
     "output_type": "execute_result"
    }
   ],
   "source": [
    "# bias\n",
    "model4.weights[2]"
   ]
  },
  {
   "cell_type": "code",
   "execution_count": null,
   "metadata": {},
   "outputs": [],
   "source": []
  }
 ],
 "metadata": {
  "kernelspec": {
   "display_name": "Python 3",
   "language": "python",
   "name": "python3"
  },
  "language_info": {
   "codemirror_mode": {
    "name": "ipython",
    "version": 3
   },
   "file_extension": ".py",
   "mimetype": "text/x-python",
   "name": "python",
   "nbconvert_exporter": "python",
   "pygments_lexer": "ipython3",
   "version": "3.7.7"
  }
 },
 "nbformat": 4,
 "nbformat_minor": 4
}
