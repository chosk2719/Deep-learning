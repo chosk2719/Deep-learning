{
 "cells": [
  {
   "cell_type": "markdown",
   "metadata": {},
   "source": [
    "# 1. 데이터 전처리\n"
   ]
  },
  {
   "cell_type": "code",
   "execution_count": 1,
   "metadata": {},
   "outputs": [
    {
     "name": "stderr",
     "output_type": "stream",
     "text": [
      "Using TensorFlow backend.\n"
     ]
    }
   ],
   "source": [
    "import numpy as np\n",
    "import pandas as pd\n",
    "from string import punctuation\n",
    "\n",
    "from tensorflow import keras\n",
    "from keras.preprocessing.text import Tokenizer\n",
    "from keras.preprocessing.sequence import pad_sequences\n",
    "from keras.utils import to_categorical"
   ]
  },
  {
   "cell_type": "code",
   "execution_count": 2,
   "metadata": {
    "scrolled": false
   },
   "outputs": [
    {
     "data": {
      "text/html": [
       "<div>\n",
       "<style scoped>\n",
       "    .dataframe tbody tr th:only-of-type {\n",
       "        vertical-align: middle;\n",
       "    }\n",
       "\n",
       "    .dataframe tbody tr th {\n",
       "        vertical-align: top;\n",
       "    }\n",
       "\n",
       "    .dataframe thead th {\n",
       "        text-align: right;\n",
       "    }\n",
       "</style>\n",
       "<table border=\"1\" class=\"dataframe\">\n",
       "  <thead>\n",
       "    <tr style=\"text-align: right;\">\n",
       "      <th></th>\n",
       "      <th>abstract</th>\n",
       "      <th>articleID</th>\n",
       "      <th>articleWordCount</th>\n",
       "      <th>byline</th>\n",
       "      <th>documentType</th>\n",
       "      <th>headline</th>\n",
       "      <th>keywords</th>\n",
       "      <th>multimedia</th>\n",
       "      <th>newDesk</th>\n",
       "      <th>printPage</th>\n",
       "      <th>pubDate</th>\n",
       "      <th>sectionName</th>\n",
       "      <th>snippet</th>\n",
       "      <th>source</th>\n",
       "      <th>typeOfMaterial</th>\n",
       "      <th>webURL</th>\n",
       "    </tr>\n",
       "  </thead>\n",
       "  <tbody>\n",
       "    <tr>\n",
       "      <th>0</th>\n",
       "      <td>NaN</td>\n",
       "      <td>5906b3197c459f24986dd003</td>\n",
       "      <td>2412</td>\n",
       "      <td>By IAN JOHNSON</td>\n",
       "      <td>article</td>\n",
       "      <td>My Beijing: The Sacred City</td>\n",
       "      <td>['Travel and Vacations', 'Beijing (China)', 'R...</td>\n",
       "      <td>3</td>\n",
       "      <td>Travel</td>\n",
       "      <td>1</td>\n",
       "      <td>2017-05-01 04:01:21</td>\n",
       "      <td>Unknown</td>\n",
       "      <td>This metropolis was once a total work of art, ...</td>\n",
       "      <td>The New York Times</td>\n",
       "      <td>News</td>\n",
       "      <td>https://www.nytimes.com/2017/05/01/travel/beij...</td>\n",
       "    </tr>\n",
       "    <tr>\n",
       "      <th>1</th>\n",
       "      <td>NaN</td>\n",
       "      <td>5906b3297c459f24986dd004</td>\n",
       "      <td>2318</td>\n",
       "      <td>By EMMA G. FITZSIMMONS</td>\n",
       "      <td>article</td>\n",
       "      <td>6 Million Riders a Day, 1930s Technology</td>\n",
       "      <td>['Subways', 'Delays (Transportation)', 'Transi...</td>\n",
       "      <td>68</td>\n",
       "      <td>Metro</td>\n",
       "      <td>1</td>\n",
       "      <td>2017-05-01 04:01:33</td>\n",
       "      <td>Unknown</td>\n",
       "      <td>New Yorkâs subway is struggling with old inf...</td>\n",
       "      <td>The New York Times</td>\n",
       "      <td>News</td>\n",
       "      <td>https://www.nytimes.com/2017/05/01/nyregion/ne...</td>\n",
       "    </tr>\n",
       "    <tr>\n",
       "      <th>2</th>\n",
       "      <td>NaN</td>\n",
       "      <td>5906ceec7c459f24986dd021</td>\n",
       "      <td>1795</td>\n",
       "      <td>By MARC TRACY</td>\n",
       "      <td>article</td>\n",
       "      <td>Seeking a Cross-Border Conference</td>\n",
       "      <td>['Cetys University', 'College Athletics', 'Nat...</td>\n",
       "      <td>3</td>\n",
       "      <td>Sports</td>\n",
       "      <td>1</td>\n",
       "      <td>2017-05-01 06:00:05</td>\n",
       "      <td>Unknown</td>\n",
       "      <td>Cetys University is making an ambitious bid to...</td>\n",
       "      <td>The New York Times</td>\n",
       "      <td>News</td>\n",
       "      <td>https://www.nytimes.com/2017/05/01/sports/mexi...</td>\n",
       "    </tr>\n",
       "    <tr>\n",
       "      <th>3</th>\n",
       "      <td>NaN</td>\n",
       "      <td>5906cfa77c459f24986dd022</td>\n",
       "      <td>213</td>\n",
       "      <td>By SHANNON DOYNE</td>\n",
       "      <td>article</td>\n",
       "      <td>Questions for: âDespite the âYuck Factor,â...</td>\n",
       "      <td>[]</td>\n",
       "      <td>3</td>\n",
       "      <td>Learning</td>\n",
       "      <td>0</td>\n",
       "      <td>2017-05-01 06:03:03</td>\n",
       "      <td>Unknown</td>\n",
       "      <td>How are leeches used to treat various medical ...</td>\n",
       "      <td>The New York Times</td>\n",
       "      <td>News</td>\n",
       "      <td>https://www.nytimes.com/2017/05/01/learning/qu...</td>\n",
       "    </tr>\n",
       "    <tr>\n",
       "      <th>4</th>\n",
       "      <td>NaN</td>\n",
       "      <td>5906e1c07c459f24986dd039</td>\n",
       "      <td>1342</td>\n",
       "      <td>By JASON STANLEY</td>\n",
       "      <td>article</td>\n",
       "      <td>Who Is a âCriminalâ?</td>\n",
       "      <td>['Illegal Immigration', 'Traffic and Parking V...</td>\n",
       "      <td>3</td>\n",
       "      <td>OpEd</td>\n",
       "      <td>0</td>\n",
       "      <td>2017-05-01 07:20:26</td>\n",
       "      <td>Unknown</td>\n",
       "      <td>Justice Roberts was right. The Trump administr...</td>\n",
       "      <td>The New York Times</td>\n",
       "      <td>Op-Ed</td>\n",
       "      <td>https://www.nytimes.com/2017/05/01/opinion/who...</td>\n",
       "    </tr>\n",
       "    <tr>\n",
       "      <th>...</th>\n",
       "      <td>...</td>\n",
       "      <td>...</td>\n",
       "      <td>...</td>\n",
       "      <td>...</td>\n",
       "      <td>...</td>\n",
       "      <td>...</td>\n",
       "      <td>...</td>\n",
       "      <td>...</td>\n",
       "      <td>...</td>\n",
       "      <td>...</td>\n",
       "      <td>...</td>\n",
       "      <td>...</td>\n",
       "      <td>...</td>\n",
       "      <td>...</td>\n",
       "      <td>...</td>\n",
       "      <td>...</td>\n",
       "    </tr>\n",
       "    <tr>\n",
       "      <th>991</th>\n",
       "      <td>NaN</td>\n",
       "      <td>593087d17c459f24986e2ed8</td>\n",
       "      <td>609</td>\n",
       "      <td>By DEB AMLEN</td>\n",
       "      <td>article</td>\n",
       "      <td>Yes, You Can Write More Than One Letter in a S...</td>\n",
       "      <td>['Crossword Puzzles']</td>\n",
       "      <td>65</td>\n",
       "      <td>Games</td>\n",
       "      <td>0</td>\n",
       "      <td>2017-06-01 21:31:55</td>\n",
       "      <td>Unknown</td>\n",
       "      <td>Rebuses are crossword elements where solvers a...</td>\n",
       "      <td>The New York Times</td>\n",
       "      <td>News</td>\n",
       "      <td>https://www.nytimes.com/2017/06/01/crosswords/...</td>\n",
       "    </tr>\n",
       "    <tr>\n",
       "      <th>992</th>\n",
       "      <td>NaN</td>\n",
       "      <td>59308fdc7c459f24986e2ef2</td>\n",
       "      <td>797</td>\n",
       "      <td>By PAUL KRUGMAN</td>\n",
       "      <td>article</td>\n",
       "      <td>Trumpâs Act  Of Gratuitous Destruction</td>\n",
       "      <td>['United States Economy', 'United Nations Fram...</td>\n",
       "      <td>3</td>\n",
       "      <td>OpEd</td>\n",
       "      <td>25</td>\n",
       "      <td>2017-06-01 22:06:15</td>\n",
       "      <td>Unknown</td>\n",
       "      <td>To the president and the right, itâs all abo...</td>\n",
       "      <td>The New York Times</td>\n",
       "      <td>Op-Ed</td>\n",
       "      <td>https://www.nytimes.com/2017/06/01/opinion/tru...</td>\n",
       "    </tr>\n",
       "    <tr>\n",
       "      <th>993</th>\n",
       "      <td>NaN</td>\n",
       "      <td>5930a48f7c459f24986e2f24</td>\n",
       "      <td>945</td>\n",
       "      <td>By GINIA BELLAFANTE</td>\n",
       "      <td>article</td>\n",
       "      <td>Petty Crime, Daunting Bail</td>\n",
       "      <td>['Bail', 'Robberies and Thefts', 'Poverty', 'L...</td>\n",
       "      <td>3</td>\n",
       "      <td>Metropolitan</td>\n",
       "      <td>1</td>\n",
       "      <td>2017-06-01 23:34:14</td>\n",
       "      <td>Unknown</td>\n",
       "      <td>Using conflict resolution and social services ...</td>\n",
       "      <td>The New York Times</td>\n",
       "      <td>News</td>\n",
       "      <td>https://www.nytimes.com/2017/06/01/nyregion/ge...</td>\n",
       "    </tr>\n",
       "    <tr>\n",
       "      <th>994</th>\n",
       "      <td>NaN</td>\n",
       "      <td>5930aa877c459f24986e2f2a</td>\n",
       "      <td>141</td>\n",
       "      <td>By BARBARA BOLTON</td>\n",
       "      <td>article</td>\n",
       "      <td>Unknown</td>\n",
       "      <td>['Bay Ridge (Brooklyn, NY)']</td>\n",
       "      <td>0</td>\n",
       "      <td>Metro</td>\n",
       "      <td>22</td>\n",
       "      <td>2017-06-02 00:00:04</td>\n",
       "      <td>Unknown</td>\n",
       "      <td>A bus rider wants a tale to conclude before he...</td>\n",
       "      <td>The New York Times</td>\n",
       "      <td>News</td>\n",
       "      <td>https://www.nytimes.com/2017/06/01/nyregion/me...</td>\n",
       "    </tr>\n",
       "    <tr>\n",
       "      <th>995</th>\n",
       "      <td>NaN</td>\n",
       "      <td>5930ae877c459f24986e2f33</td>\n",
       "      <td>1176</td>\n",
       "      <td>By HIROKO TABUCHI and HENRY FOUNTAIN</td>\n",
       "      <td>article</td>\n",
       "      <td>Bucking Trump, These Cities, States and Compan...</td>\n",
       "      <td>['United Nations Framework Convention on Clima...</td>\n",
       "      <td>3</td>\n",
       "      <td>Foreign</td>\n",
       "      <td>12</td>\n",
       "      <td>2017-06-02 00:17:02</td>\n",
       "      <td>Unknown</td>\n",
       "      <td>An unnamed group, which includes 30 mayors, th...</td>\n",
       "      <td>The New York Times</td>\n",
       "      <td>News</td>\n",
       "      <td>https://www.nytimes.com/2017/06/01/climate/ame...</td>\n",
       "    </tr>\n",
       "  </tbody>\n",
       "</table>\n",
       "<p>996 rows × 16 columns</p>\n",
       "</div>"
      ],
      "text/plain": [
       "    abstract                 articleID  articleWordCount  \\\n",
       "0        NaN  5906b3197c459f24986dd003              2412   \n",
       "1        NaN  5906b3297c459f24986dd004              2318   \n",
       "2        NaN  5906ceec7c459f24986dd021              1795   \n",
       "3        NaN  5906cfa77c459f24986dd022               213   \n",
       "4        NaN  5906e1c07c459f24986dd039              1342   \n",
       "..       ...                       ...               ...   \n",
       "991      NaN  593087d17c459f24986e2ed8               609   \n",
       "992      NaN  59308fdc7c459f24986e2ef2               797   \n",
       "993      NaN  5930a48f7c459f24986e2f24               945   \n",
       "994      NaN  5930aa877c459f24986e2f2a               141   \n",
       "995      NaN  5930ae877c459f24986e2f33              1176   \n",
       "\n",
       "                                   byline documentType  \\\n",
       "0                          By IAN JOHNSON      article   \n",
       "1                  By EMMA G. FITZSIMMONS      article   \n",
       "2                           By MARC TRACY      article   \n",
       "3                        By SHANNON DOYNE      article   \n",
       "4                        By JASON STANLEY      article   \n",
       "..                                    ...          ...   \n",
       "991                          By DEB AMLEN      article   \n",
       "992                       By PAUL KRUGMAN      article   \n",
       "993                   By GINIA BELLAFANTE      article   \n",
       "994                     By BARBARA BOLTON      article   \n",
       "995  By HIROKO TABUCHI and HENRY FOUNTAIN      article   \n",
       "\n",
       "                                              headline  \\\n",
       "0                          My Beijing: The Sacred City   \n",
       "1             6 Million Riders a Day, 1930s Technology   \n",
       "2                    Seeking a Cross-Border Conference   \n",
       "3    Questions for: âDespite the âYuck Factor,â...   \n",
       "4                             Who Is a âCriminalâ?   \n",
       "..                                                 ...   \n",
       "991  Yes, You Can Write More Than One Letter in a S...   \n",
       "992           Trumpâs Act  Of Gratuitous Destruction   \n",
       "993                         Petty Crime, Daunting Bail   \n",
       "994                                            Unknown   \n",
       "995  Bucking Trump, These Cities, States and Compan...   \n",
       "\n",
       "                                              keywords  multimedia  \\\n",
       "0    ['Travel and Vacations', 'Beijing (China)', 'R...           3   \n",
       "1    ['Subways', 'Delays (Transportation)', 'Transi...          68   \n",
       "2    ['Cetys University', 'College Athletics', 'Nat...           3   \n",
       "3                                                   []           3   \n",
       "4    ['Illegal Immigration', 'Traffic and Parking V...           3   \n",
       "..                                                 ...         ...   \n",
       "991                              ['Crossword Puzzles']          65   \n",
       "992  ['United States Economy', 'United Nations Fram...           3   \n",
       "993  ['Bail', 'Robberies and Thefts', 'Poverty', 'L...           3   \n",
       "994                       ['Bay Ridge (Brooklyn, NY)']           0   \n",
       "995  ['United Nations Framework Convention on Clima...           3   \n",
       "\n",
       "          newDesk  printPage              pubDate sectionName  \\\n",
       "0          Travel          1  2017-05-01 04:01:21     Unknown   \n",
       "1           Metro          1  2017-05-01 04:01:33     Unknown   \n",
       "2          Sports          1  2017-05-01 06:00:05     Unknown   \n",
       "3        Learning          0  2017-05-01 06:03:03     Unknown   \n",
       "4            OpEd          0  2017-05-01 07:20:26     Unknown   \n",
       "..            ...        ...                  ...         ...   \n",
       "991         Games          0  2017-06-01 21:31:55     Unknown   \n",
       "992          OpEd         25  2017-06-01 22:06:15     Unknown   \n",
       "993  Metropolitan          1  2017-06-01 23:34:14     Unknown   \n",
       "994         Metro         22  2017-06-02 00:00:04     Unknown   \n",
       "995       Foreign         12  2017-06-02 00:17:02     Unknown   \n",
       "\n",
       "                                               snippet              source  \\\n",
       "0    This metropolis was once a total work of art, ...  The New York Times   \n",
       "1    New Yorkâs subway is struggling with old inf...  The New York Times   \n",
       "2    Cetys University is making an ambitious bid to...  The New York Times   \n",
       "3    How are leeches used to treat various medical ...  The New York Times   \n",
       "4    Justice Roberts was right. The Trump administr...  The New York Times   \n",
       "..                                                 ...                 ...   \n",
       "991  Rebuses are crossword elements where solvers a...  The New York Times   \n",
       "992  To the president and the right, itâs all abo...  The New York Times   \n",
       "993  Using conflict resolution and social services ...  The New York Times   \n",
       "994  A bus rider wants a tale to conclude before he...  The New York Times   \n",
       "995  An unnamed group, which includes 30 mayors, th...  The New York Times   \n",
       "\n",
       "    typeOfMaterial                                             webURL  \n",
       "0             News  https://www.nytimes.com/2017/05/01/travel/beij...  \n",
       "1             News  https://www.nytimes.com/2017/05/01/nyregion/ne...  \n",
       "2             News  https://www.nytimes.com/2017/05/01/sports/mexi...  \n",
       "3             News  https://www.nytimes.com/2017/05/01/learning/qu...  \n",
       "4            Op-Ed  https://www.nytimes.com/2017/05/01/opinion/who...  \n",
       "..             ...                                                ...  \n",
       "991           News  https://www.nytimes.com/2017/06/01/crosswords/...  \n",
       "992          Op-Ed  https://www.nytimes.com/2017/06/01/opinion/tru...  \n",
       "993           News  https://www.nytimes.com/2017/06/01/nyregion/ge...  \n",
       "994           News  https://www.nytimes.com/2017/06/01/nyregion/me...  \n",
       "995           News  https://www.nytimes.com/2017/06/01/climate/ame...  \n",
       "\n",
       "[996 rows x 16 columns]"
      ]
     },
     "execution_count": 2,
     "metadata": {},
     "output_type": "execute_result"
    }
   ],
   "source": [
    "df=pd.read_csv('data/ArticlesMay2017.csv', encoding='latin')\n",
    "df"
   ]
  },
  {
   "cell_type": "code",
   "execution_count": 3,
   "metadata": {},
   "outputs": [
    {
     "name": "stdout",
     "output_type": "stream",
     "text": [
      "열의 개수:  16\n",
      "Index(['abstract', 'articleID', 'articleWordCount', 'byline', 'documentType',\n",
      "       'headline', 'keywords', 'multimedia', 'newDesk', 'printPage', 'pubDate',\n",
      "       'sectionName', 'snippet', 'source', 'typeOfMaterial', 'webURL'],\n",
      "      dtype='object')\n"
     ]
    }
   ],
   "source": [
    "print('열의 개수: ', len(df.columns))\n",
    "print(df.columns)"
   ]
  },
  {
   "cell_type": "code",
   "execution_count": 4,
   "metadata": {},
   "outputs": [
    {
     "data": {
      "text/plain": [
       "False"
      ]
     },
     "execution_count": 4,
     "metadata": {},
     "output_type": "execute_result"
    }
   ],
   "source": [
    "df['headline'].isnull().values.any()"
   ]
  },
  {
   "cell_type": "code",
   "execution_count": 5,
   "metadata": {
    "scrolled": false
   },
   "outputs": [
    {
     "name": "stdout",
     "output_type": "stream",
     "text": [
      "<class 'pandas.core.frame.DataFrame'>\n",
      "RangeIndex: 996 entries, 0 to 995\n",
      "Data columns (total 16 columns):\n",
      " #   Column            Non-Null Count  Dtype \n",
      "---  ------            --------------  ----- \n",
      " 0   abstract          33 non-null     object\n",
      " 1   articleID         996 non-null    object\n",
      " 2   articleWordCount  996 non-null    int64 \n",
      " 3   byline            996 non-null    object\n",
      " 4   documentType      996 non-null    object\n",
      " 5   headline          996 non-null    object\n",
      " 6   keywords          996 non-null    object\n",
      " 7   multimedia        996 non-null    int64 \n",
      " 8   newDesk           996 non-null    object\n",
      " 9   printPage         996 non-null    int64 \n",
      " 10  pubDate           996 non-null    object\n",
      " 11  sectionName       996 non-null    object\n",
      " 12  snippet           996 non-null    object\n",
      " 13  source            996 non-null    object\n",
      " 14  typeOfMaterial    996 non-null    object\n",
      " 15  webURL            996 non-null    object\n",
      "dtypes: int64(3), object(13)\n",
      "memory usage: 124.6+ KB\n"
     ]
    }
   ],
   "source": [
    "df.info()"
   ]
  },
  {
   "cell_type": "code",
   "execution_count": 6,
   "metadata": {},
   "outputs": [
    {
     "data": {
      "text/plain": [
       "['My Beijing: The Sacred City',\n",
       " '6 Million Riders a Day, 1930s Technology',\n",
       " 'Seeking a Cross-Border Conference',\n",
       " 'Questions for: â\\x80\\x98Despite the â\\x80\\x9cYuck Factor,â\\x80\\x9d Leeches Are Big in Russian Medicineâ\\x80\\x99',\n",
       " 'Who Is a â\\x80\\x98Criminalâ\\x80\\x99?']"
      ]
     },
     "execution_count": 6,
     "metadata": {},
     "output_type": "execute_result"
    }
   ],
   "source": [
    "headline = [title for title in df.headline.values]\n",
    "headline[:5]"
   ]
  },
  {
   "cell_type": "code",
   "execution_count": 7,
   "metadata": {},
   "outputs": [
    {
     "data": {
      "text/plain": [
       "996"
      ]
     },
     "execution_count": 7,
     "metadata": {},
     "output_type": "execute_result"
    }
   ],
   "source": [
    "len(headline)"
   ]
  },
  {
   "cell_type": "code",
   "execution_count": 8,
   "metadata": {},
   "outputs": [
    {
     "data": {
      "text/plain": [
       "935"
      ]
     },
     "execution_count": 8,
     "metadata": {},
     "output_type": "execute_result"
    }
   ],
   "source": [
    "# 노이즈 데이터('Unknown') 제거\n",
    "headline = [title for title in headline if title != 'Unknown']\n",
    "len(headline)"
   ]
  },
  {
   "cell_type": "code",
   "execution_count": 9,
   "metadata": {},
   "outputs": [
    {
     "data": {
      "text/plain": [
       "'!\"#$%&\\'()*+,-./:;<=>?@[\\\\]^_`{|}~'"
      ]
     },
     "execution_count": 9,
     "metadata": {},
     "output_type": "execute_result"
    }
   ],
   "source": [
    "punctuation"
   ]
  },
  {
   "cell_type": "code",
   "execution_count": 10,
   "metadata": {},
   "outputs": [],
   "source": [
    "def repreprocessing(s):\n",
    "    s=s.encode(\"utf8\").decode(\"ascii\", 'ignore')\n",
    "    return ''.join(c for c in s if c not in punctuation).lower()"
   ]
  },
  {
   "cell_type": "code",
   "execution_count": 11,
   "metadata": {},
   "outputs": [
    {
     "data": {
      "text/plain": [
       "['my beijing the sacred city',\n",
       " '6 million riders a day 1930s technology',\n",
       " 'seeking a crossborder conference',\n",
       " 'questions for despite the yuck factor leeches are big in russian medicine',\n",
       " 'who is a criminal']"
      ]
     },
     "execution_count": 11,
     "metadata": {},
     "output_type": "execute_result"
    }
   ],
   "source": [
    "text = [repreprocessing(x) for x in headline]\n",
    "text[:5]"
   ]
  },
  {
   "cell_type": "code",
   "execution_count": 12,
   "metadata": {},
   "outputs": [
    {
     "name": "stdout",
     "output_type": "stream",
     "text": [
      "단어 집합의 크기 : 2653\n"
     ]
    }
   ],
   "source": [
    "t = Tokenizer()\n",
    "t.fit_on_texts(text)\n",
    "vocab_size = len(t.word_index) + 1\n",
    "print('단어 집합의 크기 : %d' % vocab_size)"
   ]
  },
  {
   "cell_type": "code",
   "execution_count": 13,
   "metadata": {},
   "outputs": [
    {
     "data": {
      "text/plain": [
       "[[48, 799],\n",
       " [48, 799, 1],\n",
       " [48, 799, 1, 800],\n",
       " [48, 799, 1, 800, 57],\n",
       " [114, 406],\n",
       " [114, 406, 407],\n",
       " [114, 406, 407, 2],\n",
       " [114, 406, 407, 2, 179],\n",
       " [114, 406, 407, 2, 179, 801],\n",
       " [114, 406, 407, 2, 179, 801, 802],\n",
       " [803, 2]]"
      ]
     },
     "execution_count": 13,
     "metadata": {},
     "output_type": "execute_result"
    }
   ],
   "source": [
    "sequences = []\n",
    "for line in text: \n",
    "    encoded = t.texts_to_sequences([line])[0] \n",
    "    for i in range(1, len(encoded)):\n",
    "        sequence = encoded[:i+1]\n",
    "        sequences.append(sequence)\n",
    "\n",
    "sequences[:11]"
   ]
  },
  {
   "cell_type": "code",
   "execution_count": 14,
   "metadata": {},
   "outputs": [
    {
     "name": "stdout",
     "output_type": "stream",
     "text": [
      "{'the': 1, 'a': 2, 'to': 3, 'of': 4, 'in': 5, 'for': 6, 'and': 7, 'trump': 8, 'is': 9, 'on': 10, 'new': 11, 'how': 12, 'with': 13, 'you': 14, 'at': 15, 'an': 16, 'season': 17, 'what': 18, 'it': 19, 'its': 20, 'york': 21, 'episode': 22, 'trumps': 23, 'from': 24, 'as': 25, 'be': 26, 'not': 27, 'are': 28, 'may': 29, 'when': 30, 'but': 31, 'after': 32, 'about': 33, '3': 34, 'today': 35, 'this': 36, 'us': 37, 'recap': 38, 'by': 39, 'we': 40, 'comey': 41, 'house': 42, 'questions': 43, 'health': 44, 'president': 45, 'bill': 46, 'that': 47, 'my': 48, 'too': 49, 'get': 50, 'was': 51, 'life': 52, 'or': 53, 'will': 54, 'why': 55, 'your': 56, 'city': 57, 'dont': 58, 'care': 59, 'more': 60, 'do': 61, 'can': 62, 'has': 63, 'no': 64, 'up': 65, 'time': 66, 'out': 67, 'into': 68, 'better': 69, 'war': 70, 'his': 71, 'their': 72, 'says': 73, 'american': 74, 'love': 75, 'one': 76, 'gop': 77, '5': 78, 'climate': 79, 'should': 80, 'donald': 81, 'getting': 82, 'mr': 83, 'james': 84, 'like': 85, 'first': 86, 'have': 87, 'right': 88, 'republicans': 89, 'our': 90, 'subway': 91, 'over': 92, 'contest': 93, 'who': 94, 'whats': 95, 'going': 96, 'winner': 97, 'than': 98, 'call': 99, 'white': 100, 'french': 101, 'home': 102, 'pay': 103, 'all': 104, 'future': 105, 'two': 106, 'her': 107, 'if': 108, 'go': 109, 'macron': 110, 'times': 111, 'world': 112, 'editorial': 113, '6': 114, 'power': 115, 'say': 116, 'north': 117, 'much': 118, 'really': 119, 'own': 120, 'handmaids': 121, 'tale': 122, 'americans': 123, 'just': 124, 'takes': 125, 'mindful': 126, 'way': 127, 'where': 128, 'back': 129, 'attack': 130, 'china': 131, 'off': 132, 'he': 133, 'could': 134, 'south': 135, 'firing': 136, 'fbi': 137, 'i': 138, 'body': 139, 'big': 140, 'picture': 141, 'women': 142, 'they': 143, 'real': 144, 'change': 145, 'korea': 146, 'vs': 147, 'political': 148, 'great': 149, 'money': 150, 'deal': 151, 'now': 152, 'voice': 153, 'high': 154, 'crisis': 155, 'children': 156, 'so': 157, 'race': 158, 'good': 159, 'debate': 160, 'fargo': 161, 'less': 162, 'looking': 163, 'take': 164, 'cant': 165, 'death': 166, 'does': 167, 'kushners': 168, 'food': 169, '2': 170, 'news': 171, 'open': 172, 'plan': 173, 'russia': 174, 'pain': 175, 'want': 176, 'bad': 177, 'budget': 178, 'day': 179, 'revised': 180, '2017': 181, 'media': 182, 'dream': 183, 'police': 184, 'seeing': 185, 'injury': 186, 'risks': 187, 'best': 188, 'saul': 189, '4': 190, 'while': 191, 'vietnam': 192, 'lead': 193, 'book': 194, 'did': 195, 'calls': 196, 'come': 197, 'attacks': 198, 'rise': 199, 'america': 200, 'readers': 201, 'past': 202, 'hate': 203, 'learn': 204, 'election': 205, 'red': 206, 'mets': 207, 'year': 208, 'study': 209, 'save': 210, 'action': 211, 'classic': 212, 'would': 213, 'need': 214, 'use': 215, 'man': 216, 'act': 217, 'make': 218, 'wrong': 219, 'friday': 220, 'mailbag': 221, 'cbo': 222, 'market': 223, 'student': 224, 'variety': 225, 'family': 226, 'chinese': 227, 'fall': 228, 'leftovers': 229, 'under': 230, 'help': 231, 'social': 232, 'sports': 233, 'were': 234, 'look': 235, 'again': 236, 'justice': 237, 'talk': 238, 'summer': 239, 'child': 240, 'blame': 241, 'letter': 242, 'history': 243, 'still': 244, 'me': 245, 'democracy': 246, 'work': 247, 'states': 248, 'colleges': 249, 'said': 250, 'free': 251, 'behind': 252, 'math': 253, 'peaks': 254, 'win': 255, 'poverty': 256, '7': 257, 'language': 258, 'hit': 259, 'without': 260, 'suicide': 261, 'experts': 262, 'see': 263, 'cause': 264, 'fatal': 265, 'students': 266, 'street': 267, 'another': 268, '100': 269, 'miles': 270, 'full': 271, 'americas': 272, 'young': 273, 'effect': 274, 'abortion': 275, 'science': 276, 'goes': 277, 'putin': 278, 'chef': 279, 'gender': 280, 'staying': 281, 'making': 282, 'bar': 283, 'faces': 284, 'play': 285, 'tell': 286, 'pass': 287, 'risk': 288, 'center': 289, 'people': 290, 'enough': 291, 'rules': 292, 'add': 293, 'trumpcares': 294, 'close': 295, 'empire': 296, 'ivanka': 297, 'presidents': 298, 'turned': 299, 'down': 300, 'crime': 301, 'once': 302, 'senate': 303, 'test': 304, 'disaster': 305, 'problem': 306, 'ride': 307, 'remember': 308, 'books': 309, 'country': 310, 'europe': 311, 'republic': 312, 'schools': 313, 'missing': 314, 'teaching': 315, 'lessons': 316, 'democrats': 317, 'near': 318, 'wont': 319, 'met': 320, 'ask': 321, 'college': 322, 'hacking': 323, 'france': 324, 'frances': 325, 'party': 326, 'la': 327, 'confederate': 328, 'elects': 329, 'road': 330, 'republican': 331, 'mother': 332, 'left': 333, 'hes': 334, 'meal': 335, 'taking': 336, 'flynn': 337, 'paris': 338, 'benefits': 339, 'person': 340, 'secrets': 341, 'read': 342, 'obama': 343, 'front': 344, 'charge': 345, 'amid': 346, 'inquiry': 347, 'heart': 348, 'master': 349, 'needs': 350, 'west': 351, 'system': 352, 'liberty': 353, 'director': 354, 'against': 355, 'live': 356, 'roils': 357, 'cheap': 358, 'blood': 359, 'favorite': 360, 'him': 361, 'between': 362, 'shot': 363, 'dear': 364, 'troubles': 365, 'role': 366, 'force': 367, 'inside': 368, 'dies': 369, 'daunting': 370, 'trade': 371, 'question': 372, 'hackers': 373, 'global': 374, 'stand': 375, 'united': 376, 'security': 377, 'google': 378, 'legal': 379, 'baby': 380, 'maybe': 381, 'then': 382, 'teachers': 383, 'point': 384, 'room': 385, 'grand': 386, 'twin': 387, 'meat': 388, 'eat': 389, 'wage': 390, 'black': 391, 'terror': 392, 'looks': 393, 'here': 394, 'activists': 395, 'becomes': 396, 'short': 397, 'bombing': 398, 'top': 399, 'appeal': 400, 'nato': 401, 'court': 402, 'kushner': 403, 'embrace': 404, 'accord': 405, 'million': 406, 'riders': 407, 'despite': 408, 'russian': 409, 'medicine': 410, 'europes': 411, 'cost': 412, 'speech': 413, 'being': 414, 'pitch': 415, '1': 416, 'patients': 417, 'medical': 418, 'wall': 419, 'transit': 420, 'reporter': 421, 'cut': 422, 'liberal': 423, 'australia': 424, 'texas': 425, 'shooting': 426, 'most': 427, 'ties': 428, 'put': 429, 'bird': 430, 'coming': 431, 'cry': 432, 'window': 433, 'le': 434, 'restaurant': 435, 'chicken': 436, 'cream': 437, 'days': 438, 'blue': 439, 'stands': 440, 'school': 441, 'choice': 442, 'works': 443, 'novel': 444, 'something': 445, 'badly': 446, 'battle': 447, 'lines': 448, 'outside': 449, 'door': 450, 'last': 451, 'navigating': 452, 'forest': 453, 'comet': 454, 'bright': 455, 'woman': 456, 'uncertainty': 457, 'marching': 458, 'ferry': 459, 'prize': 460, 'brexit': 461, 'covered': 462, 'syria': 463, 'crucial': 464, 'crossword': 465, 'patch': 466, 'ann': 467, 'clinton': 468, 'struggling': 469, 'stopping': 470, 'search': 471, 'dad': 472, 'along': 473, 'worth': 474, 'reach': 475, '9': 476, 'bus': 477, 'medicaid': 478, 'state': 479, 'crazy': 480, 'parents': 481, '13': 482, 'unleash': 483, 'return': 484, 'island': 485, 'doctors': 486, 'office': 487, 'childs': 488, 'presidential': 489, 'leader': 490, 'votes': 491, 'fasting': 492, 'nutrition': 493, 'fruit': 494, 'christian': 495, 'nervous': 496, 'rich': 497, 'billions': 498, 'common': 499, 'name': 500, 'teams': 501, 'league': 502, 'seats': 503, 'space': 504, 'damage': 505, 'team': 506, 'fear': 507, 'many': 508, 'let': 509, 'breathe': 510, 'prisoner': 511, 'heres': 512, 'distance': 513, 'travel': 514, 'movie': 515, 'tv': 516, 'show': 517, 'trail': 518, 'border': 519, 'punish': 520, 'wealthy': 521, 'poor': 522, 'drugs': 523, 'steroids': 524, 'trumpcare': 525, 'granted': 526, 'telling': 527, 'revival': 528, 'theres': 529, 'afford': 530, 'preexisting': 531, 'matter': 532, 'defense': 533, 'phone': 534, 'victory': 535, 'broken': 536, 'fiery': 537, 'debut': 538, 'low': 539, 'mean': 540, 'flavors': 541, 'union': 542, 'story': 543, 'fine': 544, 'citing': 545, 'locked': 546, 'campaign': 547, 'failed': 548, 'debt': 549, 'coop': 550, 'project': 551, 'puzzle': 552, 'final': 553, 'players': 554, 'remains': 555, 'de': 556, 'doctor': 557, 'southern': 558, 'letters': 559, 'monuments': 560, 'harvey': 561, 'modern': 562, 'steady': 563, 'train': 564, 'ahead': 565, 'drastic': 566, 'conservative': 567, 'girls': 568, 'finale': 569, 'rises': 570, 'human': 571, '8': 572, 'review': 573, 'marriage': 574, 'lost': 575, 'remain': 576, 'place': 577, 'drug': 578, 'sway': 579, 'vote': 580, 'beat': 581, 'taiwan': 582, 'annual': 583, 'meeting': 584, 'surprise': 585, 'mans': 586, 'doing': 587, 'prosecutors': 588, 'tougher': 589, 'stance': 590, 'fraternity': 591, 'hazing': 592, 'deaths': 593, 'tiny': 594, 'long': 595, 'business': 596, 'lesson': 597, 'water': 598, 'same': 599, 'sentences': 600, 'chief': 601, 'them': 602, 'national': 603, 'investigate': 604, 'blasphemy': 605, 'challenge': 606, 'meets': 607, 'eye': 608, 'stay': 609, 'together': 610, 'side': 611, 'feast': 612, 'step': 613, 'start': 614, 'yanks': 615, 'disability': 616, 'choose': 617, 'easy': 618, 'talking': 619, 'bring': 620, 'second': 621, 'plans': 622, 'include': 623, 'knees': 624, 'arthritis': 625, 'text': 626, 'david': 627, 'write': 628, 'ticking': 629, 'clock': 630, 'next': 631, '22': 632, 'billion': 633, 'months': 634, 'warning': 635, 'religious': 636, 'tribute': 637, 'learned': 638, 'feel': 639, 'pet': 640, 'moment': 641, 'prime': 642, 'tax': 643, 'cuts': 644, 'daughter': 645, 'cooking': 646, 'shifts': 647, 'calling': 648, 'got': 649, 'washington': 650, 'town': 651, 'mothers': 652, 'club': 653, 'beyond': 654, 'coach': 655, 'thats': 656, 'millions': 657, 'private': 658, 'used': 659, 'didnt': 660, 'boys': 661, 'aim': 662, 'praising': 663, 'fun': 664, 'marathon': 665, 'stirs': 666, 'there': 667, 'tool': 668, 'nsa': 669, 'sweetness': 670, 'called': 671, 'staff': 672, 'gets': 673, 'classroom': 674, 'motherhood': 675, 'safe': 676, 'acrostic': 677, 'warns': 678, 'malware': 679, 'chasing': 680, 'deadly': 681, 'experience': 682, 'segregation': 683, 'invites': 684, 'dangerous': 685, 'justices': 686, 'central': 687, 'wines': 688, 'period': 689, 'expose': 690, 'russians': 691, 'gave': 692, 'ban': 693, 'brick': 694, 'grades': 695, 'mind': 696, 'moving': 697, 'keeping': 698, 'danger': 699, 'healthy': 700, 'sharapova': 701, 'age': 702, 'skin': 703, 'mice': 704, 'port': 705, 'fight': 706, 'major': 707, 'things': 708, 'solution': 709, '11': 710, 'youre': 711, 'lives': 712, 'middle': 713, 'walk': 714, 'kids': 715, 'men': 716, 'three': 717, 'tests': 718, 'special': 719, 'counsel': 720, 'cab': 721, 'end': 722, 'agents': 723, 'always': 724, 'traveling': 725, 'expert': 726, 'dog': 727, 'ideas': 728, 'before': 729, 'divorce': 730, 'anecdotes': 731, 'east': 732, 'trip': 733, 'flood': 734, 'breaking': 735, 'already': 736, 'turning': 737, 'happy': 738, 'cover': 739, 'made': 740, 'oil': 741, 'giving': 742, 'match': 743, 'rent': 744, 'five': 745, 'years': 746, 'deposit': 747, 'falling': 748, 'internet': 749, 'rural': 750, 'india': 751, 'statue': 752, 'guidelines': 753, 'greek': 754, 'cuomo': 755, 'ethics': 756, 'sleep': 757, 'cities': 758, 'reject': 759, 'voters': 760, 'truckers': 761, 'episodes': 762, '12': 763, 'came': 764, 'britain': 765, 'finding': 766, 'remembering': 767, 'extends': 768, 'keep': 769, 'through': 770, 'rising': 771, 'square': 772, 'walks': 773, 'disclose': 774, 'knee': 775, 'cruelty': 776, 'isnt': 777, 'lack': 778, 'advisers': 779, 'flaws': 780, 'bullpen': 781, 'ariana': 782, 'grande': 783, 'taste': 784, 'cure': 785, 'politics': 786, 'manchester': 787, 'assault': 788, 'living': 789, 'dirty': 790, 'away': 791, 'some': 792, 'tempt': 793, 'pact': 794, 'fix': 795, 'idea': 796, 'tiananmen': 797, 'decision': 798, 'beijing': 799, 'sacred': 800, '1930s': 801, 'technology': 802, 'seeking': 803, 'crossborder': 804, 'conference': 805, 'yuck': 806, 'factor': 807, 'leeches': 808, 'criminal': 809, 'antidote': 810, 'populism': 811, 'degradation': 812, 'awful': 813, 'garbles': 814, 'pregnant': 815, 'serious': 816, 'whooping': 817, 'cough': 818, 'wonderland': 819, 'riding': 820, 'london': 821, 'tube': 822, 'avocado': 823, 'cutting': 824, 'yourself': 825, 'fictional': 826, 'alarm': 827, 'claims': 828, 'bias': 829, 'espn': 830, 'crumbling': 831, 'account': 832, 'officers': 833, '15yearold': 834, 'adults': 835, 'favor': 836, 'sex': 837, 'ed': 838, 'feels': 839, 'bind': 840, 'bettertasting': 841, 'everyones': 842, 'critic': 843, 'st': 844, 'felix': 845, 'embraces': 846, 'despot': 847, 'per': 848, 'hour': 849, 'overture': 850, 'manipulator': 851, 'pulitzer': 852, 'shudders': 853, 'muses': 854, 'rallying': 855, 'zika': 856, 'twins': 857, 'virus': 858, 'coucou': 859, 'named': 860, 'beard': 861, 'awards': 862, 'ice': 863, 'field': 864, 'disunion': 865, 'vouchers': 866, 'written': 867, 'idealistic': 868, 'determined': 869, 'slovaks': 870, 'anticorruption': 871, 'crusade': 872, 'gain': 873, 'pursuing': 874, 'superfood': 875, 'expansionists': 876, 'clinic': 877, 'kentucky': 878, '280': 879, 'scaffolding': 880, 'shines': 881, 'fantastic': 882, 'fantastical': 883, 'cool': 884, 'bordering': 885, 'dismay': 886, 'politicizing': 887, 'feedback': 888, 'phones': 889, 'least': 890, 'likely': 891, 'tabloids': 892, 'inky': 893, 'fingerprints': 894, 'wake': 895, 'avoid': 896, 'shutdown': 897, 'later': 898, 'agree': 899, 'pursue': 900, 'ceasefire': 901, 'scrambles': 902, 'shuns': 903, 'oneday': 904, 'internship': 905, 'vegetable': 906, 'flamethrowers': 907, 'coulter': 908, 'campus': 909, 'crossroads': 910, 'unprepared': 911, 'lone': 912, 'wolves': 913, '38': 914, 'pizza': 915, 'exclusive': 916, 'elusive': 917, 'treachery': 918, 'night': 919, 'nessie': 920, 'toast': 921, 'german': 922, 'bank': 923, 'industry': 924, 'reverse': 925, 'tuan': 926, 'flashier': 927, 'cricket': 928, 'specter': 929, 'doping': 930, 'department': 931, 'deserves': 932, 'fox': 933, 'european': 934, 'shaming': 935, 'lunch': 936, 'hookup': 937, 'reasons': 938, 'raising': 939, 'awareness': 940, 'teenage': 941, 'glamorizing': 942, 'caregivers': 943, 'bret': 944, 'stephens': 945, 'fury': 946, 'fbis': 947, 'disclosure': 948, 'jolted': 949, 'assembly': 950, 'required': 951, 'labour': 952, 'brink': 953, 'hamiltons': 954, 'caribbean': 955, 'visits': 956, 'commercials': 957, 'prepare': 958, 'automated': 959, 'dieting': 960, 'magic': 961, 'diabetes': 962, 'immoral': 963, 'preference': 964, 'refugees': 965, 'anger': 966, 'stage': 967, 'rivals': 968, 'notsolazy': 969, 'saturday': 970, 'mildly': 971, 'nauseous': 972, 'extra': 973, 'word': 974, 'bull': 975, 'champions': 976, 'planes': 977, 'airlines': 978, 'reduce': 979, 'shows': 980, 'winter': 981, 'driving': 982, 'hazard': 983, 'ghosts': 984, 'draw': 985, 'yanagita': 986, 'opponents': 987, 'bully': 988, 'pulpit': 989, 'senators': 990, 'unintended': 991, 'consequences': 992, 'penn': 993, 'station': 994, 'modernday': 995, 'harriet': 996, 'tubman': 997, 'ear': 998, 'agenda': 999, 'enemy': 1000, 'enemies': 1001, 'pop': 1002, 'childhood': 1003, 'handstand': 1004, 'preparing': 1005, 'poignant': 1006, 'paper': 1007, 'victims': 1008, 'ocean': 1009, 'beckons': 1010, 'newspapers': 1011, 'streamed': 1012, 'benefit': 1013, 'hives': 1014, 'passed': 1015, 'seafood': 1016, 'cocktails': 1017, 'shock': 1018, 'intimate': 1019, 'portrait': 1020, 'blurred': 1021, 'loving': 1022, 'feeling': 1023, 'im': 1024, 'only': 1025, 'ahca': 1026, 'father': 1027, 'pen': 1028, 'servicebased': 1029, 'policing': 1030, 'elevator': 1031, 'bury': 1032, 'whining': 1033, 'libraries': 1034, 'fining': 1035, 'reality': 1036, 'condition': 1037, 'instructions': 1038, 'old': 1039, 'passes': 1040, 'measure': 1041, 'repeal': 1042, 'replace': 1043, 'affordable': 1044, 'hurting': 1045, 'relationships': 1046, 'endpaper': 1047, 'homemade': 1048, 'company': 1049, 'joining': 1050, 'bridgeandtunnel': 1051, 'crowd': 1052, 'cheers': 1053, 'stirred': 1054, 'hornets': 1055, 'nest': 1056, 'promise': 1057, 'columnist': 1058, 'hiring': 1059, 'sends': 1060, 'jobless': 1061, 'rate': 1062, '10year': 1063, 'forger': 1064, 'losses': 1065, '2010': 1066, 'midterms': 1067, 'tending': 1068, 'daughters': 1069, 'crown': 1070, 'jersey': 1071, 'employment': 1072, 'mediterranean': 1073, 'enlivened': 1074, 'ramps': 1075, 'unorthodox': 1076, 'asparagus': 1077, 'disregarded': 1078, 'ignored': 1079, 'farmers': 1080, 'shopping': 1081, 'tom': 1082, 'colicchio': 1083, 'survival': 1084, '495': 1085, 'signature': 1086, 'shoe': 1087, 'headshakes': 1088, 'headline': 1089, 'asylum': 1090, 'rarely': 1091, '2nd': 1092, 'nominee': 1093, 'army': 1094, 'secretary': 1095, 'withdraws': 1096, 'misleading': 1097, 'leaving': 1098, 'massive': 1099, 'sox': 1100, 'racism': 1101, 'adam': 1102, 'jones': 1103, 'wheres': 1104, 'blowout': 1105, 'collectible': 1106, 'quotations': 1107, 'trilliondollar': 1108, 'mounting': 1109, 'renovation': 1110, 'frustrating': 1111, 'neighbors': 1112, 'greatest': 1113, 'minutes': 1114, 'sport': 1115, 'split': 1116, 'decisions': 1117, 'pounce': 1118, 'path': 1119, 'retake': 1120, 'gives': 1121, 'jolt': 1122, 'chaotic': 1123, 'sister': 1124, 'highlights': 1125, 'investors': 1126, 'keeps': 1127, 'band': 1128, 'fading': 1129, 'star': 1130, 'spurs': 1131, 'et': 1132, 'dfense': 1133, 'rpublique': 1134, 'excandidates': 1135, 'stuck': 1136, 'hillary': 1137, 'clintons': 1138, 'absolution': 1139, 'hazardous': 1140, 'cliff': 1141, 'facebook': 1142, 'miserable': 1143, 'censorship': 1144, 'entrant': 1145, 'factcheck': 1146, 'biz': 1147, 'hidden': 1148, 'radicalism': 1149, 'taxes': 1150, 'duality': 1151, 'quality': 1152, 'starts': 1153, 'c': 1154, 'ends': 1155, 'd': 1156, 'tempers': 1157, 'flare': 1158, 'towering': 1159, 'monument': 1160, 'jesus': 1161, 'mao': 1162, 'disciplined': 1163, 'marlins': 1164, 'fillin': 1165, 'shunning': 1166, 'emergent': 1167, 'far': 1168, 'emmanuel': 1169, 'movement': 1170, 'initialism': 1171, 'bland': 1172, 'strangers': 1173, 'cookies': 1174, 'hope': 1175, 'measures': 1176, 'attention': 1177, 'announce': 1178, 'slate': 1179, 'nominees': 1180, 'federal': 1181, 'courts': 1182, 'boko': 1183, 'haram': 1184, 'releases': 1185, '82': 1186, 'wait': 1187, 'anguish': 1188, 'disappearing': 1189, 'alien': 1190, 'predator': 1191, 'rikers': 1192, 'tumult': 1193, 'monitor': 1194, 'accused': 1195, 'spying': 1196, 'seersucker': 1197, 'civility': 1198, 'must': 1199, 'support': 1200, 'rights': 1201, '1984': 1202, 'wrapped': 1203, 'wish': 1204, 'reason': 1205, 'skeptical': 1206, 'lower': 1207, 'breast': 1208, 'cancer': 1209, 'birth': 1210, 'seniors': 1211, 'shun': 1212, 'treasures': 1213, 'statues': 1214, 'removed': 1215, 'medicare': 1216, 'incentive': 1217, 'leads': 1218, 'greater': 1219, 'hospitalizations': 1220, 'keith': 1221, 'olbermann': 1222, 'cable': 1223, 'newss': 1224, 'standardbearer': 1225, 'boom': 1226, 'machu': 1227, 'picchu': 1228, 'little': 1229, 'tallying': 1230, 'blocked': 1231, 'presses': 1232, 'join': 1233, 'assemblys': 1234, 'whiskey': 1235, 'yet': 1236, 'cook': 1237, 'marry': 1238, 'harry': 1239, 'frozen': 1240, 'peas': 1241, 'witness': 1242, 'recounts': 1243, 'onto': 1244, 'tracks': 1245, 'maple': 1246, 'startup': 1247, 'delivered': 1248, 'data': 1249, 'crunchers': 1250, 'yorkers': 1251, 'misery': 1252, 'misfortune': 1253, 'aplenty': 1254, 'golden': 1255, 'visas': 1256, 'shift': 1257, 'knew': 1258, 'lied': 1259, 'exofficial': 1260, 'testifies': 1261, 'filled': 1262, 'bubbles': 1263, 'con': 1264, 'underdog': 1265, 'borrowed': 1266, 'fidget': 1267, 'spinners': 1268, 'johnson': 1269, 'westmoreland': 1270, 'selling': 1271, 'versus': 1272, 'whiff': 1273, 'tap': 1274, 'contamination': 1275, 'reporting': 1276, 'finds': 1277, 'employer': 1278, 'coverage': 1279, 'va': 1280, 'tries': 1281, 'approach': 1282, 'bloomsbury': 1283, 'those': 1284, 'toilets': 1285, 'fit': 1286, 'society': 1287, 'overdose': 1288, 'worry': 1289, 'stock': 1290, 'weirdly': 1291, 'calm': 1292, 'theory': 1293, 'outreach': 1294, 'extras': 1295, 'claim': 1296, 'spotlight': 1297, 'scaling': 1298, 'sees': 1299, 'agriculture': 1300, 'irish': 1301, 'stephen': 1302, 'fry': 1303, 'thin': 1304, 'defying': 1305, 'turkey': 1306, 'arm': 1307, 'kurds': 1308, 'syrian': 1309, 'provocative': 1310, 'designs': 1311, 'apologizes': 1312, 'monacos': 1313, 'glows': 1314, 'statin': 1315, 'effects': 1316, 'driveable': 1317, 'fires': 1318, 'ugly': 1319, 'relievers': 1320, 'lenience': 1321, 'era': 1322, 'ending': 1323, 'soaring': 1324, 'arent': 1325, 'needed': 1326, 'game': 1327, '10': 1328, 'puppet': 1329, 'paige': 1330, 'lying': 1331, 'nuggs': 1332, 'owning': 1333, 'princeling': 1334, 'wing': 1335, 'stasis': 1336, 'filthy': 1337, 'metaphor': 1338, 'rome': 1339, 'heather': 1340, 'thompson': 1341, 'thinks': 1342, 'unfair': 1343, 'hard': 1344, 'weather': 1345, 'wife': 1346, 'moms': 1347, 'funeral': 1348, 'teenagers': 1349, 'adult': 1350, 'mentors': 1351, 'noisy': 1352, 'signal': 1353, 'shower': 1354, 'wild': 1355, 'drags': 1356, 'uptight': 1357, 'foil': 1358, 'welcome': 1359, 'henry': 1360, 'thoreaus': 1361, 'walking': 1362, 'complicit': 1363, 'sense': 1364, 'deepens': 1365, 'defends': 1366, 'fired': 1367, 'rare': 1368, 'libel': 1369, 'suit': 1370, 'which': 1371, 'tech': 1372, 'overlords': 1373, 'capital': 1374, 'critics': 1375, 'lundqvist': 1376, 'rangers': 1377, 'hear': 1378, 'ginobili': 1379, 'channels': 1380, 'younger': 1381, 'self': 1382, 'abnormal': 1383, 'comeys': 1384, 'weigh': 1385, 'seduction': 1386, 'deep': 1387, 'throat': 1388, 'snap': 1389, 'loses': 1390, 'since': 1391, 'ipo': 1392, 'cannings': 1393, 'tells': 1394, 'around': 1395, 'axed': 1396, 'page': 1397, 'a1': 1398, 'music': 1399, 'order': 1400, 'face': 1401, 'glory': 1402, 'lasting': 1403, 'insulting': 1404, 'intelligence': 1405, 'phonetically': 1406, 'speaking': 1407, 'wolf': 1408, 'clothing': 1409, 'sephora': 1410, 'thrives': 1411, 'retail': 1412, 'imperils': 1413, 'fortunes': 1414, 'planets': 1415, 'banker': 1416, 'deputy': 1417, 'attorney': 1418, 'general': 1419, 'equal': 1420, 'footing': 1421, 'breastfed': 1422, 'parliament': 1423, 'thinners': 1424, 'supplements': 1425, 'had': 1426, 'stroke': 1427, 'thrills': 1428, 'mood': 1429, 'booster': 1430, 'well': 1431, 'illustrated': 1432, 'childbirth': 1433, 'harder': 1434, 'adopt': 1435, 'recommend': 1436, 'current': 1437, 'therapists': 1438, 'secret': 1439, 'oneman': 1440, '3ring': 1441, 'circus': 1442, 'pump': 1443, '1908': 1444, 'harrowing': 1445, 'maritime': 1446, 'rescue': 1447, 'told': 1448, 'seas': 1449, 'outpost': 1450, 'bronx': 1451, 'storebranded': 1452, 'credit': 1453, 'cards': 1454, 'buoy': 1455, 'retailers': 1456, 'mask': 1457, 'rationale': 1458, 'showboat': 1459, 'analyzing': 1460, 'relationship': 1461, 'press': 1462, 'icy': 1463, 'mountain': 1464, 'title': 1465, 'saddest': 1466, 'census': 1467, 'rightwing': 1468, 'hysteria': 1469, 'lady': 1470, 'confidante': 1471, 'reshape': 1472, 'evolving': 1473, 'lad': 1474, 'sword': 1475, 'brute': 1476, 'wink': 1477, 'musical': 1478, 'both': 1479, 'cult': 1480, 'abusers': 1481, 'unpunished': 1482, 'joke': 1483, 'impressionists': 1484, 'anyone': 1485, 'congress': 1486, 'stan': 1487, 'weston': 1488, 'sent': 1489, 'gi': 1490, 'joe': 1491, 'childhoods': 1492, '84': 1493, 'dinner': 1494, 'demanded': 1495, 'loyalty': 1496, 'demurred': 1497, 'trumprussia': 1498, 'nexus': 1499, 'boring': 1500, 'billboard': 1501, 'chart': 1502, 'compete': 1503, 'judas': 1504, 'betrayal': 1505, 'rappers': 1506, 'antimissile': 1507, 'brigitte': 1508, 'liberator': 1509, 'poking': 1510, 'ardent': 1511, 'courtship': 1512, 'olympic': 1513, 'rings': 1514, 'economic': 1515, 'woes': 1516, 'greet': 1517, 'koreas': 1518, 'healing': 1519, 'guardrails': 1520, 'dance': 1521, 'mom': 1522, 'hand': 1523, 'sanitizers': 1524, 'illness': 1525, 'signs': 1526, 'compromise': 1527, 'bluster': 1528, 'tapes': 1529, 'immortal': 1530, 'fingertips': 1531, 'liberals': 1532, 'taken': 1533, 'green': 1534, 'garnish': 1535, 'complaint': 1536, 'purell': 1537, 'touring': 1538, 'patrol': 1539, 'king': 1540, 'kong': 1541, 'fantasy': 1542, 'impeachment': 1543, 'crackdown': 1544, 'forprofit': 1545, 'idle': 1546, 'terrible': 1547, 'tilting': 1548, 'titan': 1549, 'pros': 1550, 'opposite': 1551, 'bills': 1552, 'insults': 1553, 'scramble': 1554, 'defuse': 1555, 'cyberattack': 1556, 'taxpayers': 1557, 'bolder': 1558, 'government': 1559, 'smaller': 1560, 'conquered': 1561, 'gap': 1562, 'boxes': 1563, 'unsteady': 1564, 'obstructing': 1565, 'sticks': 1566, 'fork': 1567, 'mode': 1568, 'u': 1569, 'ur': 1570, 'professor': 1571, 'oval': 1572, 'etiquette': 1573, 'guide': 1574, 'grandbabies': 1575, 'reward': 1576, 'places': 1577, 'everyone': 1578, 'hacked': 1579, 'bump': 1580, 'button': 1581, 'aftershock': 1582, 'feared': 1583, 'complexity': 1584, 'tuition': 1585, 'tennessee': 1586, 'tutor': 1587, 'part': 1588, 'persons': 1589, 'psyche': 1590, 'edging': 1591, 'cures': 1592, 'scourges': 1593, 'surreal': 1594, 'ship': 1595, 'fools': 1596, 'gertrude': 1597, 'alice': 1598, 'genius': 1599, 'formal': 1600, 'interacting': 1601, 'professors': 1602, 'cyberattacks': 1603, 'impact': 1604, 'worsen': 1605, 'wave': 1606, 'ransomware': 1607, 'meaning': 1608, 'culprits': 1609, 'flight': 1610, 'madness': 1611, 'mutiny': 1612, 'fume': 1613, 'fingers': 1614, 'falters': 1615, '15': 1616, 'marathons': 1617, 'nearby': 1618, 'residents': 1619, 'runners': 1620, 'such': 1621, 'thing': 1622, 'emergency': 1623, 'tips': 1624, 'biking': 1625, 'thwart': 1626, 'strict': 1627, 'voter': 1628, 'id': 1629, 'law': 1630, 'unevenly': 1631, 'hurt': 1632, 'blacks': 1633, 'comes': 1634, 'hiding': 1635, 'terrorism': 1636, 'cooperation': 1637, 'informants': 1638, 'fate': 1639, 'hangs': 1640, 'balance': 1641, 'pie': 1642, 'tied': 1643, 'diseases': 1644, 'allys': 1645, 'shell': 1646, 'snackhattan': 1647, 'fraudulent': 1648, 'voterfraud': 1649, 'panel': 1650, 'leading': 1651, 'computer': 1652, 'clues': 1653, 'frequent': 1654, 'culprit': 1655, 'dogtired': 1656, 'womans': 1657, 'fortune': 1658, 'ruin': 1659, 'seeks': 1660, 'planned': 1661, 'parenthood': 1662, 'mojo': 1663, 'took': 1664, '14': 1665, 'pooched': 1666, 'false': 1667, 'bestiary': 1668, 'veep': 1669, 'housecat': 1670, 'mystery': 1671, 'geography': 1672, 'skill': 1673, 'citizen': 1674, 'toward': 1675, 'yogurt': 1676, 'bones': 1677, 'supermarket': 1678, 'done': 1679, 'tattlers': 1680, 'pork': 1681, 'starting': 1682, 'israelis': 1683, 'refuses': 1684, 'admit': 1685, 'mexican': 1686, 'appealed': 1687, 'halt': 1688, 'aide': 1689, 'cells': 1690, 'babies': 1691, 'trials': 1692, 'prompt': 1693, 'whatifs': 1694, 'authority': 1695, 'albany': 1696, 'fish': 1697, 'case': 1698, 'blow': 1699, 'obstruct': 1700, 'revealing': 1701, 'overthinking': 1702, '25th': 1703, 'amendment': 1704, 'removing': 1705, 'monster': 1706, 'creativity': 1707, 'scheduled': 1708, 'wheelchair': 1709, 'accidentally': 1710, 'killed': 1711, 'contact': 1712, 'charlamagne': 1713, 'tha': 1714, 'god': 1715, 'loves': 1716, 'privilege': 1717, 'muscles': 1718, 'weak': 1719, 'pink': 1720, 'dots': 1721, 'summoning': 1722, 'brandname': 1723, 'rooster': 1724, 'kites': 1725, 'hermit': 1726, 'crabs': 1727, 'fred': 1728, 'everlasting': 1729, 'mongooses': 1730, 'lab': 1731, 'rat': 1732, 'snake': 1733, 'popularitys': 1734, 'rough': 1735, 'crosscurrents': 1736, 'suburb': 1737, 'concussion': 1738, 'raise': 1739, 'beards': 1740, 'desirable': 1741, 'offset': 1742, 'drop': 1743, 'tourism': 1744, 'mowing': 1745, 'lawn': 1746, 'officials': 1747, 'erdogan': 1748, 'forces': 1749, 'brutal': 1750, 'protesters': 1751, '850000': 1752, 'thousand': 1753, 'western': 1754, 'know': 1755, 'limits': 1756, 'tactic': 1757, 'statements': 1758, 'obstruction': 1759, 'fda': 1760, 'inaccurate': 1761, 'poisoning': 1762, 'settling': 1763, 'fashion': 1764, 'rivalry': 1765, 'nashville': 1766, 'columbus': 1767, 'basquiats': 1768, 'latest': 1769, 'barely': 1770, 'famous': 1771, 'rightly': 1772, 'till': 1773, 'influence': 1774, 'nbas': 1775, 'upstreamed': 1776, 'hailing': 1777, 'avenue': 1778, 'delegation': 1779, 'federations': 1780, 'snub': 1781, 'immigration': 1782, 'arrests': 1783, 'sharply': 1784, 'carry': 1785, 'mandate': 1786, 'blasio': 1787, 'stick': 1788, 'run': 1789, 'late': 1790, 'nation': 1791, 'raised': 1792, 'upon': 1793, 'sitting': 1794, 'threatened': 1795, 'israel': 1796, 'shoulders': 1797, 'animals': 1798, 'vaccines': 1799, 'measles': 1800, 'encounters': 1801, 'hot': 1802, 'each': 1803, 'other': 1804, 'because': 1805, 'share': 1806, 'openmarriage': 1807, 'stories': 1808, 'tales': 1809, 'flippers': 1810, 'led': 1811, 'housing': 1812, 'bubble': 1813, 'festival': 1814, 'cancel': 1815, 'mindfulness': 1816, 'ailes': 1817, 'rage': 1818, 'guest': 1819, 'post': 1820, 'civic': 1821, 'coffeehouse': 1822, 'sake': 1823, 'jailed': 1824, 'wives': 1825, 'fought': 1826, 'vermouth': 1827, 'ready': 1828, 'whet': 1829, 'appetite': 1830, 'mueller': 1831, 'interrupting': 1832, 'gang': 1833, 'killings': 1834, 'anxiety': 1835, 'yields': 1836, 'laughs': 1837, 'winners': 1838, 'fourth': 1839, 'correspondents': 1840, 'pack': 1841, 'wanted': 1842, 'kept': 1843, '110': 1844, 'weapons': 1845, 'sale': 1846, 'saudi': 1847, 'arabia': 1848, 'personal': 1849, 'touch': 1850, 'become': 1851, 'reaction': 1852, 'recent': 1853, 'puerto': 1854, 'ricos': 1855, 'fiscal': 1856, 'ruins': 1857, 'push': 1858, 'statehood': 1859, 'talent': 1860, 'vacuum': 1861, 'causing': 1862, 'prayer': 1863, 'loss': 1864, 'learning': 1865, '52117': 1866, 'spilled': 1867, 'beans': 1868, 'monochrome': 1869, 'renegade': 1870, 'mission': 1871, 'react': 1872, 'peeking': 1873, 'nike': 1874, 'renting': 1875, 'revived': 1876, 'assange': 1877, 'rape': 1878, 'dropped': 1879, 'rigs': 1880, 'reefs': 1881, 'spectators': 1882, 'behaving': 1883, 'absolutism': 1884, 'insect': 1885, 'mysteries': 1886, 'fighters': 1887, 'flew': 1888, 'measured': 1889, 'duterte': 1890, 'xi': 1891, 'warned': 1892, 'sea': 1893, 'ruling': 1894, 'creamy': 1895, 'burrata': 1896, 'springtime': 1897, 'stop': 1898, 'changes': 1899, 'antarctica': 1900, 'weeks': 1901, 'strawberry': 1902, 'showstopper': 1903, '500': 1904, 'rental': 1905, 'admitted': 1906, 'dismissal': 1907, 'eased': 1908, 'pressure': 1909, 'simple': 1910, 'jobs': 1911, 'easier': 1912, 'wrecked': 1913, 'conservatism': 1914, 'paradoxical': 1915, 'journey': 1916, 'watch': 1917, 'leap': 1918, 'paul': 1919, 'ryans': 1920, 'discontent': 1921, 'winnable': 1922, 'speeches': 1923, 'campuses': 1924, 'backed': 1925, 'roommate': 1926, 'upevent': 1927, 'info': 1928, 'puns': 1929, 'anagrams': 1930, 'pruitts': 1931, 'epa': 1932, 'boon': 1933, 'gas': 1934, 'womens': 1935, 'early': 1936, 'dreams': 1937, 'trumpgate': 1938, 'watergate': 1939, 'journalism': 1940, 'blockbuster': 1941, 'scoops': 1942, '4yearolds': 1943, 'establishment': 1944, 'sellout': 1945, 'israels': 1946, 'checkpoints': 1947, 'presidency': 1948, 'survive': 1949, 'aside': 1950, 'washingtons': 1951, 'blazing': 1952, 'inferno': 1953, 'misquoting': 1954, 'scripture': 1955, 'turns': 1956, 'suits': 1957, 'warriors': 1958, 'agassi': 1959, 'djokovic': 1960, 'wasnt': 1961, 'islam': 1962, 'promoting': 1963, 'soured': 1964, 'uber': 1965, 'camping': 1966, 'aid': 1967, 'chinas': 1968, 'gift': 1969, 'germany': 1970, 'giant': 1971, 'marx': 1972, 'emotional': 1973, 'undertones': 1974, 'lurk': 1975, 'liverpools': 1976, 'uplifting': 1977, 'coda': 1978, 'muhammad': 1979, 'ali': 1980, 'actors': 1981, 'kitchen': 1982, 'pediatricians': 1983, 'advise': 1984, 'juice': 1985, 'anarchists': 1986, 'fill': 1987, 'services': 1988, 'void': 1989, 'faltering': 1990, 'governance': 1991, 'ai': 1992, 'unfreeing': 1993, 'workers': 1994, 'anniversary': 1995, 'coup': 1996, 'hurts': 1997, '24': 1998, 'thai': 1999, 'military': 2000, 'hospital': 2001, 'expectations': 2002, 'earning': 2003, 'saving': 2004, 'spending': 2005, 'challenges': 2006, 'query': 2007, 'stern': 2008, 'reply': 2009, 'pollen': 2010, 'counts': 2011, 'scores': 2012, 'avoiding': 2013, 'trans': 2014, 'fats': 2015, 'adolescent': 2016, 'birding': 2017, 'stresses': 2018, 'palestinian': 2019, 'collateral': 2020, 'defending': 2021, 'urban': 2022, 'legend': 2023, 'mostly': 2024, 'missile': 2025, 'informative': 2026, 'districts': 2027, 'carolina': 2028, 'packing': 2029, 'italienne': 2030, 'identity': 2031, 'cuddly': 2032, 'bears': 2033, 'kangaroos': 2034, 'very': 2035, 'lonely': 2036, 'plate': 2037, 'misled': 2038, 'pentagon': 2039, 'interviewing': 2040, 'crossroad': 2041, 'nightmare': 2042, 'hamlet': 2043, 'poised': 2044, 'worlds': 2045, 'style': 2046, 'concert': 2047, 'blast': 2048, 'lollipop': 2049, 'guild': 2050, 'rides': 2051, 'proposal': 2052, 'curtails': 2053, 'efforts': 2054, 'figure': 2055, 'skating': 2056, 'event': 2057, 'jimmy': 2058, 'backward': 2059, 'romance': 2060, 'riyadh': 2061, 'accept': 2062, 'ole': 2063, 'miss': 2064, 'senates': 2065, 'strategy': 2066, 'shhh': 2067, 'alienated': 2068, 'edge': 2069, 'alert': 2070, 'hits': 2071, 'level': 2072, 'kushnerville': 2073, 'fighting': 2074, 'california': 2075, 'florida': 2076, 'scott': 2077, 'joplin': 2078, 'discovers': 2079, 'muslims': 2080, 'bullets': 2081, 'doors': 2082, 'silence': 2083, 'pulling': 2084, 'trigger': 2085, 'kindergarten': 2086, 'anticonspiracy': 2087, 'advances': 2088, 'japan': 2089, 'governor': 2090, 'drops': 2091, 'sentence': 2092, 'graduating': 2093, 'maryland': 2094, 'sets': 2095, 'furor': 2096, 'bride': 2097, 'joy': 2098, 'judgment': 2099, 'infection': 2100, 'jamaican': 2101, 'beef': 2102, 'patty': 2103, 'decade': 2104, 'ill': 2105, 'rockies': 2106, 'savoring': 2107, 'possibilities': 2108, 'roster': 2109, 'aged': 2110, 'searing': 2111, 'truth': 2112, 'spy': 2113, 'loved': 2114, 'gen': 2115, 'xers': 2116, 'steps': 2117, 'fray': 2118, 'hell': 2119, 'chocolate': 2120, 'austerity': 2121, 'stays': 2122, 'eloquence': 2123, 'nonsensical': 2124, 'milkshakes': 2125, 'terrorists': 2126, 'target': 2127, 'scheming': 2128, 'plumber': 2129, 'suffer': 2130, 'angry': 2131, 'zillows': 2132, 'estimates': 2133, 'improving': 2134, 'superstar': 2135, 'armenia': 2136, 'image': 2137, 'price': 2138, 'denial': 2139, 'rusting': 2140, 'ours': 2141, 'requirement': 2142, 'ignites': 2143, 'fairness': 2144, 'janet': 2145, 'mock': 2146, 'wants': 2147, 'yearbooks': 2148, 'charity': 2149, 'exploits': 2150, 'employees': 2151, 'mondrian': 2152, 'aleppo': 2153, 'tested': 2154, 'tethered': 2155, 'fire': 2156, 'score': 2157, 'hunt': 2158, 'bombers': 2159, 'accomplices': 2160, 'libya': 2161, 'brisk': 2162, 'slow': 2163, 'dementia': 2164, 'swimming': 2165, '2300000': 2166, 'tampon': 2167, 'makers': 2168, 'ingredients': 2169, 'historic': 2170, 'preserved': 2171, 'revitalized': 2172, 'alan': 2173, 'yang': 2174, 'none': 2175, 'creator': 2176, 'jeff': 2177, 'sweet': 2178, 'son': 2179, 'crossing': 2180, 'box': 2181, 'someone': 2182, 'believe': 2183, 'surf': 2184, 'sand': 2185, 'lots': 2186, 'fiber': 2187, 'phony': 2188, 'leadership': 2189, 'talked': 2190, 'ways': 2191, 'report': 2192, 'reveals': 2193, 'barbara': 2194, 'smith': 2195, 'conrad': 2196, 'singer': 2197, 'integration': 2198, 'dispute': 2199, '79': 2200, 'unexpected': 2201, 'analyzes': 2202, 'foresees': 2203, 'problems': 2204, 'stretched': 2205, 'candidate': 2206, 'attacked': 2207, 'trailblazers': 2208, 'declaration': 2209, 'ray': 2210, 'loser': 2211, 'aversion': 2212, 'ethical': 2213, 'scrutiny': 2214, 'married': 2215, 'gops': 2216, 'hypocrisy': 2217, 'hall': 2218, 'fame': 2219, 'alone': 2220, 'throwaway': 2221, 'terrace': 2222, 'dust': 2223, 'pot': 2224, 'vague': 2225, 'misstep': 2226, 'pronouns': 2227, 'yankees': 2228, 'wins': 2229, 'extend': 2230, 'ticket': 2231, 'sales': 2232, 'john': 2233, 'shields': 2234, 'running': 2235, 'adventure': 2236, 'hong': 2237, 'kongs': 2238, 'maclehose': 2239, 'psychedelic': 2240, 'birthday': 2241, 'succeed': 2242, 'affair': 2243, 'message': 2244, 'condemns': 2245, 'deeply': 2246, 'troubling': 2247, 'leaks': 2248, 'complaints': 2249, 'tuning': 2250, 'carnage': 2251, 'memory': 2252, 'floral': 2253, 'bloom': 2254, 'rioja': 2255, 'struggles': 2256, 'define': 2257, 'fourstar': 2258, 'blowhard': 2259, 'fog': 2260, 'rejects': 2261, 'sessions': 2262, 'vows': 2263, 'checking': 2264, 'democracys': 2265, 'pulse': 2266, 'plank': 2267, 'grateful': 2268, 'dead': 2269, 'welcoming': 2270, 'presents': 2271, 'contrasts': 2272, 'lovers': 2273, 'she': 2274, 'upends': 2275, 'montana': 2276, 'scene': 2277, 'photos': 2278, 'outcry': 2279, 'pickup': 2280, 'basketball': 2281, 'backup': 2282, 'quarterback': 2283, 'tackling': 2284, 'taboo': 2285, 'song': 2286, 'spotlights': 2287, 'requiring': 2288, 'safety': 2289, 'netting': 2290, 'shouldnt': 2291, 'dancing': 2292, 'kellermans': 2293, 'kill': 2294, 'fails': 2295, 'contempt': 2296, 'four': 2297, 'narratives': 2298, 'arms': 2299, 'deals': 2300, 'peace': 2301, 'misfits': 2302, 'developing': 2303, 'liking': 2304, 'g': 2305, 'j': 2306, 'm': 2307, 'z': 2308, 'perfect': 2309, 'puff': 2310, 'stereotypes': 2311, 'foiled': 2312, 'move': 2313, 'l': 2314, 'executive': 2315, 'infantrys': 2316, 'shoulder': 2317, 'heavy': 2318, 'gear': 2319, 'weight': 2320, 'tongue': 2321, 'nothing': 2322, 'trust': 2323, 'network': 2324, '150': 2325, 'devoted': 2326, 'fans': 2327, 'reduced': 2328, 'newark': 2329, 'forced': 2330, 'unasked': 2331, 'growth': 2332, '34': 2333, 'tour': 2334, 'bringing': 2335, 'motley': 2336, 'site': 2337, 'goliath': 2338, 'nourishing': 2339, 'fast': 2340, 'consider': 2341, 'pence': 2342, 'try': 2343, 'mezcal': 2344, 'veterans': 2345, 'tragedy': 2346, 'rambling': 2347, 'menu': 2348, 'reversal': 2349, 'waivers': 2350, 'exlobbyists': 2351, 'triumph': 2352, 'nondisaster': 2353, 'mulled': 2354, 'channel': 2355, 'peddler': 2356, 'literature': 2357, 'issue': 2358, 'stamps': 2359, 'withholding': 2360, 'endorsement': 2361, '54': 2362, 'fell': 2363, 'leukemia': 2364, 'reaffirmed': 2365, 'handtohand': 2366, 'combat': 2367, 'forget': 2368, 'fireworks': 2369, 'onfield': 2370, 'drama': 2371, 'revives': 2372, 'cup': 2373, 'cameras': 2374, 'badge': 2375, 'discomforts': 2376, '35000': 2377, 'feet': 2378, 'bottom': 2379, 'line': 2380, 'comparisons': 2381, 'jordan': 2382, 'viewership': 2383, 'sheridan': 2384, 'expressway': 2385, 'shortcut': 2386, 'strain': 2387, 'bombs': 2388, 'korean': 2389, 'urgency': 2390, 'candy': 2391, 'heir': 2392, 'ruined': 2393, 'teeth': 2394, 'praise': 2395, 'causes': 2396, 'conditions': 2397, 'vietnams': 2398, 'unhealed': 2399, 'wounds': 2400, 'energy': 2401, 'gateway': 2402, 'degenerate': 2403, 'groundhog': 2404, 'temptation': 2405, 'positive': 2406, 'results': 2407, 'als': 2408, 'diagnosis': 2409, 'dire': 2410, 'charges': 2411, 'taiwanese': 2412, 'activist': 2413, 'subversion': 2414, 'proud': 2415, 'graduate': 2416, 'gooden': 2417, 'ceremony': 2418, 'iowa': 2419, 'rests': 2420, 'immigrants': 2421, 'scourge': 2422, 'plagiarized': 2423, 'code': 2424, 'inquiries': 2425, 'turn': 2426, 'ally': 2427, 'brains': 2428, 'manuel': 2429, 'noriega': 2430, 'strongman': 2431, 'ousted': 2432, 'panama': 2433, '83': 2434, 'stood': 2435, 'antimuslim': 2436, 'paid': 2437, 'womenonly': 2438, 'screenings': 2439, 'wonder': 2440, 'houses': 2441, 'naacp': 2442, 'politicians': 2443, 'pick': 2444, 'lyndon': 2445, 'johnsons': 2446, 'jared': 2447, 'knotty': 2448, 'clan': 2449, 'princeton': 2450, 'pleasantest': 2451, 'yawning': 2452, 'class': 2453, 'divide': 2454, 'geometry': 2455, 'blocks': 2456, 'prek': 2457, 'fat': 2458, 'shots': 2459, 'asian': 2460, 'misnomer': 2461, 'affirmative': 2462, 'misses': 2463, 'custody': 2464, 'memorializing': 2465, 'memorial': 2466, 'lets': 2467, 'highproof': 2468, 'shaking': 2469, 'replacements': 2470, 'mindset': 2471, 'savored': 2472, 'reading': 2473, 'aloud': 2474, 'having': 2475, 'carton': 2476, 'eating': 2477, 'dumpling': 2478, 'hunters': 2479, 'ground': 2480, 'fewer': 2481, 'peaches': 2482, 'aghast': 2483, 'murder': 2484, 'park': 2485, 'spitting': 2486, 'hatred': 2487, 'worse': 2488, 'wenger': 2489, 'set': 2490, 'arsenal': 2491, 'shetland': 2492, 'pony': 2493, 'politely': 2494, 'firmly': 2495, 'quickly': 2496, 'assumes': 2497, 'attitude': 2498, 'surroundings': 2499, 'find': 2500, 'unlikely': 2501, 'fixture': 2502, 'tug': 2503, 'easily': 2504, 'provoked': 2505, 'types': 2506, 'woodss': 2507, 'stumble': 2508, 'chance': 2509, 'deus': 2510, 'ex': 2511, 'kimmy': 2512, 'among': 2513, 'worst': 2514, 'afghan': 2515, 'parenting': 2516, 'skills': 2517, 'die': 2518, 'insult': 2519, 'trying': 2520, 'manchurian': 2521, 'emirate': 2522, 'think': 2523, '50': 2524, 'halls': 2525, 'sleeps': 2526, 'floor': 2527, 'small': 2528, 'antidotes': 2529, 'cabin': 2530, 'fever': 2531, 'pregnancy': 2532, 'reform': 2533, 'prison': 2534, 'upgrade': 2535, 'workout': 2536, 'caffeine': 2537, 'awesome': 2538, 'break': 2539, 'kelly': 2540, 'makes': 2541, 'pillar': 2542, 'nbcs': 2543, 'mosquito': 2544, 'enduring': 2545, 'chess': 2546, 'polls': 2547, 'awaits': 2548, '1900000': 2549, 'riverfront': 2550, 'culdesac': 2551, 'downtown': 2552, 'jack': 2553, 'pershing': 2554, 'commander': 2555, 'fanboy': 2556, 'hero': 2557, 'fare': 2558, 'dates': 2559, 'costs': 2560, 'delay': 2561, 'village': 2562, 'tune': 2563, 'bleecker': 2564, 'blues': 2565, 'gee': 2566, 'familiar': 2567, 'gays': 2568, 'urged': 2569, 'margaret': 2570, 'arena': 2571, 'harsh': 2572, 'words': 2573, 'painin': 2574, 'february': 2575, 'thaw': 2576, 'flea': 2577, 'expected': 2578, 'testify': 2579, 'talks': 2580, 'weighs': 2581, 'reviving': 2582, 'curbs': 2583, 'cuba': 2584, 'trips': 2585, 'paycheck': 2586, 'shaky': 2587, 'income': 2588, 'angst': 2589, 'cowboys': 2590, 'beauty': 2591, 'ramadan': 2592, 'unearthing': 2593, 'trove': 2594, 'rulebenders': 2595, 'require': 2596, 'oh': 2597, 'multiplying': 2598, 'complexities': 2599, 'democratic': 2600, 'gotten': 2601, 'motive': 2602, 'manhattan': 2603, 'regret': 2604, 'clause': 2605, 'cases': 2606, 'academic': 2607, 'dishonesty': 2608, 'clandestine': 2609, 'coded': 2610, 'correspondence': 2611, 'captain': 2612, 'meddled': 2613, 'earth': 2614, 'sensing': 2615, 'echo': 2616, 'tumultuous': 2617, 'spectacle': 2618, 'holding': 2619, 'allergy': 2620, 'prevalence': 2621, 'alternative': 2622, 'chondroitin': 2623, 'eases': 2624, 'daily': 2625, 'michael': 2626, 'barbaro': 2627, 'prompts': 2628, '160': 2629, 'images': 2630, 'inspire': 2631, 'writing': 2632, 'abandoning': 2633, 'reckless': 2634, 'refresher': 2635, 'course': 2636, 'fright': 2637, 'conscience': 2638, 'wartime': 2639, 'utter': 2640, 'disgraceful': 2641, 'exit': 2642, 'proven': 2643, 'hire': 2644, 'yes': 2645, 'gratuitous': 2646, 'destruction': 2647, 'petty': 2648, 'bail': 2649, 'bucking': 2650, 'these': 2651, 'companies': 2652}\n"
     ]
    }
   ],
   "source": [
    "print(t.word_index)"
   ]
  },
  {
   "cell_type": "code",
   "execution_count": 15,
   "metadata": {},
   "outputs": [
    {
     "name": "stdout",
     "output_type": "stream",
     "text": [
      "빈도수 상위 1번 단어 : the\n",
      "빈도수 상위 582번 단어 : taiwan\n"
     ]
    }
   ],
   "source": [
    "index_to_word = {}\n",
    "for key, value in t.word_index.items():\n",
    "    index_to_word[value] = key\n",
    "\n",
    "print('빈도수 상위 1번 단어 :', index_to_word[1])\n",
    "print('빈도수 상위 582번 단어 :', index_to_word[582])"
   ]
  },
  {
   "cell_type": "code",
   "execution_count": 16,
   "metadata": {},
   "outputs": [
    {
     "name": "stdout",
     "output_type": "stream",
     "text": [
      "샘플의 최대 길이 : 16\n"
     ]
    }
   ],
   "source": [
    "max_len=max(len(s) for s in sequences)\n",
    "print('샘플의 최대 길이 :', max_len)"
   ]
  },
  {
   "cell_type": "code",
   "execution_count": 17,
   "metadata": {},
   "outputs": [
    {
     "name": "stdout",
     "output_type": "stream",
     "text": [
      "[[  0   0   0   0   0   0   0   0   0   0   0   0   0   0  48 799]\n",
      " [  0   0   0   0   0   0   0   0   0   0   0   0   0  48 799   1]\n",
      " [  0   0   0   0   0   0   0   0   0   0   0   0  48 799   1 800]]\n"
     ]
    }
   ],
   "source": [
    "sequences = pad_sequences(sequences, maxlen=max_len, padding='pre')\n",
    "print(sequences[:3])"
   ]
  },
  {
   "cell_type": "code",
   "execution_count": 18,
   "metadata": {},
   "outputs": [],
   "source": [
    "X = sequences[:,:-1]\n",
    "y = sequences[:,-1]"
   ]
  },
  {
   "cell_type": "code",
   "execution_count": 19,
   "metadata": {},
   "outputs": [],
   "source": [
    "y = to_categorical(y, num_classes=vocab_size)"
   ]
  },
  {
   "cell_type": "code",
   "execution_count": 20,
   "metadata": {},
   "outputs": [
    {
     "data": {
      "text/plain": [
       "((5501, 15), (5501, 2653))"
      ]
     },
     "execution_count": 20,
     "metadata": {},
     "output_type": "execute_result"
    }
   ],
   "source": [
    "X.shape, y.shape"
   ]
  },
  {
   "cell_type": "code",
   "execution_count": 21,
   "metadata": {},
   "outputs": [],
   "source": [
    "from tensorflow import keras\n",
    "from keras.models import Sequential\n",
    "from keras.layers import Embedding, Dense, LSTM"
   ]
  },
  {
   "cell_type": "code",
   "execution_count": 22,
   "metadata": {},
   "outputs": [],
   "source": [
    "embedding = Embedding(vocab_size, 10, input_length=max_len-1, name=\"Embedding_Layer\")\n",
    "lstm = LSTM(128, name=\"LSTM_Layer\")\n",
    "output = Dense(vocab_size, activation='softmax', name=\"Output_Layer\")"
   ]
  },
  {
   "cell_type": "code",
   "execution_count": 23,
   "metadata": {},
   "outputs": [
    {
     "name": "stdout",
     "output_type": "stream",
     "text": [
      "Model: \"sequential_1\"\n",
      "_________________________________________________________________\n",
      "Layer (type)                 Output Shape              Param #   \n",
      "=================================================================\n",
      "Embedding_Layer (Embedding)  (None, 15, 10)            26530     \n",
      "_________________________________________________________________\n",
      "LSTM_Layer (LSTM)            (None, 128)               71168     \n",
      "_________________________________________________________________\n",
      "Output_Layer (Dense)         (None, 2653)              342237    \n",
      "=================================================================\n",
      "Total params: 439,935\n",
      "Trainable params: 439,935\n",
      "Non-trainable params: 0\n",
      "_________________________________________________________________\n"
     ]
    }
   ],
   "source": [
    "model = Sequential()\n",
    "model.add(Embedding(vocab_size, 10, input_length=max_len-1, \n",
    "                    name=\"Embedding_Layer\"))\n",
    "model.add(LSTM(128, name=\"LSTM_Layer\"))\n",
    "model.add(Dense(vocab_size, activation='softmax', name=\"Output_Layer\"))\n",
    "model.summary()"
   ]
  },
  {
   "cell_type": "code",
   "execution_count": 24,
   "metadata": {},
   "outputs": [],
   "source": [
    "model.compile(loss='categorical_crossentropy', \n",
    "              optimizer='adam', metrics=['accuracy'])"
   ]
  },
  {
   "cell_type": "code",
   "execution_count": 25,
   "metadata": {
    "scrolled": true
   },
   "outputs": [
    {
     "name": "stderr",
     "output_type": "stream",
     "text": [
      "C:\\ProgramData\\Anaconda3\\envs\\tf2\\lib\\site-packages\\tensorflow_core\\python\\framework\\indexed_slices.py:433: UserWarning: Converting sparse IndexedSlices to a dense Tensor of unknown shape. This may consume a large amount of memory.\n",
      "  \"Converting sparse IndexedSlices to a dense Tensor of unknown shape. \"\n"
     ]
    },
    {
     "name": "stdout",
     "output_type": "stream",
     "text": [
      "Epoch 1/200\n",
      " - 2s - loss: 7.4876 - accuracy: 0.0294\n",
      "Epoch 2/200\n",
      " - 2s - loss: 6.9882 - accuracy: 0.0369\n",
      "Epoch 3/200\n",
      " - 2s - loss: 6.8713 - accuracy: 0.0358\n",
      "Epoch 4/200\n",
      " - 2s - loss: 6.7784 - accuracy: 0.0394\n",
      "Epoch 5/200\n",
      " - 2s - loss: 6.6673 - accuracy: 0.0453\n",
      "Epoch 6/200\n",
      " - 2s - loss: 6.5267 - accuracy: 0.0500\n",
      "Epoch 7/200\n",
      " - 2s - loss: 6.3686 - accuracy: 0.0524\n",
      "Epoch 8/200\n",
      " - 2s - loss: 6.2013 - accuracy: 0.0556\n",
      "Epoch 9/200\n",
      " - 2s - loss: 6.0303 - accuracy: 0.0564\n",
      "Epoch 10/200\n",
      " - 2s - loss: 5.8651 - accuracy: 0.0656\n",
      "Epoch 11/200\n",
      " - 2s - loss: 5.7068 - accuracy: 0.0687\n",
      "Epoch 12/200\n",
      " - 2s - loss: 5.5599 - accuracy: 0.0749\n",
      "Epoch 13/200\n",
      " - 2s - loss: 5.4194 - accuracy: 0.0823\n",
      "Epoch 14/200\n",
      " - 2s - loss: 5.2850 - accuracy: 0.0836\n",
      "Epoch 15/200\n",
      " - 2s - loss: 5.1537 - accuracy: 0.0882\n",
      "Epoch 16/200\n",
      " - 2s - loss: 5.0333 - accuracy: 0.0953\n",
      "Epoch 17/200\n",
      " - 2s - loss: 4.9112 - accuracy: 0.0971\n",
      "Epoch 18/200\n",
      " - 2s - loss: 4.7944 - accuracy: 0.1074\n",
      "Epoch 19/200\n",
      " - 2s - loss: 4.6782 - accuracy: 0.1196\n",
      "Epoch 20/200\n",
      " - 2s - loss: 4.5651 - accuracy: 0.1245\n",
      "Epoch 21/200\n",
      " - 2s - loss: 4.4578 - accuracy: 0.1407\n",
      "Epoch 22/200\n",
      " - 2s - loss: 4.3526 - accuracy: 0.1540\n",
      "Epoch 23/200\n",
      " - 2s - loss: 4.2489 - accuracy: 0.1672\n",
      "Epoch 24/200\n",
      " - 2s - loss: 4.1493 - accuracy: 0.1851\n",
      "Epoch 25/200\n",
      " - 2s - loss: 4.0522 - accuracy: 0.1940\n",
      "Epoch 26/200\n",
      " - 2s - loss: 3.9576 - accuracy: 0.2156\n",
      "Epoch 27/200\n",
      " - 2s - loss: 3.8639 - accuracy: 0.2261\n",
      "Epoch 28/200\n",
      " - 2s - loss: 3.7723 - accuracy: 0.2460\n",
      "Epoch 29/200\n",
      " - 2s - loss: 3.6877 - accuracy: 0.2578\n",
      "Epoch 30/200\n",
      " - 2s - loss: 3.5998 - accuracy: 0.2790\n",
      "Epoch 31/200\n",
      " - 2s - loss: 3.5142 - accuracy: 0.2947\n",
      "Epoch 32/200\n",
      " - 2s - loss: 3.4395 - accuracy: 0.3067\n",
      "Epoch 33/200\n",
      " - 2s - loss: 3.3572 - accuracy: 0.3209\n",
      "Epoch 34/200\n",
      " - 2s - loss: 3.2838 - accuracy: 0.3259\n",
      "Epoch 35/200\n",
      " - 2s - loss: 3.2107 - accuracy: 0.3428\n",
      "Epoch 36/200\n",
      " - 2s - loss: 3.1378 - accuracy: 0.3603\n",
      "Epoch 37/200\n",
      " - 2s - loss: 3.0686 - accuracy: 0.3710\n",
      "Epoch 38/200\n",
      " - 2s - loss: 3.0020 - accuracy: 0.3859\n",
      "Epoch 39/200\n",
      " - 2s - loss: 2.9362 - accuracy: 0.3974\n",
      "Epoch 40/200\n",
      " - 2s - loss: 2.8780 - accuracy: 0.4116\n",
      "Epoch 41/200\n",
      " - 2s - loss: 2.8163 - accuracy: 0.4192\n",
      "Epoch 42/200\n",
      " - 2s - loss: 2.7576 - accuracy: 0.4323\n",
      "Epoch 43/200\n",
      " - 2s - loss: 2.6993 - accuracy: 0.4396\n",
      "Epoch 44/200\n",
      " - 2s - loss: 2.6452 - accuracy: 0.4528\n",
      "Epoch 45/200\n",
      " - 2s - loss: 2.5918 - accuracy: 0.4625\n",
      "Epoch 46/200\n",
      " - 2s - loss: 2.5419 - accuracy: 0.4668\n",
      "Epoch 47/200\n",
      " - 2s - loss: 2.4916 - accuracy: 0.4795\n",
      "Epoch 48/200\n",
      " - 2s - loss: 2.4403 - accuracy: 0.4910\n",
      "Epoch 49/200\n",
      " - 2s - loss: 2.3950 - accuracy: 0.4997\n",
      "Epoch 50/200\n",
      " - 2s - loss: 2.3461 - accuracy: 0.5121\n",
      "Epoch 51/200\n",
      " - 2s - loss: 2.3024 - accuracy: 0.5181\n",
      "Epoch 52/200\n",
      " - 2s - loss: 2.2604 - accuracy: 0.5303\n",
      "Epoch 53/200\n",
      " - 2s - loss: 2.2183 - accuracy: 0.5363\n",
      "Epoch 54/200\n",
      " - 2s - loss: 2.1748 - accuracy: 0.5388\n",
      "Epoch 55/200\n",
      " - 2s - loss: 2.1353 - accuracy: 0.5555\n",
      "Epoch 56/200\n",
      " - 2s - loss: 2.0964 - accuracy: 0.5614\n",
      "Epoch 57/200\n",
      " - 2s - loss: 2.0571 - accuracy: 0.5701\n",
      "Epoch 58/200\n",
      " - 2s - loss: 2.0181 - accuracy: 0.5759\n",
      "Epoch 59/200\n",
      " - 2s - loss: 1.9795 - accuracy: 0.5913\n",
      "Epoch 60/200\n",
      " - 2s - loss: 1.9421 - accuracy: 0.5968\n",
      "Epoch 61/200\n",
      " - 2s - loss: 1.9088 - accuracy: 0.6030\n",
      "Epoch 62/200\n",
      " - 2s - loss: 1.8741 - accuracy: 0.6124\n",
      "Epoch 63/200\n",
      " - 2s - loss: 1.8400 - accuracy: 0.6193\n",
      "Epoch 64/200\n",
      " - 2s - loss: 1.8055 - accuracy: 0.6288\n",
      "Epoch 65/200\n",
      " - 2s - loss: 1.7709 - accuracy: 0.6348\n",
      "Epoch 66/200\n",
      " - 2s - loss: 1.7382 - accuracy: 0.6450\n",
      "Epoch 67/200\n",
      " - 2s - loss: 1.7065 - accuracy: 0.6515\n",
      "Epoch 68/200\n",
      " - 2s - loss: 1.6724 - accuracy: 0.6606\n",
      "Epoch 69/200\n",
      " - 2s - loss: 1.6415 - accuracy: 0.6650\n",
      "Epoch 70/200\n",
      " - 2s - loss: 1.6114 - accuracy: 0.6690\n",
      "Epoch 71/200\n",
      " - 2s - loss: 1.5816 - accuracy: 0.6828\n",
      "Epoch 72/200\n",
      " - 2s - loss: 1.5514 - accuracy: 0.6850\n",
      "Epoch 73/200\n",
      " - 2s - loss: 1.5224 - accuracy: 0.6884\n",
      "Epoch 74/200\n",
      " - 2s - loss: 1.4965 - accuracy: 0.6990\n",
      "Epoch 75/200\n",
      " - 2s - loss: 1.4648 - accuracy: 0.7048\n",
      "Epoch 76/200\n",
      " - 2s - loss: 1.4377 - accuracy: 0.7057\n",
      "Epoch 77/200\n",
      " - 2s - loss: 1.4168 - accuracy: 0.7159\n",
      "Epoch 78/200\n",
      " - 2s - loss: 1.3858 - accuracy: 0.7193\n",
      "Epoch 79/200\n",
      " - 2s - loss: 1.3589 - accuracy: 0.7273\n",
      "Epoch 80/200\n",
      " - 2s - loss: 1.3340 - accuracy: 0.7313\n",
      "Epoch 81/200\n",
      " - 2s - loss: 1.3085 - accuracy: 0.7357\n",
      "Epoch 82/200\n",
      " - 2s - loss: 1.2816 - accuracy: 0.7431\n",
      "Epoch 83/200\n",
      " - 2s - loss: 1.2615 - accuracy: 0.7471\n",
      "Epoch 84/200\n",
      " - 2s - loss: 1.2375 - accuracy: 0.7482\n",
      "Epoch 85/200\n",
      " - 2s - loss: 1.2146 - accuracy: 0.7562\n",
      "Epoch 86/200\n",
      " - 2s - loss: 1.1907 - accuracy: 0.7604\n",
      "Epoch 87/200\n",
      " - 2s - loss: 1.1676 - accuracy: 0.7688\n",
      "Epoch 88/200\n",
      " - 2s - loss: 1.1472 - accuracy: 0.7686\n",
      "Epoch 89/200\n",
      " - 2s - loss: 1.1256 - accuracy: 0.7768\n",
      "Epoch 90/200\n",
      " - 2s - loss: 1.1039 - accuracy: 0.7775\n",
      "Epoch 91/200\n",
      " - 2s - loss: 1.0837 - accuracy: 0.7833\n",
      "Epoch 92/200\n",
      " - 2s - loss: 1.0626 - accuracy: 0.7828\n",
      "Epoch 93/200\n",
      " - 2s - loss: 1.0433 - accuracy: 0.7889\n",
      "Epoch 94/200\n",
      " - 2s - loss: 1.0244 - accuracy: 0.7929\n",
      "Epoch 95/200\n",
      " - 2s - loss: 1.0050 - accuracy: 0.7951\n",
      "Epoch 96/200\n",
      " - 2s - loss: 0.9869 - accuracy: 0.7988\n",
      "Epoch 97/200\n",
      " - 2s - loss: 0.9688 - accuracy: 0.8019\n",
      "Epoch 98/200\n",
      " - 2s - loss: 0.9505 - accuracy: 0.8060\n",
      "Epoch 99/200\n",
      " - 2s - loss: 0.9349 - accuracy: 0.8111\n",
      "Epoch 100/200\n",
      " - 2s - loss: 0.9171 - accuracy: 0.8126\n",
      "Epoch 101/200\n",
      " - 2s - loss: 0.8991 - accuracy: 0.8159\n",
      "Epoch 102/200\n",
      " - 2s - loss: 0.8830 - accuracy: 0.8157\n",
      "Epoch 103/200\n",
      " - 2s - loss: 0.8680 - accuracy: 0.8202\n",
      "Epoch 104/200\n",
      " - 2s - loss: 0.8508 - accuracy: 0.8257\n",
      "Epoch 105/200\n",
      " - 2s - loss: 0.8344 - accuracy: 0.8228\n",
      "Epoch 106/200\n",
      " - 2s - loss: 0.8219 - accuracy: 0.8260\n",
      "Epoch 107/200\n",
      " - 2s - loss: 0.8071 - accuracy: 0.8315\n",
      "Epoch 108/200\n",
      " - 2s - loss: 0.7930 - accuracy: 0.8308\n",
      "Epoch 109/200\n",
      " - 2s - loss: 0.7774 - accuracy: 0.8373\n",
      "Epoch 110/200\n",
      " - 2s - loss: 0.7637 - accuracy: 0.8373\n",
      "Epoch 111/200\n",
      " - 2s - loss: 0.7524 - accuracy: 0.8400\n",
      "Epoch 112/200\n",
      " - 2s - loss: 0.7394 - accuracy: 0.8435\n",
      "Epoch 113/200\n",
      " - 2s - loss: 0.7266 - accuracy: 0.8455\n",
      "Epoch 114/200\n",
      " - 2s - loss: 0.7146 - accuracy: 0.8462\n",
      "Epoch 115/200\n",
      " - 2s - loss: 0.7023 - accuracy: 0.8484\n",
      "Epoch 116/200\n",
      " - 2s - loss: 0.6953 - accuracy: 0.8478\n",
      "Epoch 117/200\n",
      " - 2s - loss: 0.6843 - accuracy: 0.8506\n",
      "Epoch 118/200\n",
      " - 2s - loss: 0.6686 - accuracy: 0.8558\n",
      "Epoch 119/200\n",
      " - 2s - loss: 0.6563 - accuracy: 0.8589\n",
      "Epoch 120/200\n",
      " - 2s - loss: 0.6464 - accuracy: 0.8588\n",
      "Epoch 121/200\n",
      " - 2s - loss: 0.6363 - accuracy: 0.8591\n",
      "Epoch 122/200\n",
      " - 2s - loss: 0.6265 - accuracy: 0.8617\n",
      "Epoch 123/200\n",
      " - 2s - loss: 0.6159 - accuracy: 0.8648\n",
      "Epoch 124/200\n",
      " - 2s - loss: 0.6071 - accuracy: 0.8620\n",
      "Epoch 125/200\n",
      " - 2s - loss: 0.5973 - accuracy: 0.8697\n",
      "Epoch 126/200\n",
      " - 2s - loss: 0.5888 - accuracy: 0.8713\n",
      "Epoch 127/200\n",
      " - 2s - loss: 0.5796 - accuracy: 0.8748\n",
      "Epoch 128/200\n",
      " - 2s - loss: 0.5721 - accuracy: 0.8726\n",
      "Epoch 129/200\n",
      " - 2s - loss: 0.5623 - accuracy: 0.8746\n",
      "Epoch 130/200\n",
      " - 2s - loss: 0.5539 - accuracy: 0.8767\n",
      "Epoch 131/200\n",
      " - 2s - loss: 0.5464 - accuracy: 0.8775\n",
      "Epoch 132/200\n",
      " - 2s - loss: 0.5375 - accuracy: 0.8798\n",
      "Epoch 133/200\n",
      " - 2s - loss: 0.5336 - accuracy: 0.8771\n",
      "Epoch 134/200\n",
      " - 2s - loss: 0.5236 - accuracy: 0.8807\n",
      "Epoch 135/200\n",
      " - 2s - loss: 0.5164 - accuracy: 0.8827\n",
      "Epoch 136/200\n",
      " - 2s - loss: 0.5105 - accuracy: 0.8817\n",
      "Epoch 137/200\n",
      " - 2s - loss: 0.5025 - accuracy: 0.8833\n",
      "Epoch 138/200\n",
      " - 2s - loss: 0.4989 - accuracy: 0.8829\n",
      "Epoch 139/200\n",
      " - 2s - loss: 0.4935 - accuracy: 0.8844\n",
      "Epoch 140/200\n",
      " - 2s - loss: 0.4837 - accuracy: 0.8860\n",
      "Epoch 141/200\n",
      " - 2s - loss: 0.4815 - accuracy: 0.8862\n",
      "Epoch 142/200\n",
      " - 2s - loss: 0.4740 - accuracy: 0.8877\n",
      "Epoch 143/200\n",
      " - 2s - loss: 0.4658 - accuracy: 0.8877\n",
      "Epoch 144/200\n",
      " - 2s - loss: 0.4645 - accuracy: 0.8900\n",
      "Epoch 145/200\n",
      " - 2s - loss: 0.4551 - accuracy: 0.8882\n",
      "Epoch 146/200\n",
      " - 2s - loss: 0.4492 - accuracy: 0.8900\n",
      "Epoch 147/200\n",
      " - 2s - loss: 0.4473 - accuracy: 0.8895\n",
      "Epoch 148/200\n",
      " - 2s - loss: 0.4428 - accuracy: 0.8911\n",
      "Epoch 149/200\n",
      " - 2s - loss: 0.4353 - accuracy: 0.8920\n",
      "Epoch 150/200\n",
      " - 2s - loss: 0.4300 - accuracy: 0.8922\n",
      "Epoch 151/200\n",
      " - 2s - loss: 0.4278 - accuracy: 0.8906\n",
      "Epoch 152/200\n",
      " - 2s - loss: 0.4233 - accuracy: 0.8926\n",
      "Epoch 153/200\n",
      " - 2s - loss: 0.4180 - accuracy: 0.8924\n",
      "Epoch 154/200\n",
      " - 2s - loss: 0.4149 - accuracy: 0.8906\n"
     ]
    },
    {
     "name": "stdout",
     "output_type": "stream",
     "text": [
      "Epoch 155/200\n",
      " - 2s - loss: 0.4101 - accuracy: 0.8927\n",
      "Epoch 156/200\n",
      " - 2s - loss: 0.4069 - accuracy: 0.8933\n",
      "Epoch 157/200\n",
      " - 2s - loss: 0.4033 - accuracy: 0.8917\n",
      "Epoch 158/200\n",
      " - 2s - loss: 0.3995 - accuracy: 0.8929\n",
      "Epoch 159/200\n",
      " - 2s - loss: 0.3968 - accuracy: 0.8920\n",
      "Epoch 160/200\n",
      " - 2s - loss: 0.4119 - accuracy: 0.8926\n",
      "Epoch 161/200\n",
      " - 2s - loss: 0.4007 - accuracy: 0.8924\n",
      "Epoch 162/200\n",
      " - 2s - loss: 0.3879 - accuracy: 0.8931\n",
      "Epoch 163/200\n",
      " - 2s - loss: 0.3852 - accuracy: 0.8955\n",
      "Epoch 164/200\n",
      " - 2s - loss: 0.3825 - accuracy: 0.8942\n",
      "Epoch 165/200\n",
      " - 2s - loss: 0.3796 - accuracy: 0.8951\n",
      "Epoch 166/200\n",
      " - 2s - loss: 0.3765 - accuracy: 0.8942\n",
      "Epoch 167/200\n",
      " - 2s - loss: 0.3728 - accuracy: 0.8951\n",
      "Epoch 168/200\n",
      " - 2s - loss: 0.3716 - accuracy: 0.8960\n",
      "Epoch 169/200\n",
      " - 2s - loss: 0.3713 - accuracy: 0.8951\n",
      "Epoch 170/200\n",
      " - 2s - loss: 0.3680 - accuracy: 0.8946\n",
      "Epoch 171/200\n",
      " - 2s - loss: 0.3663 - accuracy: 0.8955\n",
      "Epoch 172/200\n",
      " - 2s - loss: 0.3637 - accuracy: 0.8957\n",
      "Epoch 173/200\n",
      " - 2s - loss: 0.3630 - accuracy: 0.8955\n",
      "Epoch 174/200\n",
      " - 2s - loss: 0.3604 - accuracy: 0.8938\n",
      "Epoch 175/200\n",
      " - 2s - loss: 0.3588 - accuracy: 0.8953\n",
      "Epoch 176/200\n",
      " - 2s - loss: 0.3575 - accuracy: 0.8942\n",
      "Epoch 177/200\n",
      " - 2s - loss: 0.3557 - accuracy: 0.8947\n",
      "Epoch 178/200\n",
      " - 2s - loss: 0.3550 - accuracy: 0.8958\n",
      "Epoch 179/200\n",
      " - 2s - loss: 0.3533 - accuracy: 0.8953\n",
      "Epoch 180/200\n",
      " - 2s - loss: 0.3522 - accuracy: 0.8940\n",
      "Epoch 181/200\n",
      " - 2s - loss: 0.3506 - accuracy: 0.8957\n",
      "Epoch 182/200\n",
      " - 2s - loss: 0.3508 - accuracy: 0.8942\n",
      "Epoch 183/200\n",
      " - 2s - loss: 0.3484 - accuracy: 0.8949\n",
      "Epoch 184/200\n",
      " - 2s - loss: 0.3462 - accuracy: 0.8951\n",
      "Epoch 185/200\n",
      " - 2s - loss: 0.3604 - accuracy: 0.8917\n",
      "Epoch 186/200\n",
      " - 2s - loss: 0.3735 - accuracy: 0.8911\n",
      "Epoch 187/200\n",
      " - 2s - loss: 0.3498 - accuracy: 0.8957\n",
      "Epoch 188/200\n",
      " - 2s - loss: 0.3415 - accuracy: 0.8942\n",
      "Epoch 189/200\n",
      " - 2s - loss: 0.3387 - accuracy: 0.8969\n",
      "Epoch 190/200\n",
      " - 2s - loss: 0.3375 - accuracy: 0.8955\n",
      "Epoch 191/200\n",
      " - 2s - loss: 0.3378 - accuracy: 0.8962\n",
      "Epoch 192/200\n",
      " - 2s - loss: 0.3364 - accuracy: 0.8955\n",
      "Epoch 193/200\n",
      " - 2s - loss: 0.3366 - accuracy: 0.8966\n",
      "Epoch 194/200\n",
      " - 2s - loss: 0.3344 - accuracy: 0.8962\n",
      "Epoch 195/200\n",
      " - 2s - loss: 0.3344 - accuracy: 0.8969\n",
      "Epoch 196/200\n",
      " - 2s - loss: 0.3331 - accuracy: 0.8955\n",
      "Epoch 197/200\n",
      " - 2s - loss: 0.3334 - accuracy: 0.8969\n",
      "Epoch 198/200\n",
      " - 2s - loss: 0.3325 - accuracy: 0.8951\n",
      "Epoch 199/200\n",
      " - 2s - loss: 0.3317 - accuracy: 0.8955\n",
      "Epoch 200/200\n",
      " - 2s - loss: 0.3303 - accuracy: 0.8962\n"
     ]
    }
   ],
   "source": [
    "history = model.fit(X, y, epochs=200, verbose=2)"
   ]
  },
  {
   "cell_type": "code",
   "execution_count": 26,
   "metadata": {},
   "outputs": [],
   "source": [
    "def sentence_generation(model, t, current_word, n):\n",
    "    init_word = current_word\n",
    "    sentence = ''\n",
    "    for _ in range(n): \n",
    "        encoded = t.texts_to_sequences([current_word])[0]\n",
    "        encoded = pad_sequences([encoded], maxlen=15, padding='pre')\n",
    "        result = model.predict_classes(encoded, verbose=0)\n",
    "        for word, index in t.word_index.items(): \n",
    "            if index == result:\n",
    "                break\n",
    "        current_word = current_word + ' '  + word\n",
    "        sentence = sentence + ' ' + word\n",
    "\n",
    "    sentence = init_word + sentence\n",
    "    return sentence"
   ]
  },
  {
   "cell_type": "code",
   "execution_count": 40,
   "metadata": {},
   "outputs": [
    {
     "name": "stdout",
     "output_type": "stream",
     "text": [
      "i accidentally killed a child may i contact the family\n"
     ]
    },
    {
     "data": {
      "text/plain": [
       "'I Accidentally Killed a Child. May I Contact The Family?'"
      ]
     },
     "execution_count": 40,
     "metadata": {},
     "output_type": "execute_result"
    }
   ],
   "source": [
    "print(sentence_generation(model, t, 'i', 9))\n",
    "df['headline'][513]"
   ]
  },
  {
   "cell_type": "code",
   "execution_count": 46,
   "metadata": {},
   "outputs": [
    {
     "name": "stdout",
     "output_type": "stream",
     "text": [
      "how to be mindful while taking a shower\n"
     ]
    },
    {
     "data": {
      "text/plain": [
       "'How to Be Mindful While Taking a Shower'"
      ]
     },
     "execution_count": 46,
     "metadata": {},
     "output_type": "execute_result"
    }
   ],
   "source": [
    "print(sentence_generation(model, t, 'how', 7))\n",
    "df['headline'][311]"
   ]
  },
  {
   "cell_type": "code",
   "execution_count": 38,
   "metadata": {},
   "outputs": [
    {
     "name": "stdout",
     "output_type": "stream",
     "text": [
      "what you get for 1900000 fbi\n"
     ]
    },
    {
     "data": {
      "text/plain": [
       "'What You Get for â\\x80¦ $1,900,000'"
      ]
     },
     "execution_count": 38,
     "metadata": {},
     "output_type": "execute_result"
    }
   ],
   "source": [
    "print(sentence_generation(model, t, 'what', 5))\n",
    "df['headline'][948]"
   ]
  },
  {
   "cell_type": "code",
   "execution_count": null,
   "metadata": {},
   "outputs": [],
   "source": []
  },
  {
   "cell_type": "code",
   "execution_count": null,
   "metadata": {},
   "outputs": [],
   "source": []
  },
  {
   "cell_type": "code",
   "execution_count": null,
   "metadata": {},
   "outputs": [],
   "source": []
  },
  {
   "cell_type": "code",
   "execution_count": null,
   "metadata": {},
   "outputs": [],
   "source": []
  },
  {
   "cell_type": "code",
   "execution_count": null,
   "metadata": {},
   "outputs": [],
   "source": []
  },
  {
   "cell_type": "code",
   "execution_count": null,
   "metadata": {},
   "outputs": [],
   "source": []
  },
  {
   "cell_type": "code",
   "execution_count": null,
   "metadata": {},
   "outputs": [],
   "source": []
  },
  {
   "cell_type": "code",
   "execution_count": null,
   "metadata": {},
   "outputs": [],
   "source": []
  },
  {
   "cell_type": "code",
   "execution_count": null,
   "metadata": {},
   "outputs": [],
   "source": []
  },
  {
   "cell_type": "code",
   "execution_count": null,
   "metadata": {},
   "outputs": [],
   "source": []
  }
 ],
 "metadata": {
  "kernelspec": {
   "display_name": "Python 3",
   "language": "python",
   "name": "python3"
  },
  "language_info": {
   "codemirror_mode": {
    "name": "ipython",
    "version": 3
   },
   "file_extension": ".py",
   "mimetype": "text/x-python",
   "name": "python",
   "nbconvert_exporter": "python",
   "pygments_lexer": "ipython3",
   "version": "3.7.7"
  }
 },
 "nbformat": 4,
 "nbformat_minor": 4
}
