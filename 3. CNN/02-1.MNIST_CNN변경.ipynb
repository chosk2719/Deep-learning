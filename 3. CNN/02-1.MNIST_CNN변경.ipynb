{
 "cells": [
  {
   "cell_type": "code",
   "execution_count": 2,
   "metadata": {},
   "outputs": [],
   "source": [
    "import numpy as np\n",
    "import tensorflow as tf\n",
    "from tensorflow import keras\n",
    "from keras.datasets import mnist\n",
    "from keras.layers import Dense, Dropout, Flatten, Conv2D, MaxPooling2D\n",
    "from keras.models import Sequential\n",
    "from keras.callbacks import ModelCheckpoint, EarlyStopping\n",
    "\n",
    "import os\n",
    "import matplotlib.pyplot as plt\n",
    "%matplotlib inline"
   ]
  },
  {
   "cell_type": "code",
   "execution_count": 3,
   "metadata": {},
   "outputs": [],
   "source": [
    "# seed 값 설정 \n",
    "seed = 0\n",
    "np.random.seed(seed)\n",
    "tf.random.set_seed(seed)"
   ]
  },
  {
   "cell_type": "code",
   "execution_count": 13,
   "metadata": {},
   "outputs": [],
   "source": [
    "# 데이터 불러오기\n",
    "(x_train, y_train), (x_test, y_test) = mnist.load_data()\n",
    "x_train = x_train.reshape(-1, 28, 28, 1).astype('float32') / 255\n",
    "x_test = x_test.reshape(-1, 28, 28, 1).astype('float32') / 255\n",
    "y_train = tf.keras.utils.to_categorical(y_train)\n",
    "y_test = tf.keras.utils.to_categorical(y_test)"
   ]
  },
  {
   "cell_type": "code",
   "execution_count": 39,
   "metadata": {},
   "outputs": [
    {
     "name": "stdout",
     "output_type": "stream",
     "text": [
      "Model: \"sequential_7\"\n",
      "_________________________________________________________________\n",
      "Layer (type)                 Output Shape              Param #   \n",
      "=================================================================\n",
      "conv2d_13 (Conv2D)           (None, 25, 25, 40)        680       \n",
      "_________________________________________________________________\n",
      "conv2d_14 (Conv2D)           (None, 22, 22, 68)        43588     \n",
      "_________________________________________________________________\n",
      "max_pooling2d_7 (MaxPooling2 (None, 11, 11, 68)        0         \n",
      "_________________________________________________________________\n",
      "dropout_13 (Dropout)         (None, 11, 11, 68)        0         \n",
      "_________________________________________________________________\n",
      "flatten_7 (Flatten)          (None, 8228)              0         \n",
      "_________________________________________________________________\n",
      "dense_13 (Dense)             (None, 130)               1069770   \n",
      "_________________________________________________________________\n",
      "dropout_14 (Dropout)         (None, 130)               0         \n",
      "_________________________________________________________________\n",
      "dense_14 (Dense)             (None, 10)                1310      \n",
      "=================================================================\n",
      "Total params: 1,115,348\n",
      "Trainable params: 1,115,348\n",
      "Non-trainable params: 0\n",
      "_________________________________________________________________\n"
     ]
    }
   ],
   "source": [
    "# 컨볼루션 신경망 설정\n",
    "model = Sequential([\n",
    "    Conv2D(40, kernel_size=(4,4), input_shape=(28,28,1), activation='relu'),\n",
    "    Conv2D(68, (4,4), activation='relu'),\n",
    "    MaxPooling2D(pool_size=2),\n",
    "    Dropout(0.5),\n",
    "    Flatten(),\n",
    "    Dense(130, activation='relu'),\n",
    "    Dropout(0.25),\n",
    "    Dense(10, activation='softmax')\n",
    "])\n",
    "model.summary()"
   ]
  },
  {
   "cell_type": "code",
   "execution_count": 40,
   "metadata": {},
   "outputs": [],
   "source": [
    "model.compile(loss='categorical_crossentropy',\n",
    "             optimizer='adam',\n",
    "             metrics=['accuracy'])"
   ]
  },
  {
   "cell_type": "code",
   "execution_count": 41,
   "metadata": {},
   "outputs": [],
   "source": [
    "# 모델 최적화 설정\n",
    "MODEL_DIR = './model/'\n",
    "if not os.path.exists(MODEL_DIR):\n",
    "    os.mkdir(MODEL_DIR)"
   ]
  },
  {
   "cell_type": "code",
   "execution_count": 42,
   "metadata": {},
   "outputs": [],
   "source": [
    "modelpath = MODEL_DIR + \"mnist-cnn-{epoch:02d}-{val_loss:.4f}.hdf5\"\n",
    "checkpointer = ModelCheckpoint(filepath=modelpath, monitor='val_loss',\n",
    "                              verbose=1, save_best_only=True)\n",
    "early_stopping_callback = EarlyStopping(monitor='val_loss', patience=10)"
   ]
  },
  {
   "cell_type": "code",
   "execution_count": 43,
   "metadata": {},
   "outputs": [
    {
     "name": "stdout",
     "output_type": "stream",
     "text": [
      "Train on 60000 samples, validate on 10000 samples\n",
      "Epoch 1/30\n",
      "60000/60000 [==============================] - 65s 1ms/step - loss: 0.2044 - accuracy: 0.9369 - val_loss: 0.0490 - val_accuracy: 0.9847\n",
      "\n",
      "Epoch 00001: val_loss improved from inf to 0.04897, saving model to ./model/mnist-cnn-01-0.0490.hdf5\n",
      "Epoch 2/30\n",
      "60000/60000 [==============================] - 65s 1ms/step - loss: 0.0639 - accuracy: 0.9801 - val_loss: 0.0352 - val_accuracy: 0.9881\n",
      "\n",
      "Epoch 00002: val_loss improved from 0.04897 to 0.03524, saving model to ./model/mnist-cnn-02-0.0352.hdf5\n",
      "Epoch 3/30\n",
      "60000/60000 [==============================] - 65s 1ms/step - loss: 0.0471 - accuracy: 0.9851 - val_loss: 0.0270 - val_accuracy: 0.9906\n",
      "\n",
      "Epoch 00003: val_loss improved from 0.03524 to 0.02695, saving model to ./model/mnist-cnn-03-0.0270.hdf5\n",
      "Epoch 4/30\n",
      "60000/60000 [==============================] - 65s 1ms/step - loss: 0.0376 - accuracy: 0.9880 - val_loss: 0.0263 - val_accuracy: 0.9909\n",
      "\n",
      "Epoch 00004: val_loss improved from 0.02695 to 0.02628, saving model to ./model/mnist-cnn-04-0.0263.hdf5\n",
      "Epoch 5/30\n",
      "60000/60000 [==============================] - 67s 1ms/step - loss: 0.0316 - accuracy: 0.9901 - val_loss: 0.0241 - val_accuracy: 0.9926\n",
      "\n",
      "Epoch 00005: val_loss improved from 0.02628 to 0.02409, saving model to ./model/mnist-cnn-05-0.0241.hdf5\n",
      "Epoch 6/30\n",
      "60000/60000 [==============================] - 64s 1ms/step - loss: 0.0268 - accuracy: 0.9912 - val_loss: 0.0281 - val_accuracy: 0.9917\n",
      "\n",
      "Epoch 00006: val_loss did not improve from 0.02409\n",
      "Epoch 7/30\n",
      "60000/60000 [==============================] - 65s 1ms/step - loss: 0.0248 - accuracy: 0.9919 - val_loss: 0.0237 - val_accuracy: 0.9921\n",
      "\n",
      "Epoch 00007: val_loss improved from 0.02409 to 0.02373, saving model to ./model/mnist-cnn-07-0.0237.hdf5\n",
      "Epoch 8/30\n",
      "60000/60000 [==============================] - 64s 1ms/step - loss: 0.0223 - accuracy: 0.9930 - val_loss: 0.0245 - val_accuracy: 0.9918\n",
      "\n",
      "Epoch 00008: val_loss did not improve from 0.02373\n",
      "Epoch 9/30\n",
      "60000/60000 [==============================] - 65s 1ms/step - loss: 0.0199 - accuracy: 0.9937 - val_loss: 0.0238 - val_accuracy: 0.9919\n",
      "\n",
      "Epoch 00009: val_loss did not improve from 0.02373\n",
      "Epoch 10/30\n",
      "60000/60000 [==============================] - 66s 1ms/step - loss: 0.0184 - accuracy: 0.9941 - val_loss: 0.0262 - val_accuracy: 0.9916\n",
      "\n",
      "Epoch 00010: val_loss did not improve from 0.02373\n",
      "Epoch 11/30\n",
      "60000/60000 [==============================] - 69s 1ms/step - loss: 0.0166 - accuracy: 0.9945 - val_loss: 0.0245 - val_accuracy: 0.9933\n",
      "\n",
      "Epoch 00011: val_loss did not improve from 0.02373\n",
      "Epoch 12/30\n",
      "60000/60000 [==============================] - 67s 1ms/step - loss: 0.0142 - accuracy: 0.9953 - val_loss: 0.0243 - val_accuracy: 0.9936\n",
      "\n",
      "Epoch 00012: val_loss did not improve from 0.02373\n",
      "Epoch 13/30\n",
      "60000/60000 [==============================] - 68s 1ms/step - loss: 0.0132 - accuracy: 0.9953 - val_loss: 0.0300 - val_accuracy: 0.9922\n",
      "\n",
      "Epoch 00013: val_loss did not improve from 0.02373\n",
      "Epoch 14/30\n",
      "60000/60000 [==============================] - 66s 1ms/step - loss: 0.0126 - accuracy: 0.9957 - val_loss: 0.0307 - val_accuracy: 0.9918\n",
      "\n",
      "Epoch 00014: val_loss did not improve from 0.02373\n",
      "Epoch 15/30\n",
      "60000/60000 [==============================] - 66s 1ms/step - loss: 0.0124 - accuracy: 0.9956 - val_loss: 0.0252 - val_accuracy: 0.9934\n",
      "\n",
      "Epoch 00015: val_loss did not improve from 0.02373\n",
      "Epoch 16/30\n",
      "60000/60000 [==============================] - 65s 1ms/step - loss: 0.0132 - accuracy: 0.9956 - val_loss: 0.0275 - val_accuracy: 0.9922\n",
      "\n",
      "Epoch 00016: val_loss did not improve from 0.02373\n",
      "Epoch 17/30\n",
      "60000/60000 [==============================] - 65s 1ms/step - loss: 0.0105 - accuracy: 0.9964 - val_loss: 0.0272 - val_accuracy: 0.9927\n",
      "\n",
      "Epoch 00017: val_loss did not improve from 0.02373\n"
     ]
    }
   ],
   "source": [
    "history = model.fit(x_train, y_train, validation_data=(x_test, y_test), epochs=30,\n",
    "                    batch_size=200, #epoch=5, verbose=2,\n",
    "                    callbacks=[early_stopping_callback, checkpointer])"
   ]
  },
  {
   "cell_type": "code",
   "execution_count": 44,
   "metadata": {
    "scrolled": true
   },
   "outputs": [],
   "source": [
    "from keras.models import load_model\n",
    "del model\n",
    "model = load_model('model/mnist-cnn-07-0.0237.hdf5')"
   ]
  },
  {
   "cell_type": "code",
   "execution_count": 45,
   "metadata": {},
   "outputs": [
    {
     "name": "stdout",
     "output_type": "stream",
     "text": [
      "\n",
      " Test Accuracy : 0.9921\n"
     ]
    }
   ],
   "source": [
    "# 테스트 정확도 출력\n",
    "print(\"\\n Test Accuracy : %.4f\" % (model.evaluate(x_test, y_test, verbose=0)[1]))"
   ]
  },
  {
   "cell_type": "code",
   "execution_count": 46,
   "metadata": {},
   "outputs": [],
   "source": [
    "# 테스트셋의 오차\n",
    "y_vloss = history.history['val_loss']\n",
    "\n",
    "# 학습셋의 오차\n",
    "y_loss = history.history['loss']"
   ]
  },
  {
   "cell_type": "code",
   "execution_count": 47,
   "metadata": {},
   "outputs": [
    {
     "data": {
      "image/png": "[encoded data removed]",
      "text/plain": [
       "<Figure size 576x432 with 1 Axes>"
      ]
     },
     "metadata": {
      "needs_background": "light"
     },
     "output_type": "display_data"
    }
   ],
   "source": [
    "# 그래프로 표현\n",
    "x_len = np.arange(1, len(y_loss) + 1)\n",
    "plt.figure(figsize=(8,6))\n",
    "plt.plot(x_len, y_vloss, marker='.', c=\"red\", label=\"Testset_loss\")\n",
    "plt.plot(x_len, y_loss, marker='.', c=\"blue\", label=\"Trainset_loss\")\n",
    "\n",
    "#그래프에 그리드를 주고 레이블을 표시\n",
    "plt.legend(loc='upper right')\n",
    "# plt.axis([0, 20, 0, 0.35])\n",
    "plt.grid()\n",
    "plt.xlabel('epoch')\n",
    "plt.ylabel('loss')\n",
    "plt.show()"
   ]
  },
  {
   "cell_type": "markdown",
   "metadata": {},
   "source": [
    "### 결론 : Best Model은 Epoch 15, 정확도는 99.21%"
   ]
  },
  {
   "cell_type": "code",
   "execution_count": null,
   "metadata": {},
   "outputs": [],
   "source": []
  },
  {
   "cell_type": "code",
   "execution_count": null,
   "metadata": {},
   "outputs": [],
   "source": []
  },
  {
   "cell_type": "code",
   "execution_count": null,
   "metadata": {},
   "outputs": [],
   "source": []
  },
  {
   "cell_type": "code",
   "execution_count": null,
   "metadata": {},
   "outputs": [],
   "source": []
  },
  {
   "cell_type": "code",
   "execution_count": null,
   "metadata": {},
   "outputs": [],
   "source": []
  },
  {
   "cell_type": "code",
   "execution_count": null,
   "metadata": {},
   "outputs": [],
   "source": []
  },
  {
   "cell_type": "code",
   "execution_count": null,
   "metadata": {},
   "outputs": [],
   "source": []
  },
  {
   "cell_type": "code",
   "execution_count": null,
   "metadata": {},
   "outputs": [],
   "source": []
  },
  {
   "cell_type": "code",
   "execution_count": null,
   "metadata": {},
   "outputs": [],
   "source": []
  },
  {
   "cell_type": "code",
   "execution_count": null,
   "metadata": {},
   "outputs": [],
   "source": []
  },
  {
   "cell_type": "code",
   "execution_count": null,
   "metadata": {},
   "outputs": [],
   "source": []
  },
  {
   "cell_type": "code",
   "execution_count": null,
   "metadata": {},
   "outputs": [],
   "source": []
  },
  {
   "cell_type": "code",
   "execution_count": null,
   "metadata": {},
   "outputs": [],
   "source": []
  },
  {
   "cell_type": "code",
   "execution_count": null,
   "metadata": {},
   "outputs": [],
   "source": []
  }
 ],
 "metadata": {
  "kernelspec": {
   "display_name": "Python 3",
   "language": "python",
   "name": "python3"
  },
  "language_info": {
   "codemirror_mode": {
    "name": "ipython",
    "version": 3
   },
   "file_extension": ".py",
   "mimetype": "text/x-python",
   "name": "python",
   "nbconvert_exporter": "python",
   "pygments_lexer": "ipython3",
   "version": "3.7.7"
  }
 },
 "nbformat": 4,
 "nbformat_minor": 4
}
